{
 "cells": [
  {
   "cell_type": "markdown",
   "metadata": {},
   "source": [
    "## Using helix_funcs\n",
    "\n",
    "An example of how to use the helix_funcs module to process the HelixScope datafiles, and generate a master output table.\n",
    "\n",
    "Process_files should generate a similarly named csv file in the process folder.\n",
    "combine_processed "
   ]
  },
  {
   "cell_type": "code",
   "execution_count": 2,
   "metadata": {
    "collapsed": false
   },
   "outputs": [],
   "source": [
    "import helix_funcs\n",
    "import geopandas as gpd\n",
    "import pandas as pd\n",
    "# from tqdm import tqdm\n",
    "import matplotlib.pyplot as plt\n",
    "%matplotlib inline"
   ]
  },
  {
   "cell_type": "code",
   "execution_count": 3,
   "metadata": {
    "collapsed": true
   },
   "outputs": [],
   "source": [
    "#s = gpd.read_file('./data/gadm28_adm1/gadm28_adm1.shp')\n",
    "#s = s.to_crs(epsg='4326')\n",
    "s = gpd.read_file('./data/gadm28_countries/gadm28_countries.shp')\n",
    "#s = gpd.read_file(\"./data/gadm28_adm0_simplified/gadm28_adm0_simplified.shp\")  # <--- ADMIN LEVEL 0\n",
    "#s = gpd.read_file(\"./data/gadm28_adm1_simplified/gadm28_adm1_simplified.shp\")   # <--- ADMIN LEVEL 1"
   ]
  },
  {
   "cell_type": "code",
   "execution_count": 4,
   "metadata": {
    "collapsed": true
   },
   "outputs": [],
   "source": [
    "fs = helix_funcs.identify_netcdf_and_csv_files()"
   ]
  },
  {
   "cell_type": "code",
   "execution_count": 5,
   "metadata": {
    "collapsed": false
   },
   "outputs": [
    {
     "data": {
      "text/plain": [
       "['data/UEA_data/climate/tx/HADGEM3-R3.SWL_4.cl.tx.MAM.nc']"
      ]
     },
     "execution_count": 5,
     "metadata": {},
     "output_type": "execute_result"
    }
   ],
   "source": [
    "fs['nc'][100:101]"
   ]
  },
  {
   "cell_type": "code",
   "execution_count": null,
   "metadata": {
    "collapsed": true
   },
   "outputs": [],
   "source": []
  },
  {
   "cell_type": "code",
   "execution_count": 6,
   "metadata": {
    "collapsed": false
   },
   "outputs": [
    {
     "name": "stdout",
     "output_type": "stream",
     "text": [
      "working on  admin0/\n",
      "Processing 'data/UEA_data/climate/tx/HADGEM3-R3.SWL_4.cl.tx.MAM.nc'\n",
      "CPU times: user 12.9 s, sys: 150 ms, total: 13 s\n",
      "Wall time: 13.6 s\n"
     ]
    }
   ],
   "source": [
    "%%time\n",
    "for f in fs['nc'][100:101]:\n",
    "    helix_funcs.process_file(file=f, shps=s, admin_level=0, overwrite=True, verbose=True)"
   ]
  },
  {
   "cell_type": "markdown",
   "metadata": {},
   "source": [
    "# Note:\n",
    "\n",
    "Dont process the monthly data, but note that the seasonal data e.g. MAM need to be checked in the parsing, as the variables are not being properly selected.\n",
    "\n",
    "Also check that all the metadata is being parased when the new country level shapes are uses.\n",
    "\n",
    "Create 10x10 degree grid to cover the globe. Intersect it with land areas. Create an ID for each shape. Run the pipeline against those shapes to create a coarse gridded dataset."
   ]
  },
  {
   "cell_type": "code",
   "execution_count": 8,
   "metadata": {
    "collapsed": false
   },
   "outputs": [],
   "source": [
    "x = pd.read_csv(\"./processed/admin0/UEA_data/climate/tx/HADGEM3-R3.SWL_4.cl.tx.MAM.csv\")"
   ]
  },
  {
   "cell_type": "code",
   "execution_count": 11,
   "metadata": {
    "collapsed": false
   },
   "outputs": [
    {
     "data": {
      "text/html": [
       "<div>\n",
       "<style>\n",
       "    .dataframe thead tr:only-child th {\n",
       "        text-align: right;\n",
       "    }\n",
       "\n",
       "    .dataframe thead th {\n",
       "        text-align: left;\n",
       "    }\n",
       "\n",
       "    .dataframe tbody tr th {\n",
       "        vertical-align: top;\n",
       "    }\n",
       "</style>\n",
       "<table border=\"1\" class=\"dataframe\">\n",
       "  <thead>\n",
       "    <tr style=\"text-align: right;\">\n",
       "      <th></th>\n",
       "      <th>name_0</th>\n",
       "      <th>iso</th>\n",
       "      <th>variable</th>\n",
       "      <th>swl_info</th>\n",
       "      <th>count</th>\n",
       "      <th>max</th>\n",
       "      <th>min</th>\n",
       "      <th>mean</th>\n",
       "      <th>std</th>\n",
       "      <th>impact_tag</th>\n",
       "      <th>institution</th>\n",
       "      <th>model_long_name</th>\n",
       "      <th>model_short_name</th>\n",
       "      <th>model_taxonomy</th>\n",
       "      <th>is_multi_model_summary</th>\n",
       "      <th>is_seasonal</th>\n",
       "      <th>season</th>\n",
       "      <th>is_monthly</th>\n",
       "      <th>month</th>\n",
       "    </tr>\n",
       "  </thead>\n",
       "  <tbody>\n",
       "    <tr>\n",
       "      <th>155</th>\n",
       "      <td>South Sudan</td>\n",
       "      <td>SSD</td>\n",
       "      <td>tx</td>\n",
       "      <td>4.0</td>\n",
       "      <td>255</td>\n",
       "      <td>45.081566</td>\n",
       "      <td>34.072529</td>\n",
       "      <td>40.970466</td>\n",
       "      <td>2.453321</td>\n",
       "      <td>cl</td>\n",
       "      <td>NaN</td>\n",
       "      <td>HADGEM3-R3</td>\n",
       "      <td>HADGEM3</td>\n",
       "      <td>HADGEM3-R3</td>\n",
       "      <td>False</td>\n",
       "      <td>True</td>\n",
       "      <td>MAM</td>\n",
       "      <td>False</td>\n",
       "      <td>NaN</td>\n",
       "    </tr>\n",
       "  </tbody>\n",
       "</table>\n",
       "</div>"
      ],
      "text/plain": [
       "          name_0  iso variable  swl_info  count        max        min  \\\n",
       "155  South Sudan  SSD       tx       4.0    255  45.081566  34.072529   \n",
       "\n",
       "          mean       std impact_tag  institution model_long_name  \\\n",
       "155  40.970466  2.453321         cl          NaN      HADGEM3-R3   \n",
       "\n",
       "    model_short_name model_taxonomy  is_multi_model_summary  is_seasonal  \\\n",
       "155          HADGEM3     HADGEM3-R3                   False         True   \n",
       "\n",
       "    season  is_monthly  month  \n",
       "155    MAM       False    NaN  "
      ]
     },
     "execution_count": 11,
     "metadata": {},
     "output_type": "execute_result"
    }
   ],
   "source": [
    "x[x['iso'] == 'SSD']"
   ]
  },
  {
   "cell_type": "code",
   "execution_count": null,
   "metadata": {
    "collapsed": false
   },
   "outputs": [],
   "source": [
    "f = 'data/UEA_data/climate/tx/HADGEM3-R3.SWL_4.cl.tx.MAM.nc'\n",
    "print(f)\n",
    "extract_medata_from_filename(f)"
   ]
  },
  {
   "cell_type": "code",
   "execution_count": null,
   "metadata": {
    "collapsed": false
   },
   "outputs": [],
   "source": []
  },
  {
   "cell_type": "code",
   "execution_count": null,
   "metadata": {
    "collapsed": false
   },
   "outputs": [],
   "source": [
    "fs"
   ]
  },
  {
   "cell_type": "code",
   "execution_count": null,
   "metadata": {
    "collapsed": true
   },
   "outputs": [],
   "source": [
    "seasons = [\"MAM\", \"JJA\", \"SON\", \"DJF\"]\n",
    "\n",
    "months = [\"Jan\", \"Feb\", \"Mar\", \"Apr\", \"May\", \"Jun\", \"Jul\", \"Aug\", \"Sep\", \"Oct\", \"Nov\", \"Dec\"]"
   ]
  },
  {
   "cell_type": "markdown",
   "metadata": {},
   "source": [
    "### Speed up \n",
    "\n",
    "Looks like we achieve a 34 second execution per file (down from 2 mins) when we use a simplifed set of geometries.\n",
    "\n",
    "\n",
    "\n",
    "## Investiage areas with no zonal stats\n",
    "\n",
    "Seems like small areas are failing. Need to investigate best way to handle this."
   ]
  },
  {
   "cell_type": "markdown",
   "metadata": {
    "collapsed": true
   },
   "source": [
    "* check simple shapes produce same number of elements as complex shapes - confimred\n",
    "* check shapefile has same number of shapes as output file - confirmed\n",
    "* check simple and complex processed results for same file show good agreement. - confirmed\n",
    "\n",
    "* Add kwarg for ADMIN0 or Admin1. Have a differnt root folder for both in processed data.\n",
    "* MOVE alredy processed ADMIN1 level data to the `processed/admin1/` directory - Failed. Columns changed. Will need to recalculate :(\n",
    "* SIMPLIFY the ADMIN-0 level geometry file as I did with the ADMIN1 file. - confirmed\n",
    "* RUN ADMIN0 for all data.\n",
    "\n",
    "Perhaps we should have two tables: ADMIN0 level (based on simplified shapes), and ADMIN1 level.\n",
    "\n",
    "The ADMIN 0 level makes sense to calculate (mean, min, max, stdev), as those shapes should be large. BUT for ADMIN 1 level, the shapes can be far smaller. In which case it doesnt make sense to calculate those stats for every shape.\n",
    "\n",
    "* given time, we could work out which shapes it makes sense for (e.g. with counts > 3) and make some distinction.\n",
    "* with short time (which is the case) it maybe only makes sense to offer mean over those areas (which in most cases will be the mean of 1 cell (i.e. simply the value of the gridcell).\n",
    "\n",
    "\n",
    "THEREFORE:\n",
    "\n",
    "1. Process all data to ADMIN 0 (using simplified country shapes)\n",
    "    * use this as MVP\n",
    "2. CALCULATE TIME RELATIVE STATISTICS\n",
    "    * i.e. for datatets with Month distinctions calculate the seasonality\n",
    "3. Attempt to do the ADMIN 1 level data.\n",
    "\n",
    "# Deal with outputs\n",
    "\n",
    "Reduce significant digits. Join together dataframes."
   ]
  },
  {
   "cell_type": "code",
   "execution_count": null,
   "metadata": {
    "collapsed": false
   },
   "outputs": [],
   "source": [
    "fs = helix_funcs.identify_netcdf_and_csv_files()"
   ]
  },
  {
   "cell_type": "code",
   "execution_count": null,
   "metadata": {
    "collapsed": false
   },
   "outputs": [],
   "source": [
    "len(fs['csv'])"
   ]
  },
  {
   "cell_type": "code",
   "execution_count": null,
   "metadata": {
    "collapsed": false
   },
   "outputs": [],
   "source": [
    "%%time\n",
    "helix_funcs.combine_processed_results(path='./processed/admin0',\n",
    "                                      table_name='./master_admin0.csv')  #<-- join all results files together into a master_admin1.csv"
   ]
  },
  {
   "cell_type": "code",
   "execution_count": null,
   "metadata": {
    "collapsed": true
   },
   "outputs": [],
   "source": [
    "tmp = pd.read_csv('./master_admin0.csv')"
   ]
  },
  {
   "cell_type": "code",
   "execution_count": null,
   "metadata": {
    "collapsed": false
   },
   "outputs": [],
   "source": [
    "len(tmp)"
   ]
  },
  {
   "cell_type": "code",
   "execution_count": null,
   "metadata": {
    "collapsed": false
   },
   "outputs": [],
   "source": [
    "tmp.head()"
   ]
  },
  {
   "cell_type": "code",
   "execution_count": null,
   "metadata": {
    "collapsed": false
   },
   "outputs": [],
   "source": [
    "print(len(tmp['impact_tag'].unique()),'\\n')\n",
    "for var in (tmp['impact_tag'].unique()):\n",
    "    print(var)"
   ]
  },
  {
   "cell_type": "code",
   "execution_count": null,
   "metadata": {
    "collapsed": false
   },
   "outputs": [],
   "source": [
    "mask = tmp['variable'] == 'Rice_yield_perc_change' #'river_floods_PopAff' #\"river_floods_ExpDam\"\n",
    "shorter = tmp[mask]"
   ]
  },
  {
   "cell_type": "code",
   "execution_count": null,
   "metadata": {
    "collapsed": false
   },
   "outputs": [],
   "source": [
    "shorter.head()"
   ]
  },
  {
   "cell_type": "code",
   "execution_count": null,
   "metadata": {
    "collapsed": false
   },
   "outputs": [],
   "source": [
    "shorter['swl_info'].unique()"
   ]
  },
  {
   "cell_type": "code",
   "execution_count": null,
   "metadata": {
    "collapsed": true
   },
   "outputs": [],
   "source": []
  },
  {
   "cell_type": "code",
   "execution_count": null,
   "metadata": {
    "collapsed": true
   },
   "outputs": [],
   "source": []
  },
  {
   "cell_type": "code",
   "execution_count": null,
   "metadata": {
    "collapsed": true
   },
   "outputs": [],
   "source": []
  },
  {
   "cell_type": "code",
   "execution_count": null,
   "metadata": {
    "collapsed": true
   },
   "outputs": [],
   "source": []
  },
  {
   "cell_type": "code",
   "execution_count": null,
   "metadata": {
    "collapsed": true
   },
   "outputs": [],
   "source": [
    "tmp = pd.read_csv(\"./master_admin0.csv\")\n",
    "tmp.head()"
   ]
  },
  {
   "cell_type": "code",
   "execution_count": null,
   "metadata": {
    "collapsed": true
   },
   "outputs": [],
   "source": [
    "set(tmp['iso'].values)"
   ]
  },
  {
   "cell_type": "code",
   "execution_count": null,
   "metadata": {
    "collapsed": true
   },
   "outputs": [],
   "source": [
    "is_season = tmp['is_seasonal'] == True\n",
    "print((len(tmp[is_season])/len(tmp)) * 100.,\"% has seasonal data\")"
   ]
  },
  {
   "cell_type": "code",
   "execution_count": null,
   "metadata": {
    "collapsed": true
   },
   "outputs": [],
   "source": [
    "is_season = tmp['is_monthly'] == True\n",
    "print((len(tmp[is_season])/len(tmp)) * 100.,\"% has monthly data\")"
   ]
  },
  {
   "cell_type": "code",
   "execution_count": null,
   "metadata": {
    "collapsed": true
   },
   "outputs": [],
   "source": []
  },
  {
   "cell_type": "code",
   "execution_count": null,
   "metadata": {
    "collapsed": true
   },
   "outputs": [],
   "source": []
  },
  {
   "cell_type": "code",
   "execution_count": null,
   "metadata": {
    "collapsed": true
   },
   "outputs": [],
   "source": [
    "output_files = helix_funcs.identify_netcdf_and_csv_files('processed/')"
   ]
  },
  {
   "cell_type": "code",
   "execution_count": null,
   "metadata": {
    "collapsed": true
   },
   "outputs": [],
   "source": [
    "len(output_files['csv'])"
   ]
  },
  {
   "cell_type": "code",
   "execution_count": null,
   "metadata": {
    "collapsed": true
   },
   "outputs": [],
   "source": [
    "tmp = pd.read_csv(outputs['csv'][-1])"
   ]
  },
  {
   "cell_type": "code",
   "execution_count": null,
   "metadata": {
    "collapsed": true
   },
   "outputs": [],
   "source": [
    "country_mask = tmp['iso'] == 'ESP'"
   ]
  },
  {
   "cell_type": "code",
   "execution_count": null,
   "metadata": {
    "collapsed": true
   },
   "outputs": [],
   "source": [
    "tmp = tmp[country_mask].head()"
   ]
  },
  {
   "cell_type": "code",
   "execution_count": null,
   "metadata": {
    "collapsed": true
   },
   "outputs": [],
   "source": [
    "admin_mask = tmp['id_1'] == 1"
   ]
  },
  {
   "cell_type": "code",
   "execution_count": null,
   "metadata": {
    "collapsed": true
   },
   "outputs": [],
   "source": [
    "tmp['id_1'].unique()"
   ]
  },
  {
   "cell_type": "markdown",
   "metadata": {},
   "source": [
    "## Test plots\n",
    "\n",
    "We need to make an easy way to preview how a specific variables choropleths will appear.\n",
    "This means read a file, and make a preview plot using geopandas.\n"
   ]
  },
  {
   "cell_type": "code",
   "execution_count": null,
   "metadata": {
    "collapsed": true
   },
   "outputs": [],
   "source": [
    "output_files = helix_funcs.identify_netcdf_and_csv_files('processed/')"
   ]
  },
  {
   "cell_type": "code",
   "execution_count": null,
   "metadata": {
    "collapsed": true
   },
   "outputs": [],
   "source": [
    "helix_funcs.map_file_by_iso(f=output_files['csv'][10], s=s, iso='FRA')"
   ]
  },
  {
   "cell_type": "code",
   "execution_count": null,
   "metadata": {
    "collapsed": true
   },
   "outputs": [],
   "source": []
  },
  {
   "cell_type": "markdown",
   "metadata": {},
   "source": [
    "## SIMPLIFY LIFE!\n",
    "\n",
    "Before passing the polygons for zonal analysis, they should be simplified. \n",
    "Looks like the call should be `stest.geometry.simplify(0.2, preserve_topology=False)`\n",
    "\n",
    "The geometry files themsevels should be simplified, and read in already done. I have another notebook to simply (and correct) these data."
   ]
  },
  {
   "cell_type": "code",
   "execution_count": null,
   "metadata": {
    "collapsed": true
   },
   "outputs": [],
   "source": [
    "stest.geometry.simplify(0.2, preserve_topology=False).plot()"
   ]
  },
  {
   "cell_type": "code",
   "execution_count": null,
   "metadata": {
    "collapsed": true
   },
   "outputs": [],
   "source": [
    "stest = s[s['iso'] == 'BRA']\n",
    "stest.geometry.plot()"
   ]
  },
  {
   "cell_type": "code",
   "execution_count": null,
   "metadata": {
    "collapsed": true
   },
   "outputs": [],
   "source": [
    "stest.geometry.simplify(0.2, preserve_topology=True).plot()"
   ]
  },
  {
   "cell_type": "code",
   "execution_count": null,
   "metadata": {
    "collapsed": true
   },
   "outputs": [],
   "source": []
  },
  {
   "cell_type": "code",
   "execution_count": null,
   "metadata": {
    "collapsed": true
   },
   "outputs": [],
   "source": []
  },
  {
   "cell_type": "markdown",
   "metadata": {},
   "source": [
    "## Next Step\n",
    "\n",
    "Work out problem of small shapes (probably will need to have a logical test for small shapes, and buffer the geom before zonal stats are calculated). Perhaps this should even be done prior to any loop, initially when the shapes are calculaed.\n",
    "\n",
    "First can look and see what admins are absent from file (to see where the problem lies).\n",
    "\n",
    "Test with simplifed shapes.\n",
    "\n",
    "#### REDUCE SIZE OF FINAL DATA BY removing significant digits from values\n",
    "e.g. 10.6466969914 should be converted to simply 10.6\n",
    "\n",
    "\n",
    "\n"
   ]
  },
  {
   "cell_type": "code",
   "execution_count": null,
   "metadata": {
    "collapsed": true
   },
   "outputs": [],
   "source": [
    "def combine_processed_results(path='./processed/admin1',\n",
    "                              table_name=\"./master_admin1.csv\"):\n",
    "    \"\"\"Combine all the csv files in the path (e.g. all processed files)\n",
    "    into a single master table\n",
    "    \"\"\"\n",
    "    output_files = identify_netcdf_and_csv_files(path)\n",
    "    frames = [pd.read_csv(csv_file) for csv_file in output_files['csv']]\n",
    "    master_table = pd.concat(frames)\n",
    "    master_table.to_csv(table_name, index=False)\n",
    "    print(\"Made {0}: {1:,g} rows of data. {2:,g} sources.\".format(table_name,\n",
    "                                                        len(master_table),\n",
    "                                                        len(output_files['csv'])\n",
    "                                                                 ))\n",
    "    return\n"
   ]
  },
  {
   "cell_type": "code",
   "execution_count": null,
   "metadata": {
    "collapsed": true
   },
   "outputs": [],
   "source": [
    "path='./processed'\n",
    "output_files = helix_funcs.identify_netcdf_and_csv_files(path)\n",
    "frames = [pd.read_csv(csv_file) for csv_file in output_files['csv'][0:10]]"
   ]
  },
  {
   "cell_type": "code",
   "execution_count": null,
   "metadata": {
    "collapsed": true
   },
   "outputs": [],
   "source": [
    "for  n, frame in enumerate(frames):\n",
    "    print(n, min(frames[0]['min']), max(frames[0]['min']), min(frames[0]['max']), max(frames[0]['max']), )"
   ]
  },
  {
   "cell_type": "code",
   "execution_count": null,
   "metadata": {
    "collapsed": true
   },
   "outputs": [],
   "source": [
    "frames[0].head()"
   ]
  },
  {
   "cell_type": "code",
   "execution_count": null,
   "metadata": {
    "collapsed": true
   },
   "outputs": [],
   "source": [
    "test = frames[0].round(1)"
   ]
  },
  {
   "cell_type": "code",
   "execution_count": null,
   "metadata": {
    "collapsed": true
   },
   "outputs": [],
   "source": [
    "admin_level = 0\n",
    "\n",
    "if admin_level == 0:\n",
    "    admin_prefix = 'admin0/'\n",
    "elif admin_level == 1:\n",
    "    admin_prefix = 'admin1/'\n",
    "else:\n",
    "    raise ValueError(\"admin_level kwarg must be either 0 or 1\")\n",
    "print(admin_prefix)"
   ]
  },
  {
   "cell_type": "code",
   "execution_count": null,
   "metadata": {
    "collapsed": true
   },
   "outputs": [],
   "source": []
  }
 ],
 "metadata": {
  "anaconda-cloud": {},
  "kernelspec": {
   "display_name": "Python 3",
   "language": "python",
   "name": "python3"
  },
  "language_info": {
   "codemirror_mode": {
    "name": "ipython",
    "version": 3
   },
   "file_extension": ".py",
   "mimetype": "text/x-python",
   "name": "python",
   "nbconvert_exporter": "python",
   "pygments_lexer": "ipython3",
   "version": "3.5.3"
  }
 },
 "nbformat": 4,
 "nbformat_minor": 2
}
