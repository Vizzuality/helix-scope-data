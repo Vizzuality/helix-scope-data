{
 "cells": [
  {
   "cell_type": "markdown",
   "metadata": {},
   "source": [
    "# Simplify Polygons\n",
    "\n",
    "Since the volume of data is large, but spatially these data are coarse, there is no need to use shapes which have a high-spatial resolution. In fact that would be a bad idea, as that will slow down the processing time needlessly. \n",
    "\n",
    "So, what we will do, is generate a set of simplified geometries to work from in the following process:\n",
    "\n",
    "1. Read a GADAM28 shapefile (global and Admin 1 level)\n",
    "2. Extract the geometries, and simplify them to a degree that makes sense for the project.\n",
    "3. Extract columns of data which are relevant to the project (e.g. Country name, iso. etc)\n",
    "4. Create a new geopandas dataframe with these data\n",
    "5. Write out these data to a shapefile\n",
    "6. Use the new, minified data, as the shapes for our zonal analysis project.\n",
    "\n",
    "Testing shows using the simplified shapes (with topology preserved) results in a 400% speedup (process a file in 30 seconds rather than 2 mins).\n",
    "\n",
    "Now we need to work out how to deal with areas that return no values... (My imediate feeling is that if we need a fast turnaround on this project then we could simply buffer the smallest geometries and process like the others: this would still likely achieve a good result for the project. Experiment with this...)"
   ]
  },
  {
   "cell_type": "code",
   "execution_count": 34,
   "metadata": {
    "collapsed": true
   },
   "outputs": [],
   "source": [
    "import geopandas as gpd\n",
    "import pandas as pd\n",
    "import warnings\n",
    "warnings.filterwarnings('ignore')\n",
    "%matplotlib inline"
   ]
  },
  {
   "cell_type": "code",
   "execution_count": 2,
   "metadata": {
    "collapsed": true
   },
   "outputs": [],
   "source": [
    "s = gpd.read_file('./data/gadm28_adm1/gadm28_adm1.shp')"
   ]
  },
  {
   "cell_type": "code",
   "execution_count": 3,
   "metadata": {
    "collapsed": true
   },
   "outputs": [],
   "source": [
    "s = s.to_crs(epsg='4326')"
   ]
  },
  {
   "cell_type": "code",
   "execution_count": 17,
   "metadata": {
    "collapsed": true
   },
   "outputs": [],
   "source": [
    "tmp_geoms = s.geometry.simplify(0.2, preserve_topology=True)  # Gives all little areas\n",
    "#tmp_geoms = s.geometry.simplify(0.2, preserve_topology=False)  # removes all little areas (no point calculating)"
   ]
  },
  {
   "cell_type": "code",
   "execution_count": 18,
   "metadata": {
    "collapsed": true
   },
   "outputs": [],
   "source": [
    "new_data = []\n",
    "for row_index in s.index:\n",
    "    new_data.append([s['iso'][row_index],\n",
    "                     s['name_0'][row_index],\n",
    "                     s['id_1'][row_index],\n",
    "                     s['name_1'][row_index],\n",
    "                     s['type_1'][row_index],\n",
    "                    ])"
   ]
  },
  {
   "cell_type": "code",
   "execution_count": 19,
   "metadata": {
    "collapsed": true
   },
   "outputs": [],
   "source": [
    "smaller_df = gpd.GeoDataFrame(pd.DataFrame(new_data,\n",
    "                                        columns=['iso','name_0','id_1','name_1','type_1'])\n",
    "                           , geometry=tmp_geoms)\n"
   ]
  },
  {
   "cell_type": "code",
   "execution_count": 28,
   "metadata": {
    "collapsed": false
   },
   "outputs": [],
   "source": [
    "#null_geom_mask = smaller_df.geometry.area != 0.0"
   ]
  },
  {
   "cell_type": "code",
   "execution_count": 32,
   "metadata": {
    "collapsed": false
   },
   "outputs": [
    {
     "data": {
      "text/plain": [
       "902"
      ]
     },
     "execution_count": 32,
     "metadata": {},
     "output_type": "execute_result"
    }
   ],
   "source": [
    "#len(s) - len(smaller_df[null_geom_mask])"
   ]
  },
  {
   "cell_type": "markdown",
   "metadata": {},
   "source": [
    "In simplifying the geometries and not preserving the smallest areas we loose ~902 admin1 areas out of 3,609.\n",
    "These would have been too calculate anything with anyway.\n",
    "\n",
    "Not sure what they should show on the front end currently. Either a greyed out area, or an association to the nearest polygon? Ideally they should be associated with the cell they coresspond to.\n",
    "\n",
    "They would have no values for std, mean, min, max etc if they only occupy one gridcell. "
   ]
  },
  {
   "cell_type": "code",
   "execution_count": 31,
   "metadata": {
    "collapsed": false
   },
   "outputs": [
    {
     "data": {
      "text/plain": [
       "3609"
      ]
     },
     "execution_count": 31,
     "metadata": {},
     "output_type": "execute_result"
    }
   ],
   "source": []
  },
  {
   "cell_type": "code",
   "execution_count": null,
   "metadata": {
    "collapsed": true
   },
   "outputs": [],
   "source": [
    "smaller_df.to_file(\"./data/gadm28_adm1_simplified/gadm28_adm1_simplified.shp\", driver='ESRI Shapefile')"
   ]
  },
  {
   "cell_type": "code",
   "execution_count": 33,
   "metadata": {
    "collapsed": false
   },
   "outputs": [],
   "source": [
    "#smaller_df[null_geom_mask].to_file(\"./data/gadm28_adm1_simplified_topolost/gadm28_adm1_simplified_topolost.shp\", driver='ESRI Shapefile')"
   ]
  },
  {
   "cell_type": "code",
   "execution_count": 16,
   "metadata": {
    "collapsed": false
   },
   "outputs": [
    {
     "data": {
      "text/html": [
       "<div>\n",
       "<style>\n",
       "    .dataframe thead tr:only-child th {\n",
       "        text-align: right;\n",
       "    }\n",
       "\n",
       "    .dataframe thead th {\n",
       "        text-align: left;\n",
       "    }\n",
       "\n",
       "    .dataframe tbody tr th {\n",
       "        vertical-align: top;\n",
       "    }\n",
       "</style>\n",
       "<table border=\"1\" class=\"dataframe\">\n",
       "  <thead>\n",
       "    <tr style=\"text-align: right;\">\n",
       "      <th></th>\n",
       "      <th>iso</th>\n",
       "      <th>name_0</th>\n",
       "      <th>id_1</th>\n",
       "      <th>name_1</th>\n",
       "      <th>type_1</th>\n",
       "      <th>geometry</th>\n",
       "    </tr>\n",
       "  </thead>\n",
       "  <tbody>\n",
       "    <tr>\n",
       "      <th>0</th>\n",
       "      <td>MEX</td>\n",
       "      <td>Mexico</td>\n",
       "      <td>9</td>\n",
       "      <td>Ciudad de México</td>\n",
       "      <td>Distrito Federal</td>\n",
       "      <td>POLYGON ((-98.86537933349609 19.07119178771973...</td>\n",
       "    </tr>\n",
       "    <tr>\n",
       "      <th>1</th>\n",
       "      <td>HTI</td>\n",
       "      <td>Haiti</td>\n",
       "      <td>3</td>\n",
       "      <td>L'Artibonite</td>\n",
       "      <td>Département</td>\n",
       "      <td>(POLYGON ((-72.73760986328119 19.3176879882813...</td>\n",
       "    </tr>\n",
       "    <tr>\n",
       "      <th>2</th>\n",
       "      <td>HND</td>\n",
       "      <td>Honduras</td>\n",
       "      <td>1</td>\n",
       "      <td>Atlántida</td>\n",
       "      <td>Departamento</td>\n",
       "      <td>(POLYGON ((-86.77486419677734 15.8001394271851...</td>\n",
       "    </tr>\n",
       "    <tr>\n",
       "      <th>3</th>\n",
       "      <td>HND</td>\n",
       "      <td>Honduras</td>\n",
       "      <td>3</td>\n",
       "      <td>Colón</td>\n",
       "      <td>Departamento</td>\n",
       "      <td>(POLYGON ((-85.68819427490229 15.9501380920411...</td>\n",
       "    </tr>\n",
       "    <tr>\n",
       "      <th>4</th>\n",
       "      <td>GUY</td>\n",
       "      <td>Guyana</td>\n",
       "      <td>9</td>\n",
       "      <td>Upper Demerara-Berbice</td>\n",
       "      <td>Region</td>\n",
       "      <td>(POLYGON ((-58.58569335937499 6.33930492401128...</td>\n",
       "    </tr>\n",
       "    <tr>\n",
       "      <th>5</th>\n",
       "      <td>HND</td>\n",
       "      <td>Honduras</td>\n",
       "      <td>9</td>\n",
       "      <td>Gracias a Dios</td>\n",
       "      <td>Departamento</td>\n",
       "      <td>(POLYGON ((-84.92382812499994 14.7528009414673...</td>\n",
       "    </tr>\n",
       "    <tr>\n",
       "      <th>6</th>\n",
       "      <td>HND</td>\n",
       "      <td>Honduras</td>\n",
       "      <td>15</td>\n",
       "      <td>Olancho</td>\n",
       "      <td>Departamento</td>\n",
       "      <td>POLYGON ((-84.99401855468744 15.0612087249757,...</td>\n",
       "    </tr>\n",
       "    <tr>\n",
       "      <th>7</th>\n",
       "      <td>HND</td>\n",
       "      <td>Honduras</td>\n",
       "      <td>17</td>\n",
       "      <td>Valle</td>\n",
       "      <td>Departamento</td>\n",
       "      <td>(POLYGON ((-87.64097595214842 13.2987508773804...</td>\n",
       "    </tr>\n",
       "    <tr>\n",
       "      <th>8</th>\n",
       "      <td>PRY</td>\n",
       "      <td>Paraguay</td>\n",
       "      <td>11</td>\n",
       "      <td>Concepción</td>\n",
       "      <td>Departamento</td>\n",
       "      <td>POLYGON ((-56.81581115722651 -22.2892055511474...</td>\n",
       "    </tr>\n",
       "    <tr>\n",
       "      <th>9</th>\n",
       "      <td>PRY</td>\n",
       "      <td>Paraguay</td>\n",
       "      <td>14</td>\n",
       "      <td>Itapúa</td>\n",
       "      <td>Departamento</td>\n",
       "      <td>POLYGON ((-55.3094596862793 -26.10110855102533...</td>\n",
       "    </tr>\n",
       "    <tr>\n",
       "      <th>10</th>\n",
       "      <td>SYC</td>\n",
       "      <td>Seychelles</td>\n",
       "      <td>20</td>\n",
       "      <td>Outer Islands</td>\n",
       "      <td>Outer Islands</td>\n",
       "      <td>(POLYGON ((53.38784790039067 -4.87818288803094...</td>\n",
       "    </tr>\n",
       "    <tr>\n",
       "      <th>11</th>\n",
       "      <td>ZMB</td>\n",
       "      <td>Zambia</td>\n",
       "      <td>9</td>\n",
       "      <td>Southern</td>\n",
       "      <td>Province</td>\n",
       "      <td>POLYGON ((27.76536941528326 -15.63295173645019...</td>\n",
       "    </tr>\n",
       "    <tr>\n",
       "      <th>12</th>\n",
       "      <td>BRA</td>\n",
       "      <td>Brazil</td>\n",
       "      <td>13</td>\n",
       "      <td>Minas Gerais</td>\n",
       "      <td>Estado</td>\n",
       "      <td>POLYGON ((-40.22235107421869 -17.9804267883300...</td>\n",
       "    </tr>\n",
       "    <tr>\n",
       "      <th>13</th>\n",
       "      <td>PER</td>\n",
       "      <td>Peru</td>\n",
       "      <td>6</td>\n",
       "      <td>Cajamarca</td>\n",
       "      <td>Región</td>\n",
       "      <td>POLYGON ((-78.70437622070301 -4.62342405319208...</td>\n",
       "    </tr>\n",
       "    <tr>\n",
       "      <th>14</th>\n",
       "      <td>PHL</td>\n",
       "      <td>Philippines</td>\n",
       "      <td>15</td>\n",
       "      <td>Bohol</td>\n",
       "      <td>Lalawigan|Probinsya</td>\n",
       "      <td>(POLYGON ((123.9216690063478 9.48583030700695,...</td>\n",
       "    </tr>\n",
       "    <tr>\n",
       "      <th>15</th>\n",
       "      <td>FSM</td>\n",
       "      <td>Micronesia</td>\n",
       "      <td>3</td>\n",
       "      <td>Pohnpei</td>\n",
       "      <td>State</td>\n",
       "      <td>(POLYGON ((154.2919464111329 8.14666652679449,...</td>\n",
       "    </tr>\n",
       "    <tr>\n",
       "      <th>16</th>\n",
       "      <td>NOR</td>\n",
       "      <td>Norway</td>\n",
       "      <td>11</td>\n",
       "      <td>Oppland</td>\n",
       "      <td>Fylke</td>\n",
       "      <td>POLYGON ((10.71406745910656 60.51467132568371,...</td>\n",
       "    </tr>\n",
       "    <tr>\n",
       "      <th>17</th>\n",
       "      <td>CRI</td>\n",
       "      <td>Costa Rica</td>\n",
       "      <td>6</td>\n",
       "      <td>Puntarenas</td>\n",
       "      <td>Provincia</td>\n",
       "      <td>(POLYGON ((-87.04792022705078 5.55680513381957...</td>\n",
       "    </tr>\n",
       "    <tr>\n",
       "      <th>18</th>\n",
       "      <td>ECU</td>\n",
       "      <td>Ecuador</td>\n",
       "      <td>1</td>\n",
       "      <td>Azuay</td>\n",
       "      <td>Provincia</td>\n",
       "      <td>POLYGON ((-78.55352020263672 -2.55621790885919...</td>\n",
       "    </tr>\n",
       "    <tr>\n",
       "      <th>19</th>\n",
       "      <td>MMR</td>\n",
       "      <td>Myanmar</td>\n",
       "      <td>12</td>\n",
       "      <td>Sagaing</td>\n",
       "      <td>Yin</td>\n",
       "      <td>POLYGON ((97.05889892578153 27.1140708923341, ...</td>\n",
       "    </tr>\n",
       "    <tr>\n",
       "      <th>20</th>\n",
       "      <td>MOZ</td>\n",
       "      <td>Mozambique</td>\n",
       "      <td>1</td>\n",
       "      <td>Cabo Delgado</td>\n",
       "      <td>Provincia</td>\n",
       "      <td>(POLYGON ((40.57347106933599 -12.8070840835571...</td>\n",
       "    </tr>\n",
       "    <tr>\n",
       "      <th>21</th>\n",
       "      <td>IND</td>\n",
       "      <td>India</td>\n",
       "      <td>24</td>\n",
       "      <td>Nagaland</td>\n",
       "      <td>State</td>\n",
       "      <td>POLYGON ((95.237632751465 26.6862907409668, 94...</td>\n",
       "    </tr>\n",
       "    <tr>\n",
       "      <th>22</th>\n",
       "      <td>PLW</td>\n",
       "      <td>Palau</td>\n",
       "      <td>4</td>\n",
       "      <td>Hatohobei</td>\n",
       "      <td>State</td>\n",
       "      <td>(POLYGON ((131.1239624023439 2.999167919158992...</td>\n",
       "    </tr>\n",
       "    <tr>\n",
       "      <th>23</th>\n",
       "      <td>MKD</td>\n",
       "      <td>Macedonia</td>\n",
       "      <td>16</td>\n",
       "      <td>Butel</td>\n",
       "      <td>Opština</td>\n",
       "      <td>POLYGON ((21.42593955993658 42.01013565063477,...</td>\n",
       "    </tr>\n",
       "    <tr>\n",
       "      <th>24</th>\n",
       "      <td>CAN</td>\n",
       "      <td>Canada</td>\n",
       "      <td>2</td>\n",
       "      <td>British Columbia</td>\n",
       "      <td>Province</td>\n",
       "      <td>(POLYGON ((-123.600830078125 48.31638717651367...</td>\n",
       "    </tr>\n",
       "    <tr>\n",
       "      <th>25</th>\n",
       "      <td>NGA</td>\n",
       "      <td>Nigeria</td>\n",
       "      <td>10</td>\n",
       "      <td>Delta</td>\n",
       "      <td>State</td>\n",
       "      <td>(POLYGON ((5.391528129577637 5.305139064788818...</td>\n",
       "    </tr>\n",
       "    <tr>\n",
       "      <th>26</th>\n",
       "      <td>NGA</td>\n",
       "      <td>Nigeria</td>\n",
       "      <td>33</td>\n",
       "      <td>Rivers</td>\n",
       "      <td>State</td>\n",
       "      <td>(POLYGON ((6.970417976379339 4.37958383560192,...</td>\n",
       "    </tr>\n",
       "    <tr>\n",
       "      <th>27</th>\n",
       "      <td>VNM</td>\n",
       "      <td>Vietnam</td>\n",
       "      <td>49</td>\n",
       "      <td>Quảng Ninh</td>\n",
       "      <td>Tỉnh</td>\n",
       "      <td>(POLYGON ((107.1509704589844 20.73736190795904...</td>\n",
       "    </tr>\n",
       "    <tr>\n",
       "      <th>28</th>\n",
       "      <td>VNM</td>\n",
       "      <td>Vietnam</td>\n",
       "      <td>57</td>\n",
       "      <td>Thanh Hóa</td>\n",
       "      <td>Tỉnh</td>\n",
       "      <td>(POLYGON ((105.9132614135744 19.31972122192383...</td>\n",
       "    </tr>\n",
       "    <tr>\n",
       "      <th>29</th>\n",
       "      <td>GUY</td>\n",
       "      <td>Guyana</td>\n",
       "      <td>4</td>\n",
       "      <td>East Berbice-Corentyne</td>\n",
       "      <td>Region</td>\n",
       "      <td>POLYGON ((-57.14674377441401 5.992897033691463...</td>\n",
       "    </tr>\n",
       "    <tr>\n",
       "      <th>...</th>\n",
       "      <td>...</td>\n",
       "      <td>...</td>\n",
       "      <td>...</td>\n",
       "      <td>...</td>\n",
       "      <td>...</td>\n",
       "      <td>...</td>\n",
       "    </tr>\n",
       "    <tr>\n",
       "      <th>3579</th>\n",
       "      <td>VNM</td>\n",
       "      <td>Vietnam</td>\n",
       "      <td>29</td>\n",
       "      <td>Hải Dương</td>\n",
       "      <td>Tỉnh</td>\n",
       "      <td>POLYGON ((106.5011444091797 21.22454071044922,...</td>\n",
       "    </tr>\n",
       "    <tr>\n",
       "      <th>3580</th>\n",
       "      <td>YEM</td>\n",
       "      <td>Yemen</td>\n",
       "      <td>16</td>\n",
       "      <td>Ma'rib</td>\n",
       "      <td>Muhafazah</td>\n",
       "      <td>POLYGON ((46.30601882934565 15.60621929168713,...</td>\n",
       "    </tr>\n",
       "    <tr>\n",
       "      <th>3581</th>\n",
       "      <td>VNM</td>\n",
       "      <td>Vietnam</td>\n",
       "      <td>39</td>\n",
       "      <td>Long An</td>\n",
       "      <td>Tỉnh</td>\n",
       "      <td>POLYGON ((106.1638717651369 10.97833061218273,...</td>\n",
       "    </tr>\n",
       "    <tr>\n",
       "      <th>3582</th>\n",
       "      <td>VNM</td>\n",
       "      <td>Vietnam</td>\n",
       "      <td>40</td>\n",
       "      <td>Nam Định</td>\n",
       "      <td>Tỉnh</td>\n",
       "      <td>(POLYGON ((106.4916687011719 20.19444084167492...</td>\n",
       "    </tr>\n",
       "    <tr>\n",
       "      <th>3583</th>\n",
       "      <td>YEM</td>\n",
       "      <td>Yemen</td>\n",
       "      <td>18</td>\n",
       "      <td>Sa`dah</td>\n",
       "      <td>Muhafazah</td>\n",
       "      <td>POLYGON ((43.635498046875 17.41941452026361, 4...</td>\n",
       "    </tr>\n",
       "    <tr>\n",
       "      <th>3584</th>\n",
       "      <td>VNM</td>\n",
       "      <td>Vietnam</td>\n",
       "      <td>42</td>\n",
       "      <td>Ninh Bình</td>\n",
       "      <td>Tỉnh</td>\n",
       "      <td>POLYGON ((105.8614196777344 20.41957855224604,...</td>\n",
       "    </tr>\n",
       "    <tr>\n",
       "      <th>3585</th>\n",
       "      <td>VNM</td>\n",
       "      <td>Vietnam</td>\n",
       "      <td>43</td>\n",
       "      <td>Ninh Thuận</td>\n",
       "      <td>Tỉnh</td>\n",
       "      <td>(POLYGON ((109.1469345092775 11.57825183868408...</td>\n",
       "    </tr>\n",
       "    <tr>\n",
       "      <th>3586</th>\n",
       "      <td>VNM</td>\n",
       "      <td>Vietnam</td>\n",
       "      <td>44</td>\n",
       "      <td>Phú Thọ</td>\n",
       "      <td>Tỉnh</td>\n",
       "      <td>POLYGON ((105.3240661621095 21.50715827941906,...</td>\n",
       "    </tr>\n",
       "    <tr>\n",
       "      <th>3587</th>\n",
       "      <td>VNM</td>\n",
       "      <td>Vietnam</td>\n",
       "      <td>50</td>\n",
       "      <td>Quảng Trị</td>\n",
       "      <td>Tỉnh</td>\n",
       "      <td>(POLYGON ((107.3870697021486 16.74237060546886...</td>\n",
       "    </tr>\n",
       "    <tr>\n",
       "      <th>3588</th>\n",
       "      <td>VNM</td>\n",
       "      <td>Vietnam</td>\n",
       "      <td>51</td>\n",
       "      <td>Sóc Trăng</td>\n",
       "      <td>Tỉnh</td>\n",
       "      <td>POLYGON ((105.9821014404299 9.882843017578125,...</td>\n",
       "    </tr>\n",
       "    <tr>\n",
       "      <th>3589</th>\n",
       "      <td>VNM</td>\n",
       "      <td>Vietnam</td>\n",
       "      <td>53</td>\n",
       "      <td>Tây Ninh</td>\n",
       "      <td>Tỉnh</td>\n",
       "      <td>POLYGON ((106.4494934082034 11.67008876800543,...</td>\n",
       "    </tr>\n",
       "    <tr>\n",
       "      <th>3590</th>\n",
       "      <td>VNM</td>\n",
       "      <td>Vietnam</td>\n",
       "      <td>54</td>\n",
       "      <td>Thái Bình</td>\n",
       "      <td>Tỉnh</td>\n",
       "      <td>(POLYGON ((106.6070175170899 20.27729988098156...</td>\n",
       "    </tr>\n",
       "    <tr>\n",
       "      <th>3591</th>\n",
       "      <td>VNM</td>\n",
       "      <td>Vietnam</td>\n",
       "      <td>55</td>\n",
       "      <td>Thái Nguyên</td>\n",
       "      <td>Tỉnh</td>\n",
       "      <td>POLYGON ((106.0977706909182 21.93777275085461,...</td>\n",
       "    </tr>\n",
       "    <tr>\n",
       "      <th>3592</th>\n",
       "      <td>VIR</td>\n",
       "      <td>Virgin Islands, U.S.</td>\n",
       "      <td>2</td>\n",
       "      <td>Saint John</td>\n",
       "      <td>District</td>\n",
       "      <td>(POLYGON ((-64.68902587890624 18.3176383972168...</td>\n",
       "    </tr>\n",
       "    <tr>\n",
       "      <th>3593</th>\n",
       "      <td>WLF</td>\n",
       "      <td>Wallis and Futuna</td>\n",
       "      <td>3</td>\n",
       "      <td>Uvéa</td>\n",
       "      <td>Kingdom</td>\n",
       "      <td>(POLYGON ((-176.2161102294921 -13.391944885253...</td>\n",
       "    </tr>\n",
       "    <tr>\n",
       "      <th>3594</th>\n",
       "      <td>ESH</td>\n",
       "      <td>Western Sahara</td>\n",
       "      <td>1</td>\n",
       "      <td>Boujdour</td>\n",
       "      <td>Willaya</td>\n",
       "      <td>POLYGON ((-14.26097297668457 26.32581520080572...</td>\n",
       "    </tr>\n",
       "    <tr>\n",
       "      <th>3595</th>\n",
       "      <td>ESH</td>\n",
       "      <td>Western Sahara</td>\n",
       "      <td>3</td>\n",
       "      <td>Laayoune</td>\n",
       "      <td>Willaya</td>\n",
       "      <td>POLYGON ((-13.16708946228027 27.68309783935558...</td>\n",
       "    </tr>\n",
       "    <tr>\n",
       "      <th>3596</th>\n",
       "      <td>YEM</td>\n",
       "      <td>Yemen</td>\n",
       "      <td>1</td>\n",
       "      <td>`Adan</td>\n",
       "      <td>Muhafazah</td>\n",
       "      <td>(POLYGON ((43.41236114501959 12.67125034332275...</td>\n",
       "    </tr>\n",
       "    <tr>\n",
       "      <th>3597</th>\n",
       "      <td>YEM</td>\n",
       "      <td>Yemen</td>\n",
       "      <td>2</td>\n",
       "      <td>Abyan</td>\n",
       "      <td>Muhafazah</td>\n",
       "      <td>POLYGON ((47.18184280395536 13.59958267211909,...</td>\n",
       "    </tr>\n",
       "    <tr>\n",
       "      <th>3598</th>\n",
       "      <td>YEM</td>\n",
       "      <td>Yemen</td>\n",
       "      <td>7</td>\n",
       "      <td>Al Mahrah</td>\n",
       "      <td>Muhafazah</td>\n",
       "      <td>(POLYGON ((51.13180541992193 15.18124866485602...</td>\n",
       "    </tr>\n",
       "    <tr>\n",
       "      <th>3599</th>\n",
       "      <td>YEM</td>\n",
       "      <td>Yemen</td>\n",
       "      <td>11</td>\n",
       "      <td>Dhamar</td>\n",
       "      <td>Muhafazah</td>\n",
       "      <td>POLYGON ((44.83650588989263 14.74729919433605,...</td>\n",
       "    </tr>\n",
       "    <tr>\n",
       "      <th>3600</th>\n",
       "      <td>YEM</td>\n",
       "      <td>Yemen</td>\n",
       "      <td>13</td>\n",
       "      <td>Hajjah</td>\n",
       "      <td>Muhafazah</td>\n",
       "      <td>(POLYGON ((42.80930709838884 15.87569522857678...</td>\n",
       "    </tr>\n",
       "    <tr>\n",
       "      <th>3601</th>\n",
       "      <td>YEM</td>\n",
       "      <td>Yemen</td>\n",
       "      <td>14</td>\n",
       "      <td>Ibb</td>\n",
       "      <td>Muhafazah</td>\n",
       "      <td>POLYGON ((44.59758377075224 14.29389095306408,...</td>\n",
       "    </tr>\n",
       "    <tr>\n",
       "      <th>3602</th>\n",
       "      <td>YEM</td>\n",
       "      <td>Yemen</td>\n",
       "      <td>15</td>\n",
       "      <td>Lahij</td>\n",
       "      <td>Muhafazah</td>\n",
       "      <td>POLYGON ((44.41155242919917 12.68015098571777,...</td>\n",
       "    </tr>\n",
       "    <tr>\n",
       "      <th>3603</th>\n",
       "      <td>YEM</td>\n",
       "      <td>Yemen</td>\n",
       "      <td>19</td>\n",
       "      <td>San`a'</td>\n",
       "      <td>City</td>\n",
       "      <td>POLYGON ((44.57501220703119 16.00182151794439,...</td>\n",
       "    </tr>\n",
       "    <tr>\n",
       "      <th>3604</th>\n",
       "      <td>YEM</td>\n",
       "      <td>Yemen</td>\n",
       "      <td>20</td>\n",
       "      <td>Shabwah</td>\n",
       "      <td>Muhafazah</td>\n",
       "      <td>(POLYGON ((48.38513946533221 13.93652820587164...</td>\n",
       "    </tr>\n",
       "    <tr>\n",
       "      <th>3605</th>\n",
       "      <td>YEM</td>\n",
       "      <td>Yemen</td>\n",
       "      <td>21</td>\n",
       "      <td>Ta`izz</td>\n",
       "      <td>Muhafazah</td>\n",
       "      <td>(POLYGON ((43.46097183227567 12.67597293853754...</td>\n",
       "    </tr>\n",
       "    <tr>\n",
       "      <th>3606</th>\n",
       "      <td>ZMB</td>\n",
       "      <td>Zambia</td>\n",
       "      <td>2</td>\n",
       "      <td>Copperbelt</td>\n",
       "      <td>Province</td>\n",
       "      <td>POLYGON ((29.03199577331543 -13.40980529785151...</td>\n",
       "    </tr>\n",
       "    <tr>\n",
       "      <th>3607</th>\n",
       "      <td>ZMB</td>\n",
       "      <td>Zambia</td>\n",
       "      <td>5</td>\n",
       "      <td>Lusaka</td>\n",
       "      <td>Province</td>\n",
       "      <td>POLYGON ((30.21741485595732 -14.99720001220697...</td>\n",
       "    </tr>\n",
       "    <tr>\n",
       "      <th>3608</th>\n",
       "      <td>ZWE</td>\n",
       "      <td>Zimbabwe</td>\n",
       "      <td>4</td>\n",
       "      <td>Mashonaland Central</td>\n",
       "      <td>Province</td>\n",
       "      <td>POLYGON ((32.75470352172869 -16.70335388183594...</td>\n",
       "    </tr>\n",
       "  </tbody>\n",
       "</table>\n",
       "<p>3609 rows × 6 columns</p>\n",
       "</div>"
      ],
      "text/plain": [
       "      iso                name_0  id_1                  name_1  \\\n",
       "0     MEX                Mexico     9        Ciudad de México   \n",
       "1     HTI                 Haiti     3            L'Artibonite   \n",
       "2     HND              Honduras     1               Atlántida   \n",
       "3     HND              Honduras     3                   Colón   \n",
       "4     GUY                Guyana     9  Upper Demerara-Berbice   \n",
       "5     HND              Honduras     9          Gracias a Dios   \n",
       "6     HND              Honduras    15                 Olancho   \n",
       "7     HND              Honduras    17                   Valle   \n",
       "8     PRY              Paraguay    11              Concepción   \n",
       "9     PRY              Paraguay    14                  Itapúa   \n",
       "10    SYC            Seychelles    20           Outer Islands   \n",
       "11    ZMB                Zambia     9                Southern   \n",
       "12    BRA                Brazil    13            Minas Gerais   \n",
       "13    PER                  Peru     6               Cajamarca   \n",
       "14    PHL           Philippines    15                   Bohol   \n",
       "15    FSM            Micronesia     3                 Pohnpei   \n",
       "16    NOR                Norway    11                 Oppland   \n",
       "17    CRI            Costa Rica     6              Puntarenas   \n",
       "18    ECU               Ecuador     1                   Azuay   \n",
       "19    MMR               Myanmar    12                 Sagaing   \n",
       "20    MOZ            Mozambique     1            Cabo Delgado   \n",
       "21    IND                 India    24                Nagaland   \n",
       "22    PLW                 Palau     4               Hatohobei   \n",
       "23    MKD             Macedonia    16                   Butel   \n",
       "24    CAN                Canada     2        British Columbia   \n",
       "25    NGA               Nigeria    10                   Delta   \n",
       "26    NGA               Nigeria    33                  Rivers   \n",
       "27    VNM               Vietnam    49              Quảng Ninh   \n",
       "28    VNM               Vietnam    57               Thanh Hóa   \n",
       "29    GUY                Guyana     4  East Berbice-Corentyne   \n",
       "...   ...                   ...   ...                     ...   \n",
       "3579  VNM               Vietnam    29               Hải Dương   \n",
       "3580  YEM                 Yemen    16                  Ma'rib   \n",
       "3581  VNM               Vietnam    39                 Long An   \n",
       "3582  VNM               Vietnam    40                Nam Định   \n",
       "3583  YEM                 Yemen    18                  Sa`dah   \n",
       "3584  VNM               Vietnam    42               Ninh Bình   \n",
       "3585  VNM               Vietnam    43              Ninh Thuận   \n",
       "3586  VNM               Vietnam    44                 Phú Thọ   \n",
       "3587  VNM               Vietnam    50               Quảng Trị   \n",
       "3588  VNM               Vietnam    51               Sóc Trăng   \n",
       "3589  VNM               Vietnam    53                Tây Ninh   \n",
       "3590  VNM               Vietnam    54               Thái Bình   \n",
       "3591  VNM               Vietnam    55             Thái Nguyên   \n",
       "3592  VIR  Virgin Islands, U.S.     2              Saint John   \n",
       "3593  WLF     Wallis and Futuna     3                    Uvéa   \n",
       "3594  ESH        Western Sahara     1                Boujdour   \n",
       "3595  ESH        Western Sahara     3                Laayoune   \n",
       "3596  YEM                 Yemen     1                   `Adan   \n",
       "3597  YEM                 Yemen     2                   Abyan   \n",
       "3598  YEM                 Yemen     7               Al Mahrah   \n",
       "3599  YEM                 Yemen    11                  Dhamar   \n",
       "3600  YEM                 Yemen    13                  Hajjah   \n",
       "3601  YEM                 Yemen    14                     Ibb   \n",
       "3602  YEM                 Yemen    15                   Lahij   \n",
       "3603  YEM                 Yemen    19                  San`a'   \n",
       "3604  YEM                 Yemen    20                 Shabwah   \n",
       "3605  YEM                 Yemen    21                  Ta`izz   \n",
       "3606  ZMB                Zambia     2              Copperbelt   \n",
       "3607  ZMB                Zambia     5                  Lusaka   \n",
       "3608  ZWE              Zimbabwe     4     Mashonaland Central   \n",
       "\n",
       "                   type_1                                           geometry  \n",
       "0        Distrito Federal  POLYGON ((-98.86537933349609 19.07119178771973...  \n",
       "1             Département  (POLYGON ((-72.73760986328119 19.3176879882813...  \n",
       "2            Departamento  (POLYGON ((-86.77486419677734 15.8001394271851...  \n",
       "3            Departamento  (POLYGON ((-85.68819427490229 15.9501380920411...  \n",
       "4                  Region  (POLYGON ((-58.58569335937499 6.33930492401128...  \n",
       "5            Departamento  (POLYGON ((-84.92382812499994 14.7528009414673...  \n",
       "6            Departamento  POLYGON ((-84.99401855468744 15.0612087249757,...  \n",
       "7            Departamento  (POLYGON ((-87.64097595214842 13.2987508773804...  \n",
       "8            Departamento  POLYGON ((-56.81581115722651 -22.2892055511474...  \n",
       "9            Departamento  POLYGON ((-55.3094596862793 -26.10110855102533...  \n",
       "10          Outer Islands  (POLYGON ((53.38784790039067 -4.87818288803094...  \n",
       "11               Province  POLYGON ((27.76536941528326 -15.63295173645019...  \n",
       "12                 Estado  POLYGON ((-40.22235107421869 -17.9804267883300...  \n",
       "13                 Región  POLYGON ((-78.70437622070301 -4.62342405319208...  \n",
       "14    Lalawigan|Probinsya  (POLYGON ((123.9216690063478 9.48583030700695,...  \n",
       "15                  State  (POLYGON ((154.2919464111329 8.14666652679449,...  \n",
       "16                  Fylke  POLYGON ((10.71406745910656 60.51467132568371,...  \n",
       "17              Provincia  (POLYGON ((-87.04792022705078 5.55680513381957...  \n",
       "18              Provincia  POLYGON ((-78.55352020263672 -2.55621790885919...  \n",
       "19                    Yin  POLYGON ((97.05889892578153 27.1140708923341, ...  \n",
       "20              Provincia  (POLYGON ((40.57347106933599 -12.8070840835571...  \n",
       "21                  State  POLYGON ((95.237632751465 26.6862907409668, 94...  \n",
       "22                  State  (POLYGON ((131.1239624023439 2.999167919158992...  \n",
       "23                Opština  POLYGON ((21.42593955993658 42.01013565063477,...  \n",
       "24               Province  (POLYGON ((-123.600830078125 48.31638717651367...  \n",
       "25                  State  (POLYGON ((5.391528129577637 5.305139064788818...  \n",
       "26                  State  (POLYGON ((6.970417976379339 4.37958383560192,...  \n",
       "27                   Tỉnh  (POLYGON ((107.1509704589844 20.73736190795904...  \n",
       "28                   Tỉnh  (POLYGON ((105.9132614135744 19.31972122192383...  \n",
       "29                 Region  POLYGON ((-57.14674377441401 5.992897033691463...  \n",
       "...                   ...                                                ...  \n",
       "3579                 Tỉnh  POLYGON ((106.5011444091797 21.22454071044922,...  \n",
       "3580            Muhafazah  POLYGON ((46.30601882934565 15.60621929168713,...  \n",
       "3581                 Tỉnh  POLYGON ((106.1638717651369 10.97833061218273,...  \n",
       "3582                 Tỉnh  (POLYGON ((106.4916687011719 20.19444084167492...  \n",
       "3583            Muhafazah  POLYGON ((43.635498046875 17.41941452026361, 4...  \n",
       "3584                 Tỉnh  POLYGON ((105.8614196777344 20.41957855224604,...  \n",
       "3585                 Tỉnh  (POLYGON ((109.1469345092775 11.57825183868408...  \n",
       "3586                 Tỉnh  POLYGON ((105.3240661621095 21.50715827941906,...  \n",
       "3587                 Tỉnh  (POLYGON ((107.3870697021486 16.74237060546886...  \n",
       "3588                 Tỉnh  POLYGON ((105.9821014404299 9.882843017578125,...  \n",
       "3589                 Tỉnh  POLYGON ((106.4494934082034 11.67008876800543,...  \n",
       "3590                 Tỉnh  (POLYGON ((106.6070175170899 20.27729988098156...  \n",
       "3591                 Tỉnh  POLYGON ((106.0977706909182 21.93777275085461,...  \n",
       "3592             District  (POLYGON ((-64.68902587890624 18.3176383972168...  \n",
       "3593              Kingdom  (POLYGON ((-176.2161102294921 -13.391944885253...  \n",
       "3594              Willaya  POLYGON ((-14.26097297668457 26.32581520080572...  \n",
       "3595              Willaya  POLYGON ((-13.16708946228027 27.68309783935558...  \n",
       "3596            Muhafazah  (POLYGON ((43.41236114501959 12.67125034332275...  \n",
       "3597            Muhafazah  POLYGON ((47.18184280395536 13.59958267211909,...  \n",
       "3598            Muhafazah  (POLYGON ((51.13180541992193 15.18124866485602...  \n",
       "3599            Muhafazah  POLYGON ((44.83650588989263 14.74729919433605,...  \n",
       "3600            Muhafazah  (POLYGON ((42.80930709838884 15.87569522857678...  \n",
       "3601            Muhafazah  POLYGON ((44.59758377075224 14.29389095306408,...  \n",
       "3602            Muhafazah  POLYGON ((44.41155242919917 12.68015098571777,...  \n",
       "3603                 City  POLYGON ((44.57501220703119 16.00182151794439,...  \n",
       "3604            Muhafazah  (POLYGON ((48.38513946533221 13.93652820587164...  \n",
       "3605            Muhafazah  (POLYGON ((43.46097183227567 12.67597293853754...  \n",
       "3606             Province  POLYGON ((29.03199577331543 -13.40980529785151...  \n",
       "3607             Province  POLYGON ((30.21741485595732 -14.99720001220697...  \n",
       "3608             Province  POLYGON ((32.75470352172869 -16.70335388183594...  \n",
       "\n",
       "[3609 rows x 6 columns]"
      ]
     },
     "execution_count": 16,
     "metadata": {},
     "output_type": "execute_result"
    }
   ],
   "source": [
    "smaller_df"
   ]
  },
  {
   "cell_type": "markdown",
   "metadata": {
    "collapsed": true
   },
   "source": [
    "##  Same thing again, except this time for ADMIN0\n",
    "\n",
    "Create simplified AMIN0 Shapes\n",
    "\n",
    "Get ISO3 (not ISO2 values)."
   ]
  },
  {
   "cell_type": "code",
   "execution_count": 56,
   "metadata": {
    "collapsed": true
   },
   "outputs": [],
   "source": [
    "from iso3166 import countries"
   ]
  },
  {
   "cell_type": "code",
   "execution_count": 35,
   "metadata": {
    "collapsed": true
   },
   "outputs": [],
   "source": [
    "s = gpd.read_file('./data/minified_gadm28_countries/gadm28_countries.shp')\n",
    "s = s.to_crs(epsg='4326')"
   ]
  },
  {
   "cell_type": "code",
   "execution_count": 54,
   "metadata": {
    "collapsed": false
   },
   "outputs": [
    {
     "data": {
      "text/html": [
       "<div>\n",
       "<style>\n",
       "    .dataframe thead tr:only-child th {\n",
       "        text-align: right;\n",
       "    }\n",
       "\n",
       "    .dataframe thead th {\n",
       "        text-align: left;\n",
       "    }\n",
       "\n",
       "    .dataframe tbody tr th {\n",
       "        vertical-align: top;\n",
       "    }\n",
       "</style>\n",
       "<table border=\"1\" class=\"dataframe\">\n",
       "  <thead>\n",
       "    <tr style=\"text-align: right;\">\n",
       "      <th></th>\n",
       "      <th>geometry</th>\n",
       "      <th>iso2</th>\n",
       "      <th>name_engli</th>\n",
       "      <th>unregion2</th>\n",
       "    </tr>\n",
       "  </thead>\n",
       "  <tbody>\n",
       "    <tr>\n",
       "      <th>0</th>\n",
       "      <td>(POLYGON ((7.576389789581356 57.98847198486345...</td>\n",
       "      <td>NO</td>\n",
       "      <td>Norway</td>\n",
       "      <td>Europe</td>\n",
       "    </tr>\n",
       "    <tr>\n",
       "      <th>1</th>\n",
       "      <td>POLYGON ((-171.786392211914 -9.147776603698617...</td>\n",
       "      <td>TK</td>\n",
       "      <td>Tokelau</td>\n",
       "      <td>Oceania</td>\n",
       "    </tr>\n",
       "    <tr>\n",
       "      <th>2</th>\n",
       "      <td>(POLYGON ((99.31054687500011 6.487649917602539...</td>\n",
       "      <td>TH</td>\n",
       "      <td>Thailand</td>\n",
       "      <td>Asia</td>\n",
       "    </tr>\n",
       "    <tr>\n",
       "      <th>3</th>\n",
       "      <td>(POLYGON ((-60.64263916015619 8.68402767181390...</td>\n",
       "      <td>VE</td>\n",
       "      <td>Venezuela</td>\n",
       "      <td>Americas</td>\n",
       "    </tr>\n",
       "    <tr>\n",
       "      <th>4</th>\n",
       "      <td>(POLYGON ((6.095695018768311 4.35680580139183,...</td>\n",
       "      <td>NG</td>\n",
       "      <td>Nigeria</td>\n",
       "      <td>Africa</td>\n",
       "    </tr>\n",
       "  </tbody>\n",
       "</table>\n",
       "</div>"
      ],
      "text/plain": [
       "                                            geometry iso2 name_engli unregion2\n",
       "0  (POLYGON ((7.576389789581356 57.98847198486345...   NO     Norway    Europe\n",
       "1  POLYGON ((-171.786392211914 -9.147776603698617...   TK    Tokelau   Oceania\n",
       "2  (POLYGON ((99.31054687500011 6.487649917602539...   TH   Thailand      Asia\n",
       "3  (POLYGON ((-60.64263916015619 8.68402767181390...   VE  Venezuela  Americas\n",
       "4  (POLYGON ((6.095695018768311 4.35680580139183,...   NG    Nigeria    Africa"
      ]
     },
     "execution_count": 54,
     "metadata": {},
     "output_type": "execute_result"
    }
   ],
   "source": [
    "s.head()"
   ]
  },
  {
   "cell_type": "code",
   "execution_count": 83,
   "metadata": {
    "collapsed": false
   },
   "outputs": [
    {
     "data": {
      "image/svg+xml": [
       "<svg xmlns=\"http://www.w3.org/2000/svg\" xmlns:xlink=\"http://www.w3.org/1999/xlink\" width=\"100.0\" height=\"100.0\" viewBox=\"3.9393955230713984 56.931654548645234 28.144124794006466 15.261240768432408\" preserveAspectRatio=\"xMinYMin meet\"><g transform=\"matrix(1,0,0,-1,0,129.12454986572288)\"><g><path fill-rule=\"evenodd\" fill=\"#66cc99\" stroke=\"#555555\" stroke-width=\"0.5628824958801293\" opacity=\"0.6\" d=\"M 10.451943397522086,59.17458343505888 L 7.534722805023251,57.974029541015845 L 5.862500190734863,58.429584503174055 L 5.564166069030819,59.01680374145508 L 6.274167060852107,58.83902740478539 L 6.623610973358268,59.0526390075683 L 5.889165878295842,59.083194732666186 L 6.48305606842041,59.55625152587919 L 5.238056182861385,59.543193817138786 L 7.081250190734863,60.48541641235379 L 5.602500915527457,59.874584197998054 L 5.768750190734977,60.38958358764671 L 5.171353816986084,60.36927413940423 L 5.759895801544245,60.70051956176764 L 5.029687404632682,61.03489685058611 L 7.141145706176815,60.8838539123538 L 7.5223960876464835,61.44322586059594 L 5.23124980926508,61.10416793823254 L 5.525000095367432,61.37916564941423 L 4.981770515442008,61.41822814941401 L 5.811979293823241,61.486980438232365 L 5.204166412353629,61.883335113525334 L 6.8453125953674885,61.87239837646484 L 5.096354007720947,62.18906021118192 L 7.08333349227911,62.08541488647484 L 6.256770610809326,62.579685211181925 L 8.145312309265137,62.6859397888183 L 6.8984375,62.90989303588867 L 7.608333110809327,63.11458206176757 L 8.523437500000114,62.68906021118165 L 7.885937213897762,63.0244789123538 L 8.691666603088493,62.82083511352557 L 8.15677070617676,63.12448120117193 L 9.595833778381348,63.62083435058588 L 10.89531230926508,63.44844055175782 L 11.493228912353572,64.00468444824241 L 9.533333778381404,63.71458435058617 L 12.147916793823356,64.96250152587908 L 10.56458377838135,64.84583282470726 L 12.95156288146984,65.30677032470703 L 11.96666622161871,65.21458435058621 L 13.191145896911621,65.85572814941406 L 12.66927051544195,66.0682296752932 L 14.128645896911678,66.30989837646507 L 13.006771087646428,66.18385314941412 L 13.49791622161871,66.95417022705078 L 15.87708377838135,67.58125305175774 L 14.760416984558104,67.82707977294949 L 17.899999618530273,68.4166641235351 L 16.075521469116325,68.4109344482423 L 17.66250038146978,68.67082977294945 L 17.250520706176868,68.75676727294922 L 17.76698594690948,69.16318360175434 L 16.791666030883732,69.05416870117188 L 17.498437881469783,69.59635162353527 L 17.905195584620863,69.27194339647832 L 18.149999618530273,69.46458435058594 L 22.13906288146984,69.74531555175793 L 21.520833969116154,70.3187484741213 L 23.474479675293026,69.98176574707037 L 24.564582824707145,71.01875305175804 L 25.9078121185305,70.87239837646486 L 25.016666412353572,70.0562515258789 L 27.638021469116264,71.12448120117199 L 28.549478530883903,70.97656250000017 L 27.85260391235363,70.43489837646483 L 28.947916030883903,70.88541412353516 L 31.041145324707255,70.38801574707054 L 28.58958244323736,70.17500305175793 L 30.931331634521484,69.68677520751947 L 29.03521537780756,69.01684570312506 L 29.1385173797608,69.6947479248048 L 27.6217098236084,70.07710266113304 L 25.896759033203125,69.67301177978544 L 24.90523910522461,68.5543670654298 L 21.267240524292053,69.3120193481447 L 20.062599182129137,69.04608154296886 L 19.927127838134822,68.35690307617193 L 18.344579696655273,68.57433319091803 L 16.733610153198242,67.91159057617197 L 15.480572700500602,66.28185272216821 L 14.516809463500978,66.1345748901367 L 13.660572052002067,64.59435272216791 L 13.995263099670524,64.0258331298828 L 12.155960083007924,63.59626007080078 L 12.141136169433592,61.718437194824155 L 12.868741035461424,61.33778762817394 L 12.23145580291748,61.0182876586914 L 12.5411376953125,60.17724990844744 L 11.653469085693473,58.90719604492182 L 10.729722023010254,59.232639312744254 L 10.724721908569334,59.90652847290067 L 10.229722976684627,59.73236083984391 L 10.451943397522086,59.17458343505888 z\" /><path fill-rule=\"evenodd\" fill=\"#66cc99\" stroke=\"#555555\" stroke-width=\"0.5628824958801293\" opacity=\"0.6\" d=\"M 25.67760467529297,71.15052032470703 L 26.226562500000004,71.04634857177734 L 25.25416755676281,71.03541564941418 L 25.67760467529297,71.15052032470703 z\" /><path fill-rule=\"evenodd\" fill=\"#66cc99\" stroke=\"#555555\" stroke-width=\"0.5628824958801293\" opacity=\"0.6\" d=\"M 19.202604293823352,70.08802032470716 L 19.670312881469783,69.97551727294952 L 18.704687118530273,69.92448425292969 L 19.202604293823352,70.08802032470716 z\" /><path fill-rule=\"evenodd\" fill=\"#66cc99\" stroke=\"#555555\" stroke-width=\"0.5628824958801293\" opacity=\"0.6\" d=\"M 15.158854484558105,69.01927185058616 L 15.352319131632052,68.77416304739792 L 15.729687690734975,68.97135162353516 L 15.739583015441951,68.54166412353516 L 16.62708282470703,68.67500305175804 L 14.204687118530273,68.17448425292967 L 15.175854334086898,68.68195387594761 L 14.391666412353631,68.66249847412138 L 15.158854484558105,69.01927185058616 z\" /><path fill-rule=\"evenodd\" fill=\"#66cc99\" stroke=\"#555555\" stroke-width=\"0.5628824958801293\" opacity=\"0.6\" d=\"M 8.808854103088377,63.66093826293957 L 9.211978912353516,63.57447814941401 L 8.237500190734863,63.48958206176758 L 8.808854103088377,63.66093826293957 z\" /></g></g></svg>"
      ],
      "text/plain": [
       "<shapely.geometry.multipolygon.MultiPolygon at 0x7f2a0a7f1c18>"
      ]
     },
     "execution_count": 83,
     "metadata": {},
     "output_type": "execute_result"
    }
   ],
   "source": [
    "s.geometry[0].simplify(0.4, preserve_topology=False)"
   ]
  },
  {
   "cell_type": "code",
   "execution_count": 60,
   "metadata": {
    "collapsed": false
   },
   "outputs": [
    {
     "data": {
      "text/plain": [
       "'NOR'"
      ]
     },
     "execution_count": 60,
     "metadata": {},
     "output_type": "execute_result"
    }
   ],
   "source": [
    "countries.get('NO').alpha3  # convert to 3-character ISO like so"
   ]
  },
  {
   "cell_type": "code",
   "execution_count": 65,
   "metadata": {
    "collapsed": false
   },
   "outputs": [
    {
     "data": {
      "text/plain": [
       "'Norway'"
      ]
     },
     "execution_count": 65,
     "metadata": {},
     "output_type": "execute_result"
    }
   ],
   "source": [
    "countries.get('NO').name"
   ]
  },
  {
   "cell_type": "code",
   "execution_count": 61,
   "metadata": {
    "collapsed": true
   },
   "outputs": [],
   "source": [
    "# 'name_0', 'iso'  - name_0 should be name_engli and iso should be 3-character iso code"
   ]
  },
  {
   "cell_type": "code",
   "execution_count": 62,
   "metadata": {
    "collapsed": true
   },
   "outputs": [],
   "source": [
    "tmp_geoms = s.geometry.simplify(0.4, preserve_topology=True)  # Gives all little areas"
   ]
  },
  {
   "cell_type": "markdown",
   "metadata": {},
   "source": [
    " slight wrinkle, it appears South Sudan (SSD) is missing from the final file for some reason...\n",
    " \n",
    " Looks like not every country has an ISO code attached in the original data :(\n",
    " Will need to try and scrape it using the `countries` function"
   ]
  },
  {
   "cell_type": "code",
   "execution_count": 86,
   "metadata": {
    "collapsed": false
   },
   "outputs": [
    {
     "data": {
      "text/plain": [
       "Country(name='South Sudan', alpha2='SS', alpha3='SSD', numeric='728', apolitical_name='South Sudan')"
      ]
     },
     "execution_count": 86,
     "metadata": {},
     "output_type": "execute_result"
    }
   ],
   "source": [
    "countries.get('SSD')"
   ]
  },
  {
   "cell_type": "code",
   "execution_count": 110,
   "metadata": {
    "collapsed": true
   },
   "outputs": [],
   "source": [
    "known_errors = {'Sint Maarten': 'SXM',\n",
    "                'Saint-Barthélemy':'BL',\n",
    "                'Curaçao': 'CUW',\n",
    "                'Bonaire, Saint Eustatius and Saba':'BES',\n",
    "                'South Sudan': 'SSD'}"
   ]
  },
  {
   "cell_type": "code",
   "execution_count": 115,
   "metadata": {
    "collapsed": false
   },
   "outputs": [],
   "source": [
    "a3_codes = []\n",
    "\n",
    "for i in s.index:\n",
    "    sname = s['name_engli'][i]\n",
    "    siso2 = s['iso2'][i]\n",
    "    try:\n",
    "        a3 = countries.get(siso2).alpha3\n",
    "    except:\n",
    "        error_iso = known_errors[sname]\n",
    "        a3 = countries.get(error_iso).alpha3\n",
    "    a3_codes.append(a3)\n",
    "    #print(i, sname, siso2, a3 )\n",
    "    \n",
    "# Hillariously, this also means I shouldnt use the names - as they are clearly crappy...\n",
    "# Now I need to do the same thing, calling the names from the good iso codes\n",
    "# This time it is a bit easier though!\n",
    "\n",
    "good_names = [countries.get(code).name for code in a3_codes]"
   ]
  },
  {
   "cell_type": "code",
   "execution_count": 123,
   "metadata": {
    "collapsed": false
   },
   "outputs": [
    {
     "data": {
      "text/plain": [
       "(240, 240)"
      ]
     },
     "execution_count": 123,
     "metadata": {},
     "output_type": "execute_result"
    }
   ],
   "source": [
    "len(x),len(tmp_geoms)"
   ]
  },
  {
   "cell_type": "code",
   "execution_count": 122,
   "metadata": {
    "collapsed": false
   },
   "outputs": [
    {
     "data": {
      "text/html": [
       "<div>\n",
       "<style>\n",
       "    .dataframe thead tr:only-child th {\n",
       "        text-align: right;\n",
       "    }\n",
       "\n",
       "    .dataframe thead th {\n",
       "        text-align: left;\n",
       "    }\n",
       "\n",
       "    .dataframe tbody tr th {\n",
       "        vertical-align: top;\n",
       "    }\n",
       "</style>\n",
       "<table border=\"1\" class=\"dataframe\">\n",
       "  <thead>\n",
       "    <tr style=\"text-align: right;\">\n",
       "      <th></th>\n",
       "      <th>iso</th>\n",
       "      <th>name_0</th>\n",
       "      <th>geometry</th>\n",
       "    </tr>\n",
       "  </thead>\n",
       "  <tbody>\n",
       "    <tr>\n",
       "      <th>0</th>\n",
       "      <td>NOR</td>\n",
       "      <td>Norway</td>\n",
       "      <td>(POLYGON ((7.576389789581356 57.98847198486345...</td>\n",
       "    </tr>\n",
       "    <tr>\n",
       "      <th>1</th>\n",
       "      <td>TKL</td>\n",
       "      <td>Tokelau</td>\n",
       "      <td>POLYGON ((-171.786392211914 -9.147776603698617...</td>\n",
       "    </tr>\n",
       "    <tr>\n",
       "      <th>2</th>\n",
       "      <td>THA</td>\n",
       "      <td>Thailand</td>\n",
       "      <td>(POLYGON ((99.31054687500011 6.487649917602539...</td>\n",
       "    </tr>\n",
       "    <tr>\n",
       "      <th>3</th>\n",
       "      <td>VEN</td>\n",
       "      <td>Venezuela, Bolivarian Republic of</td>\n",
       "      <td>(POLYGON ((-60.64263916015619 8.68402767181390...</td>\n",
       "    </tr>\n",
       "    <tr>\n",
       "      <th>4</th>\n",
       "      <td>NGA</td>\n",
       "      <td>Nigeria</td>\n",
       "      <td>(POLYGON ((6.095695018768311 4.35680580139183,...</td>\n",
       "    </tr>\n",
       "  </tbody>\n",
       "</table>\n",
       "</div>"
      ],
      "text/plain": [
       "   iso                             name_0  \\\n",
       "0  NOR                             Norway   \n",
       "1  TKL                            Tokelau   \n",
       "2  THA                           Thailand   \n",
       "3  VEN  Venezuela, Bolivarian Republic of   \n",
       "4  NGA                            Nigeria   \n",
       "\n",
       "                                            geometry  \n",
       "0  (POLYGON ((7.576389789581356 57.98847198486345...  \n",
       "1  POLYGON ((-171.786392211914 -9.147776603698617...  \n",
       "2  (POLYGON ((99.31054687500011 6.487649917602539...  \n",
       "3  (POLYGON ((-60.64263916015619 8.68402767181390...  \n",
       "4  (POLYGON ((6.095695018768311 4.35680580139183,...  "
      ]
     },
     "execution_count": 122,
     "metadata": {},
     "output_type": "execute_result"
    }
   ],
   "source": [
    "x = gpd.GeoDataFrame(pd.DataFrame([pair for pair in zip(a3_codes, good_names)], columns=['iso','name_0']),\n",
    "                    geometry=tmp_geoms)\n",
    "x.head()"
   ]
  },
  {
   "cell_type": "code",
   "execution_count": null,
   "metadata": {
    "collapsed": false
   },
   "outputs": [],
   "source": [
    "len(tmp_geoms)"
   ]
  },
  {
   "cell_type": "code",
   "execution_count": 125,
   "metadata": {
    "collapsed": true
   },
   "outputs": [],
   "source": [
    "x.to_file(\"./data/gadm28_adm0_simplified/gadm28_adm0_simplified.shp\", driver='ESRI Shapefile')"
   ]
  },
  {
   "cell_type": "code",
   "execution_count": null,
   "metadata": {
    "collapsed": true
   },
   "outputs": [],
   "source": []
  }
 ],
 "metadata": {
  "anaconda-cloud": {},
  "kernelspec": {
   "display_name": "Python 3",
   "language": "python",
   "name": "python3"
  },
  "language_info": {
   "codemirror_mode": {
    "name": "ipython",
    "version": 3
   },
   "file_extension": ".py",
   "mimetype": "text/x-python",
   "name": "python",
   "nbconvert_exporter": "python",
   "pygments_lexer": "ipython3",
   "version": "3.5.3"
  }
 },
 "nbformat": 4,
 "nbformat_minor": 2
}
