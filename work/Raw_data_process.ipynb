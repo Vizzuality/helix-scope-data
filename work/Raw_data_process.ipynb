{
 "cells": [
  {
   "cell_type": "markdown",
   "metadata": {},
   "source": [
    "# HELIX-SCOPE\n",
    "\n",
    "### Developing the data processing\n",
    "\n",
    "In this notebook we will test how best to process national summary statics from the Helix consortium data. Summary statistics (mean, max, min and standard deviation) will be calculated for every shape in an arbitrary shapefile for every netcdf file on path.\n",
    "\n",
    "Data should be downloaded from the SFTP site (bi.nsc.liu.se), which requires a username and password login. The data should be placed in the `/data` folder within this repo."
   ]
  },
  {
   "cell_type": "code",
   "execution_count": 1,
   "metadata": {
    "collapsed": true
   },
   "outputs": [],
   "source": [
    "from netCDF4 import Dataset\n",
    "import os\n",
    "import re\n",
    "import fiona\n",
    "import rasterio\n",
    "from rasterio.mask import mask\n",
    "from rasterio.plot import show\n",
    "from rasterstats import zonal_stats\n",
    "import geopandas as gpd\n",
    "import pandas as pd\n",
    "import numpy as np\n",
    "from matplotlib.pyplot import cm\n",
    "import matplotlib.pyplot as plt\n",
    "import datetime\n",
    "import warnings\n",
    "warnings.filterwarnings('ignore')\n",
    "%matplotlib inline"
   ]
  },
  {
   "cell_type": "code",
   "execution_count": 2,
   "metadata": {
    "collapsed": true
   },
   "outputs": [],
   "source": [
    "def identify_netcdf_and_csv_files(path='data'):\n",
    "    \"\"\"Crawl through a specified folder and return a dict of the netcdf d['nc']\n",
    "    and csv d['csv'] files contained within.\n",
    "    Returns something like {'nc':'data/CNRS_data/cSoil/orchidee-giss-ecearth.SWL_15.eco.cSoil.nc'}\n",
    "    \"\"\"\n",
    "    netcdf_files = []\n",
    "    csv_files = []\n",
    "    for root, dirs, files in os.walk(path):\n",
    "        if isinstance([], type(files)):\n",
    "            for f in files:\n",
    "                if f.split('.')[-1] in ['nc']:\n",
    "                    netcdf_files.append(''.join([root,'/',f]))\n",
    "                elif  f.split('.')[-1] in ['csv']:\n",
    "                    csv_files.append(''.join([root,'/',f]))\n",
    "    return {'nc':netcdf_files,'csv':csv_files}\n",
    "\n",
    "\n",
    "def generate_metadata(filepath):\n",
    "    \"\"\"Pass a path and file as a sigle string. Expected in the form of:\n",
    "        data/CNRS_data/cSoil/orchidee-giss-ecearth.SWL_15.eco.cSoil.nc\n",
    "    \"\"\"\n",
    "    file_metadata = get_nc_attributes(filepath)\n",
    "    filename_properties = extract_medata_from_filename(filepath)\n",
    "    return {**file_metadata, **filename_properties}\n",
    "\n",
    "\n",
    "def extract_medata_from_filename(filepath):\n",
    "    \"\"\"extract additonal data from filename using REGEX\"\"\"\n",
    "    warning = \"Filepath should resemble: data/CNRS_data/cSoil/orchidee-giss-ecearth.SWL_15.eco.cSoil.nc\"\n",
    "    assert len(file.split('/')) == 4, warning\n",
    "    fname = filepath.split(\"/\")[3]\n",
    "    variable = filepath.split(\"/\")[2]\n",
    "    model_taxonomy = re.search('(^.*?)\\.',fname, re.IGNORECASE).group(1)\n",
    "    model_short_name = re.search('(^.*?)-',model_taxonomy, re.IGNORECASE).group(1)\n",
    "    return {\"model_short_name\":model_short_name, \"variable\":variable, \"model_taxonomy\":model_taxonomy}\n",
    "\n",
    "\n",
    "def get_nc_attributes(filepath):\n",
    "    \"\"\" Most info is stored in the files’ global attribute description,\n",
    "    we will access it using netCDF4.ncattrs function.\n",
    "    Example:\n",
    "         ncAttributes('data/CNRS_data/cSoil/orchidee-giss-ecearth.SWL_15.eco.cSoil.nc')\n",
    "    \"\"\"\n",
    "    nc_file = Dataset(filepath, 'r')\n",
    "    d = {}\n",
    "    nc_attrs = nc_file.ncattrs()    \n",
    "    for nc_attr in nc_attrs:\n",
    "        d.update({nc_attr: nc_file.getncattr(nc_attr)})\n",
    "    could_be_true = ['true', 'True', 'TRUE']\n",
    "    d['is_multi_model_summary'] = d['is_multi_model_summary'] in could_be_true\n",
    "    d['is_seasonal'] = d['is_seasonal'] in could_be_true\n",
    "    del d['contact']\n",
    "    return d"
   ]
  },
  {
   "cell_type": "markdown",
   "metadata": {},
   "source": [
    "## Single core process\n",
    "\n",
    "Single core version:\n",
    "\n",
    "Place the data folders from Helixscope into the data folder of this repo.\n",
    "\n",
    "```\n",
    "data\n",
    "├── CNRS_data\n",
    "│   ├── README.txt\n",
    "│   ├── cSoil\n",
    "│   │   ├── orchidee-giss-ecearth.SWL_15.eco.cSoil.nc\n",
    "│   │   ├── orchidee-giss-ecearth.SWL_2.eco.cSoil.nc\n",
    "│   │   ├── orchidee-giss-ecearth.SWL_4.eco.cSoil.nc\n",
    "│   │   ├── orchidee-ipsl-ecearth.SWL_15.eco.cSoil.nc\n",
    "│   │   ├── orchidee-ipsl-ecearth.SWL_2.eco.cSoil.nc\n",
    "│   │   ├── orchidee-ipsl-ecearth.SWL_4.eco.cSoil.nc\n",
    "│   │   ├── orchidee-ipsl-hadgem.SWL_15.eco.cSoil.nc\n",
    "│   │   ├── orchidee-ipsl-hadgem.SWL_2.eco.cSoil.nc\n",
    "│   │   └── orchidee-ipsl-hadgem.SWL_4.eco.cSoil.nc\n",
    "│   ├── cVeg\n",
    "│   │   ├── orchidee-giss-ecearth.SWL_15.eco.cVeg.nc\n",
    "│   │   ├── orchidee-giss-ecearth.SWL_2.eco.cVeg.nc\n",
    "│   │   ├── orchidee-giss-ecearth.SWL_4.eco.cVeg.nc\n",
    "│   │   ├── orchidee-ipsl-ecearth.SWL_15.eco.cVeg.nc\n",
    "│   │   ├── orchidee-ipsl-ecearth.SWL_2.eco.cVeg.nc\n",
    "```\n",
    "\n",
    "Also include the shapefile in the data folder:\n",
    "\n",
    "```\n",
    "./data/minified_gadm28_countries/gadm28_countries.shp\n",
    "```"
   ]
  },
  {
   "cell_type": "code",
   "execution_count": 3,
   "metadata": {
    "collapsed": false
   },
   "outputs": [
    {
     "name": "stdout",
     "output_type": "stream",
     "text": [
      "CPU times: user 16.2 s, sys: 110 ms, total: 16.3 s\n",
      "Wall time: 16.5 s\n"
     ]
    }
   ],
   "source": [
    "%%time\n",
    "shps = gpd.read_file('./data/minified_gadm28_countries/gadm28_countries.shp')\n",
    "shps = shps.to_crs(epsg='4326')\n",
    "files = identify_netcdf_and_csv_files()\n",
    "\n",
    "keys = ['country','iso2','admin1','admin2','variable','SWL_info',\n",
    "        'count', 'max','min','mean','std','impact_tag','institution',\n",
    "        'model_long_name','model_short_name','model_taxonomy',\n",
    "        'is_multi_model_summary','is_seasonal']"
   ]
  },
  {
   "cell_type": "code",
   "execution_count": 4,
   "metadata": {
    "collapsed": false
   },
   "outputs": [
    {
     "name": "stderr",
     "output_type": "stream",
     "text": [
      "WARNING:rasterio._gdal:CPLE_AppDefined in No UNIDATA NC_GLOBAL:Conventions attribute\n"
     ]
    },
    {
     "name": "stdout",
     "output_type": "stream",
     "text": [
      "Processing 'data/CNRS_data/cSoil/orchidee-giss-ecearth.SWL_15.eco.cSoil.nc'\n",
      "CPU times: user 17.2 s, sys: 90 ms, total: 17.2 s\n",
      "Wall time: 17.7 s\n"
     ]
    }
   ],
   "source": [
    "%%time\n",
    "\n",
    "for file in files.get('nc')[0:1]:\n",
    "    print(\"Processing '{}'\".format(file))\n",
    "    tmp_metadata = generate_metadata(file)\n",
    "    with rasterio.open(files['nc'][0]) as nc_file:\n",
    "        rast=nc_file.read()\n",
    "        properties = nc_file.profile\n",
    "    tmp = rast[0,:,:]                      # The first dim should be stripped\n",
    "    mask = tmp == properties.get('nodata') # Now we need to make a mask for missing data\n",
    "    tmp[mask] = np.nan                     # and replace it with a NAN value\n",
    "    stats_per_file = []\n",
    "    for i in shps.index:\n",
    "        shp = shps.iloc[i].geometry\n",
    "        zstats = zonal_stats(shp, tmp, band=1, stats=['mean', 'max','min','std','count'],\n",
    "                             all_touched=True, raster_out=False,\n",
    "                             affine=properties['transform'],\n",
    "                             no_data=np.nan)\n",
    "        if zstats[0].get('count', 0) > 0: # If shape generated stats, then add it\n",
    "            shp_atts = {'iso2' : shps.iso2[i],\n",
    "                        'country' : shps.name_engli[i]}\n",
    "            tmp_d = {**zstats[0], **shp_atts, **tmp_metadata}\n",
    "            stats_per_file.append([tmp_d.get(key, None) for key in keys])"
   ]
  },
  {
   "cell_type": "code",
   "execution_count": 5,
   "metadata": {
    "collapsed": false
   },
   "outputs": [
    {
     "data": {
      "text/html": [
       "<div>\n",
       "<table border=\"1\" class=\"dataframe\">\n",
       "  <thead>\n",
       "    <tr style=\"text-align: right;\">\n",
       "      <th></th>\n",
       "      <th>country</th>\n",
       "      <th>iso2</th>\n",
       "      <th>admin1</th>\n",
       "      <th>admin2</th>\n",
       "      <th>variable</th>\n",
       "      <th>SWL_info</th>\n",
       "      <th>count</th>\n",
       "      <th>max</th>\n",
       "      <th>min</th>\n",
       "      <th>mean</th>\n",
       "      <th>std</th>\n",
       "      <th>impact_tag</th>\n",
       "      <th>institution</th>\n",
       "      <th>model_long_name</th>\n",
       "      <th>model_short_name</th>\n",
       "      <th>model_taxonomy</th>\n",
       "      <th>is_multi_model_summary</th>\n",
       "      <th>is_seasonal</th>\n",
       "    </tr>\n",
       "  </thead>\n",
       "  <tbody>\n",
       "    <tr>\n",
       "      <th>0</th>\n",
       "      <td>Norway</td>\n",
       "      <td>NO</td>\n",
       "      <td>None</td>\n",
       "      <td>None</td>\n",
       "      <td>cSoil</td>\n",
       "      <td>1.5</td>\n",
       "      <td>307</td>\n",
       "      <td>21.694836</td>\n",
       "      <td>10.195782</td>\n",
       "      <td>13.438408</td>\n",
       "      <td>2.055015</td>\n",
       "      <td>eco</td>\n",
       "      <td>LSCE</td>\n",
       "      <td>ORCHIDEE</td>\n",
       "      <td>orchidee</td>\n",
       "      <td>orchidee-giss-ecearth</td>\n",
       "      <td>False</td>\n",
       "      <td>False</td>\n",
       "    </tr>\n",
       "    <tr>\n",
       "      <th>1</th>\n",
       "      <td>Thailand</td>\n",
       "      <td>TH</td>\n",
       "      <td>None</td>\n",
       "      <td>None</td>\n",
       "      <td>cSoil</td>\n",
       "      <td>1.5</td>\n",
       "      <td>221</td>\n",
       "      <td>7.480751</td>\n",
       "      <td>1.998384</td>\n",
       "      <td>4.075577</td>\n",
       "      <td>1.098488</td>\n",
       "      <td>eco</td>\n",
       "      <td>LSCE</td>\n",
       "      <td>ORCHIDEE</td>\n",
       "      <td>orchidee</td>\n",
       "      <td>orchidee-giss-ecearth</td>\n",
       "      <td>False</td>\n",
       "      <td>False</td>\n",
       "    </tr>\n",
       "    <tr>\n",
       "      <th>2</th>\n",
       "      <td>Venezuela</td>\n",
       "      <td>VE</td>\n",
       "      <td>None</td>\n",
       "      <td>None</td>\n",
       "      <td>cSoil</td>\n",
       "      <td>1.5</td>\n",
       "      <td>341</td>\n",
       "      <td>11.517319</td>\n",
       "      <td>0.612950</td>\n",
       "      <td>5.481054</td>\n",
       "      <td>1.990044</td>\n",
       "      <td>eco</td>\n",
       "      <td>LSCE</td>\n",
       "      <td>ORCHIDEE</td>\n",
       "      <td>orchidee</td>\n",
       "      <td>orchidee-giss-ecearth</td>\n",
       "      <td>False</td>\n",
       "      <td>False</td>\n",
       "    </tr>\n",
       "    <tr>\n",
       "      <th>3</th>\n",
       "      <td>Nigeria</td>\n",
       "      <td>NG</td>\n",
       "      <td>None</td>\n",
       "      <td>None</td>\n",
       "      <td>cSoil</td>\n",
       "      <td>1.5</td>\n",
       "      <td>335</td>\n",
       "      <td>6.299715</td>\n",
       "      <td>0.343887</td>\n",
       "      <td>2.673200</td>\n",
       "      <td>1.205588</td>\n",
       "      <td>eco</td>\n",
       "      <td>LSCE</td>\n",
       "      <td>ORCHIDEE</td>\n",
       "      <td>orchidee</td>\n",
       "      <td>orchidee-giss-ecearth</td>\n",
       "      <td>False</td>\n",
       "      <td>False</td>\n",
       "    </tr>\n",
       "    <tr>\n",
       "      <th>4</th>\n",
       "      <td>Argentina</td>\n",
       "      <td>AR</td>\n",
       "      <td>None</td>\n",
       "      <td>None</td>\n",
       "      <td>cSoil</td>\n",
       "      <td>1.5</td>\n",
       "      <td>1231</td>\n",
       "      <td>26.460190</td>\n",
       "      <td>0.000000</td>\n",
       "      <td>4.512354</td>\n",
       "      <td>4.254507</td>\n",
       "      <td>eco</td>\n",
       "      <td>LSCE</td>\n",
       "      <td>ORCHIDEE</td>\n",
       "      <td>orchidee</td>\n",
       "      <td>orchidee-giss-ecearth</td>\n",
       "      <td>False</td>\n",
       "      <td>False</td>\n",
       "    </tr>\n",
       "  </tbody>\n",
       "</table>\n",
       "</div>"
      ],
      "text/plain": [
       "     country iso2 admin1 admin2 variable  SWL_info  count        max  \\\n",
       "0     Norway   NO   None   None    cSoil       1.5    307  21.694836   \n",
       "1   Thailand   TH   None   None    cSoil       1.5    221   7.480751   \n",
       "2  Venezuela   VE   None   None    cSoil       1.5    341  11.517319   \n",
       "3    Nigeria   NG   None   None    cSoil       1.5    335   6.299715   \n",
       "4  Argentina   AR   None   None    cSoil       1.5   1231  26.460190   \n",
       "\n",
       "         min       mean       std impact_tag institution model_long_name  \\\n",
       "0  10.195782  13.438408  2.055015        eco        LSCE        ORCHIDEE   \n",
       "1   1.998384   4.075577  1.098488        eco        LSCE        ORCHIDEE   \n",
       "2   0.612950   5.481054  1.990044        eco        LSCE        ORCHIDEE   \n",
       "3   0.343887   2.673200  1.205588        eco        LSCE        ORCHIDEE   \n",
       "4   0.000000   4.512354  4.254507        eco        LSCE        ORCHIDEE   \n",
       "\n",
       "  model_short_name         model_taxonomy is_multi_model_summary is_seasonal  \n",
       "0         orchidee  orchidee-giss-ecearth                  False       False  \n",
       "1         orchidee  orchidee-giss-ecearth                  False       False  \n",
       "2         orchidee  orchidee-giss-ecearth                  False       False  \n",
       "3         orchidee  orchidee-giss-ecearth                  False       False  \n",
       "4         orchidee  orchidee-giss-ecearth                  False       False  "
      ]
     },
     "execution_count": 5,
     "metadata": {},
     "output_type": "execute_result"
    }
   ],
   "source": [
    "df = pd.DataFrame(stats_per_file, columns=keys)\n",
    "df.head()"
   ]
  },
  {
   "cell_type": "code",
   "execution_count": 6,
   "metadata": {
    "collapsed": true
   },
   "outputs": [],
   "source": [
    "df.to_csv('./processed/raw_output.csv')"
   ]
  },
  {
   "cell_type": "markdown",
   "metadata": {},
   "source": [
    "Next steps:\n",
    "\n",
    "* Need to ensure this can handel any admin1 or admin2 level shapefiles.\n",
    "* Need to paraellise this so it will run in a convienient time\n",
    "* Need to check that the regex changes Alex applied post-table creation are included"
   ]
  },
  {
   "cell_type": "code",
   "execution_count": null,
   "metadata": {
    "collapsed": true
   },
   "outputs": [],
   "source": []
  }
 ],
 "metadata": {
  "kernelspec": {
   "display_name": "Python 3",
   "language": "python",
   "name": "python3"
  },
  "language_info": {
   "codemirror_mode": {
    "name": "ipython",
    "version": 3
   },
   "file_extension": ".py",
   "mimetype": "text/x-python",
   "name": "python",
   "nbconvert_exporter": "python",
   "pygments_lexer": "ipython3",
   "version": "3.5.3"
  }
 },
 "nbformat": 4,
 "nbformat_minor": 2
}
