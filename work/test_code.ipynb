{
 "cells": [
  {
   "cell_type": "markdown",
   "metadata": {},
   "source": [
    "## Using helix_funcs\n",
    "\n",
    "An example of how to use the helix_funcs module to process the HelixScope datafiles, and generate a master output table.\n",
    "\n",
    "Process_files should generate a similarly named csv file in the process folder.\n",
    "combine_processed "
   ]
  },
  {
   "cell_type": "code",
   "execution_count": 1,
   "metadata": {
    "collapsed": false
   },
   "outputs": [],
   "source": [
    "import helix_funcs\n",
    "import geopandas as gpd\n",
    "import pandas as pd\n",
    "from tqdm import tqdm"
   ]
  },
  {
   "cell_type": "code",
   "execution_count": 2,
   "metadata": {
    "collapsed": false
   },
   "outputs": [],
   "source": [
    "s = gpd.read_file('./data/gadm28_adm1/gadm28_adm1.shp')\n",
    "s = s.to_crs(epsg='4326')"
   ]
  },
  {
   "cell_type": "code",
   "execution_count": 3,
   "metadata": {
    "collapsed": false
   },
   "outputs": [],
   "source": [
    "fs = helix_funcs.identify_netcdf_and_csv_files()"
   ]
  },
  {
   "cell_type": "code",
   "execution_count": 5,
   "metadata": {
    "collapsed": false
   },
   "outputs": [],
   "source": [
    "# test_list = ['data/UEA_data/climate/pr/ECEARTH-R1.SWL_15.cl.pr.Apr.nc',\n",
    "#             'data/CNRS_data/cSoil/orchidee-giss-ecearth.SWL_2.eco.cSoil.nc'\n",
    "#             ]"
   ]
  },
  {
   "cell_type": "code",
   "execution_count": 6,
   "metadata": {
    "collapsed": false
   },
   "outputs": [
    {
     "name": "stdout",
     "output_type": "stream",
     "text": [
      "Processing 'data/UEA_data/climate/pr/ECEARTH-R1.SWL_15.cl.pr.Apr.nc'\n"
     ]
    },
    {
     "name": "stderr",
     "output_type": "stream",
     "text": [
      "WARNING:rasterio._gdal:CPLE_AppDefined in No UNIDATA NC_GLOBAL:Conventions attribute\n"
     ]
    },
    {
     "name": "stdout",
     "output_type": "stream",
     "text": [
      "Processing 'data/CNRS_data/cSoil/orchidee-giss-ecearth.SWL_2.eco.cSoil.nc'\n"
     ]
    }
   ],
   "source": [
    "for f in tqdm(fs['nc'][0:4]):\n",
    "    helix_funcs.process_file(file=f, shps=s, verbose=False)"
   ]
  },
  {
   "cell_type": "code",
   "execution_count": null,
   "metadata": {
    "collapsed": true
   },
   "outputs": [],
   "source": []
  },
  {
   "cell_type": "code",
   "execution_count": 7,
   "metadata": {
    "collapsed": false
   },
   "outputs": [
    {
     "name": "stdout",
     "output_type": "stream",
     "text": [
      "Made ./master_admin1.csv: 6,759 rows of data. 2 sources.\n"
     ]
    }
   ],
   "source": [
    "helix_funcs.combine_processed_results()"
   ]
  },
  {
   "cell_type": "code",
   "execution_count": 8,
   "metadata": {
    "collapsed": false
   },
   "outputs": [
    {
     "data": {
      "text/html": [
       "<div>\n",
       "<style>\n",
       "    .dataframe thead tr:only-child th {\n",
       "        text-align: right;\n",
       "    }\n",
       "\n",
       "    .dataframe thead th {\n",
       "        text-align: left;\n",
       "    }\n",
       "\n",
       "    .dataframe tbody tr th {\n",
       "        vertical-align: top;\n",
       "    }\n",
       "</style>\n",
       "<table border=\"1\" class=\"dataframe\">\n",
       "  <thead>\n",
       "    <tr style=\"text-align: right;\">\n",
       "      <th></th>\n",
       "      <th>name_0</th>\n",
       "      <th>iso</th>\n",
       "      <th>id_1</th>\n",
       "      <th>name_1</th>\n",
       "      <th>engtype_1</th>\n",
       "      <th>variable</th>\n",
       "      <th>swl_info</th>\n",
       "      <th>count</th>\n",
       "      <th>max</th>\n",
       "      <th>min</th>\n",
       "      <th>...</th>\n",
       "      <th>impact_tag</th>\n",
       "      <th>institution</th>\n",
       "      <th>model_long_name</th>\n",
       "      <th>model_short_name</th>\n",
       "      <th>model_taxonomy</th>\n",
       "      <th>is_multi_model_summary</th>\n",
       "      <th>is_seasonal</th>\n",
       "      <th>season</th>\n",
       "      <th>is_monthly</th>\n",
       "      <th>month</th>\n",
       "    </tr>\n",
       "  </thead>\n",
       "  <tbody>\n",
       "    <tr>\n",
       "      <th>0</th>\n",
       "      <td>Mexico</td>\n",
       "      <td>MEX</td>\n",
       "      <td>9</td>\n",
       "      <td>Ciudad de México</td>\n",
       "      <td>Federal District</td>\n",
       "      <td>cSoil</td>\n",
       "      <td>2.0</td>\n",
       "      <td>3</td>\n",
       "      <td>9.882084</td>\n",
       "      <td>5.708925</td>\n",
       "      <td>...</td>\n",
       "      <td>eco</td>\n",
       "      <td>LSCE</td>\n",
       "      <td>ORCHIDEE</td>\n",
       "      <td>orchidee</td>\n",
       "      <td>orchidee-giss-ecearth</td>\n",
       "      <td>False</td>\n",
       "      <td>False</td>\n",
       "      <td>NaN</td>\n",
       "      <td>False</td>\n",
       "      <td>NaN</td>\n",
       "    </tr>\n",
       "    <tr>\n",
       "      <th>1</th>\n",
       "      <td>Haiti</td>\n",
       "      <td>HTI</td>\n",
       "      <td>3</td>\n",
       "      <td>L'Artibonite</td>\n",
       "      <td>Department</td>\n",
       "      <td>cSoil</td>\n",
       "      <td>2.0</td>\n",
       "      <td>6</td>\n",
       "      <td>4.863313</td>\n",
       "      <td>2.137869</td>\n",
       "      <td>...</td>\n",
       "      <td>eco</td>\n",
       "      <td>LSCE</td>\n",
       "      <td>ORCHIDEE</td>\n",
       "      <td>orchidee</td>\n",
       "      <td>orchidee-giss-ecearth</td>\n",
       "      <td>False</td>\n",
       "      <td>False</td>\n",
       "      <td>NaN</td>\n",
       "      <td>False</td>\n",
       "      <td>NaN</td>\n",
       "    </tr>\n",
       "    <tr>\n",
       "      <th>2</th>\n",
       "      <td>Honduras</td>\n",
       "      <td>HND</td>\n",
       "      <td>1</td>\n",
       "      <td>Atlántida</td>\n",
       "      <td>Department</td>\n",
       "      <td>cSoil</td>\n",
       "      <td>2.0</td>\n",
       "      <td>5</td>\n",
       "      <td>7.904777</td>\n",
       "      <td>5.777231</td>\n",
       "      <td>...</td>\n",
       "      <td>eco</td>\n",
       "      <td>LSCE</td>\n",
       "      <td>ORCHIDEE</td>\n",
       "      <td>orchidee</td>\n",
       "      <td>orchidee-giss-ecearth</td>\n",
       "      <td>False</td>\n",
       "      <td>False</td>\n",
       "      <td>NaN</td>\n",
       "      <td>False</td>\n",
       "      <td>NaN</td>\n",
       "    </tr>\n",
       "    <tr>\n",
       "      <th>3</th>\n",
       "      <td>Honduras</td>\n",
       "      <td>HND</td>\n",
       "      <td>3</td>\n",
       "      <td>Colón</td>\n",
       "      <td>Department</td>\n",
       "      <td>cSoil</td>\n",
       "      <td>2.0</td>\n",
       "      <td>9</td>\n",
       "      <td>7.317976</td>\n",
       "      <td>5.605846</td>\n",
       "      <td>...</td>\n",
       "      <td>eco</td>\n",
       "      <td>LSCE</td>\n",
       "      <td>ORCHIDEE</td>\n",
       "      <td>orchidee</td>\n",
       "      <td>orchidee-giss-ecearth</td>\n",
       "      <td>False</td>\n",
       "      <td>False</td>\n",
       "      <td>NaN</td>\n",
       "      <td>False</td>\n",
       "      <td>NaN</td>\n",
       "    </tr>\n",
       "    <tr>\n",
       "      <th>4</th>\n",
       "      <td>Guyana</td>\n",
       "      <td>GUY</td>\n",
       "      <td>9</td>\n",
       "      <td>Upper Demerara-Berbice</td>\n",
       "      <td>Region</td>\n",
       "      <td>cSoil</td>\n",
       "      <td>2.0</td>\n",
       "      <td>11</td>\n",
       "      <td>6.398812</td>\n",
       "      <td>4.786508</td>\n",
       "      <td>...</td>\n",
       "      <td>eco</td>\n",
       "      <td>LSCE</td>\n",
       "      <td>ORCHIDEE</td>\n",
       "      <td>orchidee</td>\n",
       "      <td>orchidee-giss-ecearth</td>\n",
       "      <td>False</td>\n",
       "      <td>False</td>\n",
       "      <td>NaN</td>\n",
       "      <td>False</td>\n",
       "      <td>NaN</td>\n",
       "    </tr>\n",
       "  </tbody>\n",
       "</table>\n",
       "<p>5 rows × 22 columns</p>\n",
       "</div>"
      ],
      "text/plain": [
       "     name_0  iso  id_1                  name_1         engtype_1 variable  \\\n",
       "0    Mexico  MEX     9        Ciudad de México  Federal District    cSoil   \n",
       "1     Haiti  HTI     3            L'Artibonite        Department    cSoil   \n",
       "2  Honduras  HND     1               Atlántida        Department    cSoil   \n",
       "3  Honduras  HND     3                   Colón        Department    cSoil   \n",
       "4    Guyana  GUY     9  Upper Demerara-Berbice            Region    cSoil   \n",
       "\n",
       "   swl_info  count       max       min  ...    impact_tag  institution  \\\n",
       "0       2.0      3  9.882084  5.708925  ...           eco         LSCE   \n",
       "1       2.0      6  4.863313  2.137869  ...           eco         LSCE   \n",
       "2       2.0      5  7.904777  5.777231  ...           eco         LSCE   \n",
       "3       2.0      9  7.317976  5.605846  ...           eco         LSCE   \n",
       "4       2.0     11  6.398812  4.786508  ...           eco         LSCE   \n",
       "\n",
       "  model_long_name model_short_name         model_taxonomy  \\\n",
       "0        ORCHIDEE         orchidee  orchidee-giss-ecearth   \n",
       "1        ORCHIDEE         orchidee  orchidee-giss-ecearth   \n",
       "2        ORCHIDEE         orchidee  orchidee-giss-ecearth   \n",
       "3        ORCHIDEE         orchidee  orchidee-giss-ecearth   \n",
       "4        ORCHIDEE         orchidee  orchidee-giss-ecearth   \n",
       "\n",
       "  is_multi_model_summary is_seasonal  season  is_monthly  month  \n",
       "0                  False       False     NaN       False    NaN  \n",
       "1                  False       False     NaN       False    NaN  \n",
       "2                  False       False     NaN       False    NaN  \n",
       "3                  False       False     NaN       False    NaN  \n",
       "4                  False       False     NaN       False    NaN  \n",
       "\n",
       "[5 rows x 22 columns]"
      ]
     },
     "execution_count": 8,
     "metadata": {},
     "output_type": "execute_result"
    }
   ],
   "source": [
    "tmp = pd.read_csv(\"./master_admin1.csv\")\n",
    "tmp.head()"
   ]
  },
  {
   "cell_type": "code",
   "execution_count": null,
   "metadata": {
    "collapsed": false
   },
   "outputs": [],
   "source": [
    "outputs = helix_funcs.identify_netcdf_and_csv_files('processed/')"
   ]
  },
  {
   "cell_type": "code",
   "execution_count": null,
   "metadata": {
    "collapsed": false
   },
   "outputs": [],
   "source": [
    "outputs['csv'][-1]"
   ]
  },
  {
   "cell_type": "code",
   "execution_count": null,
   "metadata": {
    "collapsed": false
   },
   "outputs": [],
   "source": [
    "tmp = pd.read_csv(outputs['csv'][-1])"
   ]
  }
 ],
 "metadata": {
  "kernelspec": {
   "display_name": "Python 3",
   "language": "python",
   "name": "python3"
  },
  "language_info": {
   "codemirror_mode": {
    "name": "ipython",
    "version": 3
   },
   "file_extension": ".py",
   "mimetype": "text/x-python",
   "name": "python",
   "nbconvert_exporter": "python",
   "pygments_lexer": "ipython3",
   "version": "3.5.3"
  }
 },
 "nbformat": 4,
 "nbformat_minor": 2
}
