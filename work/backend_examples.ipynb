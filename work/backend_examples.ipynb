{
 "cells": [
  {
   "cell_type": "markdown",
   "metadata": {},
   "source": [
    "## Helixscope Developer Queries\n",
    "\n",
    "This notebook explains the metadata and back-end queries required to build the Helixscope project. \n",
    "\n",
    "Note ISO2 codes are used to link the `gadm28_countries` table to the summary data tables. The below mapping links the codes to human-readable names for the front-end.\n",
    "\n",
    "\n",
    "*Specific warming levels*\n",
    "```json\n",
    "{'1.5':'1.5°C specific warming level',\n",
    " '2':'2°C specific warming level',\n",
    " '4':'4°C specific warming level',\n",
    " '6':'6°C specific warming level'}\n",
    "```\n",
    "\n",
    "\n",
    "*Climate Variables*\n",
    "\n",
    "```json\n",
    "{'time_perc_change_SPI48':'info',\n",
    "'nbp':'info',\n",
    "'time_perc_change_SPI6':'info',\n",
    "'time_perc_change_SRI48':'info',\n",
    "'gpp':'info',\n",
    "'evap':'info',\n",
    "'perc_change_low_roff':'info',\n",
    "'perc_change_roff':'info',\n",
    "'time_perc_change_SRI6':'info'}\n",
    "\n",
    "```"
   ]
  },
  {
   "cell_type": "code",
   "execution_count": 1,
   "metadata": {
    "collapsed": true
   },
   "outputs": [],
   "source": [
    "import folium\n",
    "import pprint\n",
    "import requests\n",
    "import json"
   ]
  },
  {
   "cell_type": "markdown",
   "metadata": {},
   "source": [
    "## Generate Choropleths \n",
    "\n",
    "Country-wide choropleths based on means."
   ]
  },
  {
   "cell_type": "code",
   "execution_count": 5,
   "metadata": {
    "collapsed": false,
    "scrolled": false
   },
   "outputs": [
    {
     "name": "stdout",
     "output_type": "stream",
     "text": [
      "https://helixscope.carto.com/api/v1/map\n",
      "{'cdn_url': {'http': 'ashbu.cartocdn.com',\n",
      "             'https': 'cartocdn-ashbu.global.ssl.fastly.net',\n",
      "             'templates': {'http': {'subdomains': ['0', '1', '2', '3'],\n",
      "                                    'url': 'http://{s}.ashbu.cartocdn.com'},\n",
      "                           'https': {'subdomains': ['a', 'b', 'c', 'd'],\n",
      "                                     'url': 'https://cartocdn-ashbu_{s}.global.ssl.fastly.net'}}},\n",
      " 'last_updated': '2017-10-09T10:48:23.990Z',\n",
      " 'layergroupid': 'b3948ad450229db94e28884e4fdcb981:1507546103990',\n",
      " 'metadata': {'analyses': [],\n",
      "              'dataviews': {},\n",
      "              'layers': [{'id': 'layer0',\n",
      "                          'meta': {'cartocss': '#layer {polygon-fill: '\n",
      "                                               '#a50026;[ mean > -35.914 ] '\n",
      "                                               '{polygon-fill: #d73027;}[ mean '\n",
      "                                               '> -26.688 ] {polygon-fill: '\n",
      "                                               '#f46d43;}[ mean > -17.462 ] '\n",
      "                                               '{polygon-fill: #fdae61;}[ mean '\n",
      "                                               '> -8.236 ] {polygon-fill: '\n",
      "                                               '#fee090;}[ mean > 0.99 ] '\n",
      "                                               '{polygon-fill: #e0f3f8;}[ mean '\n",
      "                                               '> 10.216 ] {polygon-fill: '\n",
      "                                               '#abd9e9;}[ mean > 19.442 ] '\n",
      "                                               '{polygon-fill: #74add1;}[ mean '\n",
      "                                               '> 28.668 ] {polygon-fill: '\n",
      "                                               '#4575b4;}[ mean > 37.894 ] '\n",
      "                                               '{polygon-fill: #313695;}\\n'\n",
      "                                               '                   '\n",
      "                                               'polygon-opacity: 0.9;}',\n",
      "                                   'cartocss_meta': {'rules': [{'buckets': [{'filter': {'end': -35.914,\n",
      "                                                                                        'start': -45.14,\n",
      "                                                                                        'type': 'range'},\n",
      "                                                                             'value': '#a50026'},\n",
      "                                                                            {'filter': {'end': -26.688,\n",
      "                                                                                        'start': -35.914,\n",
      "                                                                                        'type': 'range'},\n",
      "                                                                             'value': '#d73027'},\n",
      "                                                                            {'filter': {'end': -17.462,\n",
      "                                                                                        'start': -26.688,\n",
      "                                                                                        'type': 'range'},\n",
      "                                                                             'value': '#f46d43'},\n",
      "                                                                            {'filter': {'end': -8.236,\n",
      "                                                                                        'start': -17.462,\n",
      "                                                                                        'type': 'range'},\n",
      "                                                                             'value': '#fdae61'},\n",
      "                                                                            {'filter': {'end': 0.99,\n",
      "                                                                                        'start': -8.236,\n",
      "                                                                                        'type': 'range'},\n",
      "                                                                             'value': '#fee090'},\n",
      "                                                                            {'filter': {'end': 10.216,\n",
      "                                                                                        'start': 0.99,\n",
      "                                                                                        'type': 'range'},\n",
      "                                                                             'value': '#e0f3f8'},\n",
      "                                                                            {'filter': {'end': 19.442,\n",
      "                                                                                        'start': 10.216,\n",
      "                                                                                        'type': 'range'},\n",
      "                                                                             'value': '#abd9e9'},\n",
      "                                                                            {'filter': {'end': 28.668,\n",
      "                                                                                        'start': 19.442,\n",
      "                                                                                        'type': 'range'},\n",
      "                                                                             'value': '#74add1'},\n",
      "                                                                            {'filter': {'end': 37.894,\n",
      "                                                                                        'start': 28.668,\n",
      "                                                                                        'type': 'range'},\n",
      "                                                                             'value': '#4575b4'},\n",
      "                                                                            {'filter': {'end': 47.12,\n",
      "                                                                                        'start': 37.894,\n",
      "                                                                                        'type': 'range'},\n",
      "                                                                             'value': '#313695'}],\n",
      "                                                                'column': 'mean',\n",
      "                                                                'mapping': '>',\n",
      "                                                                'prop': 'polygon-fill',\n",
      "                                                                'selector': '#layer',\n",
      "                                                                'stats': {'filter_avg': 25.1915411931817}}]},\n",
      "                                   'stats': {'estimatedFeatureCount': -1}},\n",
      "                          'type': 'mapnik'}]}}\n"
     ]
    },
    {
     "data": {
      "text/html": [
       "<div style=\"width:100%;\"><div style=\"position:relative;width:100%;height:0;padding-bottom:60%;\"><iframe src=\"data:text/html;charset=utf-8;base64,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\" style=\"position:absolute;width:100%;height:100%;left:0;top:0;border:none !important;\" allowfullscreen webkitallowfullscreen mozallowfullscreen></iframe></div></div>"
      ],
      "text/plain": [
       "<folium.folium.Map at 0x7f020b1f8cf8>"
      ]
     },
     "execution_count": 5,
     "metadata": {},
     "output_type": "execute_result"
    }
   ],
   "source": [
    "query = \"\"\"WITH data as (SELECT * FROM master_admin0\n",
    " Where variable like 'tx'\n",
    " AND swl_info = '2')\n",
    " SELECT gadm28_countries.iso, gadm28_countries.the_geom_webmercator,\n",
    " gadm28_countries.cartodb_id, mean as mean from data inner join gadm28_countries \n",
    " on data.iso=gadm28_countries.iso\n",
    "\"\"\"\n",
    "\n",
    "# style = \"\"\"#layer {polygon-fill: ramp([mean], colorbrewer(Reds), jenks());\n",
    "#                    polygon-opacity: 0.9;}\"\"\"\n",
    "\n",
    "style = \"\"\"#layer {polygon-fill: ramp([mean], colorbrewer(RdYlBu), equal(10));\n",
    "                   polygon-opacity: 0.9;}\"\"\"\n",
    "\n",
    "account = 'helixscope'\n",
    "urlCarto = 'https://'+account+'.carto.com/api/v1/map'\n",
    "body = {\n",
    "    \"layers\": [{\n",
    "        \"type\": \"cartodb\",\n",
    "        \"options\": {\n",
    "            \"sql\": query,\n",
    "            \"cartocss\":style,\n",
    "            \"cartocss_version\": \"2.1.1\"\n",
    "        }\n",
    "    }]\n",
    "}\n",
    "\n",
    "r = requests.post(urlCarto, data=json.dumps(body), headers={'content-type': 'application/json; charset=UTF-8'})\n",
    "print(r.url)\n",
    "pprint.pprint(r.json())\n",
    "\n",
    "tileUrl = 'https://'+account+'.carto.com/api/v1/map/' + r.json()['layergroupid'] + '/{z}/{x}/{y}.png32';\n",
    "\n",
    "map_osm2 = folium.Map(location=[45.5236, 0.6750], zoom_start=3)\n",
    "folium.TileLayer(\n",
    "    tiles=tileUrl,\n",
    "    attr='text',\n",
    "    name='text',\n",
    "    overlay=True\n",
    ").add_to(map_osm2)\n",
    "\n",
    "map_osm2"
   ]
  },
  {
   "cell_type": "markdown",
   "metadata": {
    "collapsed": true
   },
   "source": [
    "## Example of getting gridded data "
   ]
  },
  {
   "cell_type": "code",
   "execution_count": 4,
   "metadata": {
    "collapsed": false,
    "scrolled": false
   },
   "outputs": [
    {
     "name": "stdout",
     "output_type": "stream",
     "text": [
      "https://helixscope.carto.com/api/v1/map\n",
      "{'cdn_url': {'http': 'ashbu.cartocdn.com',\n",
      "             'https': 'cartocdn-ashbu.global.ssl.fastly.net',\n",
      "             'templates': {'http': {'subdomains': ['0', '1', '2', '3'],\n",
      "                                    'url': 'http://{s}.ashbu.cartocdn.com'},\n",
      "                           'https': {'subdomains': ['a', 'b', 'c', 'd'],\n",
      "                                     'url': 'https://cartocdn-ashbu_{s}.global.ssl.fastly.net'}}},\n",
      " 'last_updated': '2017-10-09T10:58:42.856Z',\n",
      " 'layergroupid': 'c1cba37c8f31254bebadfe209621676d:1507546722856',\n",
      " 'metadata': {'analyses': [],\n",
      "              'dataviews': {},\n",
      "              'layers': [{'id': 'layer0',\n",
      "                          'meta': {'cartocss': '#layer {polygon-fill: '\n",
      "                                               '#a50026;[ mean > '\n",
      "                                               '-46.6065379753113 ] '\n",
      "                                               '{polygon-fill: #d73027;}[ mean '\n",
      "                                               '> -36.7951068954468 ] '\n",
      "                                               '{polygon-fill: #f46d43;}[ mean '\n",
      "                                               '> -26.9836758155823 ] '\n",
      "                                               '{polygon-fill: #fdae61;}[ mean '\n",
      "                                               '> -17.1722447357178 ] '\n",
      "                                               '{polygon-fill: #fee090;}[ mean '\n",
      "                                               '> -7.3608136558533 ] '\n",
      "                                               '{polygon-fill: #e0f3f8;}[ mean '\n",
      "                                               '> 2.4506174240112 ] '\n",
      "                                               '{polygon-fill: #abd9e9;}[ mean '\n",
      "                                               '> 12.2620485038757 ] '\n",
      "                                               '{polygon-fill: #74add1;}[ mean '\n",
      "                                               '> 22.0734795837402 ] '\n",
      "                                               '{polygon-fill: #4575b4;}[ mean '\n",
      "                                               '> 31.8849106636047 ] '\n",
      "                                               '{polygon-fill: #313695;}\\n'\n",
      "                                               '                   '\n",
      "                                               'polygon-opacity: 0.9;}',\n",
      "                                   'cartocss_meta': {'rules': [{'buckets': [{'filter': {'end': -46.6065379753113,\n",
      "                                                                                        'start': -56.4179690551758,\n",
      "                                                                                        'type': 'range'},\n",
      "                                                                             'value': '#a50026'},\n",
      "                                                                            {'filter': {'end': -36.7951068954468,\n",
      "                                                                                        'start': -46.6065379753113,\n",
      "                                                                                        'type': 'range'},\n",
      "                                                                             'value': '#d73027'},\n",
      "                                                                            {'filter': {'end': -26.9836758155823,\n",
      "                                                                                        'start': -36.7951068954468,\n",
      "                                                                                        'type': 'range'},\n",
      "                                                                             'value': '#f46d43'},\n",
      "                                                                            {'filter': {'end': -17.1722447357178,\n",
      "                                                                                        'start': -26.9836758155823,\n",
      "                                                                                        'type': 'range'},\n",
      "                                                                             'value': '#fdae61'},\n",
      "                                                                            {'filter': {'end': -7.3608136558533,\n",
      "                                                                                        'start': -17.1722447357178,\n",
      "                                                                                        'type': 'range'},\n",
      "                                                                             'value': '#fee090'},\n",
      "                                                                            {'filter': {'end': 2.4506174240112,\n",
      "                                                                                        'start': -7.3608136558533,\n",
      "                                                                                        'type': 'range'},\n",
      "                                                                             'value': '#e0f3f8'},\n",
      "                                                                            {'filter': {'end': 12.2620485038757,\n",
      "                                                                                        'start': 2.4506174240112,\n",
      "                                                                                        'type': 'range'},\n",
      "                                                                             'value': '#abd9e9'},\n",
      "                                                                            {'filter': {'end': 22.0734795837402,\n",
      "                                                                                        'start': 12.2620485038757,\n",
      "                                                                                        'type': 'range'},\n",
      "                                                                             'value': '#74add1'},\n",
      "                                                                            {'filter': {'end': 31.8849106636047,\n",
      "                                                                                        'start': 22.0734795837402,\n",
      "                                                                                        'type': 'range'},\n",
      "                                                                             'value': '#4575b4'},\n",
      "                                                                            {'filter': {'end': 41.6963417434692,\n",
      "                                                                                        'start': 31.8849106636047,\n",
      "                                                                                        'type': 'range'},\n",
      "                                                                             'value': '#313695'}],\n",
      "                                                                'column': 'mean',\n",
      "                                                                'mapping': '>',\n",
      "                                                                'prop': 'polygon-fill',\n",
      "                                                                'selector': '#layer',\n",
      "                                                                'stats': {'filter_avg': 6.62938073816761}}]},\n",
      "                                   'stats': {'estimatedFeatureCount': -1}},\n",
      "                          'type': 'mapnik'}]}}\n"
     ]
    },
    {
     "data": {
      "text/html": [
       "<div style=\"width:100%;\"><div style=\"position:relative;width:100%;height:0;padding-bottom:60%;\"><iframe src=\"data:text/html;charset=utf-8;base64,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\" style=\"position:absolute;width:100%;height:100%;left:0;top:0;border:none !important;\" allowfullscreen webkitallowfullscreen mozallowfullscreen></iframe></div></div>"
      ],
      "text/plain": [
       "<folium.folium.Map at 0x7f020b842f98>"
      ]
     },
     "execution_count": 4,
     "metadata": {},
     "output_type": "execute_result"
    }
   ],
   "source": [
    "swl_variable = '4'\n",
    "climate_variable = 'tx'\n",
    "data_table = 'ecearth_r3_swl_2_cl_tx_mam'\n",
    "\n",
    "query = \"\"\"WITH data as (SELECT * FROM ecearth_r3_swl_2_cl_tx_mam\n",
    " Where variable like 'tx'\n",
    " AND swl_info = '2')\n",
    " SELECT sanitized_grid.id_val, sanitized_grid.the_geom_webmercator,\n",
    " sanitized_grid.cartodb_id, mean as mean from data inner join sanitized_grid \n",
    " on data.shape_id=sanitized_grid.id_val\n",
    "\"\"\"\n",
    "\n",
    "style = \"\"\"#layer {polygon-fill: ramp([mean], colorbrewer(RdYlBu), equal(10));\n",
    "                   polygon-opacity: 0.9;}\"\"\"\n",
    "\n",
    "account = 'helixscope'\n",
    "urlCarto = 'https://'+account+'.carto.com/api/v1/map'\n",
    "body = {\n",
    "    \"layers\": [{\n",
    "        \"type\": \"cartodb\",\n",
    "        \"options\": {\n",
    "            \"sql\": query,\n",
    "            \"cartocss\":style,\n",
    "            \"cartocss_version\": \"2.1.1\"\n",
    "        }\n",
    "    }]\n",
    "}\n",
    "\n",
    "r = requests.post(urlCarto, data=json.dumps(body), headers={'content-type': 'application/json; charset=UTF-8'})\n",
    "print(r.url)\n",
    "pprint.pprint(r.json())\n",
    "\n",
    "tileUrl = 'https://'+account+'.carto.com/api/v1/map/' + r.json()['layergroupid'] + '/{z}/{x}/{y}.png32';\n",
    "\n",
    "map_osm_grid = folium.Map(location=[45.5236, 0.6750], zoom_start=3)\n",
    "folium.TileLayer(\n",
    "    tiles=tileUrl,\n",
    "    attr='text',\n",
    "    name='text',\n",
    "    overlay=True\n",
    ").add_to(map_osm_grid)\n",
    "\n",
    "map_osm_grid"
   ]
  },
  {
   "cell_type": "markdown",
   "metadata": {},
   "source": [
    "### Example of Calling Country-wide data Tables"
   ]
  },
  {
   "cell_type": "code",
   "execution_count": 3,
   "metadata": {
    "collapsed": false
   },
   "outputs": [
    {
     "name": "stdout",
     "output_type": "stream",
     "text": [
      "https://helixscope.carto.com/api/v2/sql?q=SELECT+iso%2C+mean%2C+max%2C+count%2C+min%2C+std%2C+model_long_name%2C+model_short_name%2C+model_taxonomy%0A++++FROM+master_admin0%0A++++Where+swl_info+%3D+%274%27%0A++++AND+season+%3D+%27MAM%27%0A++++AND+model_short_name+%3D+%27HADGEM3%27%0A++++AND+run+%3D+1%0A++++LIMIT+3%0A\n",
      "{'fields': {'count': {'type': 'number'},\n",
      "            'iso': {'type': 'string'},\n",
      "            'max': {'type': 'number'},\n",
      "            'mean': {'type': 'number'},\n",
      "            'min': {'type': 'number'},\n",
      "            'model_long_name': {'type': 'string'},\n",
      "            'model_short_name': {'type': 'string'},\n",
      "            'model_taxonomy': {'type': 'string'},\n",
      "            'std': {'type': 'number'}},\n",
      " 'rows': [{'count': 382,\n",
      "           'iso': 'NOR',\n",
      "           'max': 14.35,\n",
      "           'mean': 8.33,\n",
      "           'min': 1.04,\n",
      "           'model_long_name': 'HADGEM3-R1',\n",
      "           'model_short_name': 'HADGEM3',\n",
      "           'model_taxonomy': 'HADGEM3',\n",
      "           'std': 2.71},\n",
      "          {'count': 1,\n",
      "           'iso': 'TKL',\n",
      "           'max': 34.12,\n",
      "           'mean': 34.12,\n",
      "           'min': 34.12,\n",
      "           'model_long_name': 'HADGEM3-R1',\n",
      "           'model_short_name': 'HADGEM3',\n",
      "           'model_taxonomy': 'HADGEM3',\n",
      "           'std': 0},\n",
      "          {'count': 250,\n",
      "           'iso': 'THA',\n",
      "           'max': 40.85,\n",
      "           'mean': 37.92,\n",
      "           'min': 32.85,\n",
      "           'model_long_name': 'HADGEM3-R1',\n",
      "           'model_short_name': 'HADGEM3',\n",
      "           'model_taxonomy': 'HADGEM3',\n",
      "           'std': 1.75}],\n",
      " 'time': 0.082,\n",
      " 'total_rows': 3}\n"
     ]
    }
   ],
   "source": [
    "swl_variable = '4'\n",
    "climate_variable = 'tx'\n",
    "data_table = 'master_amin0'\n",
    "\n",
    "query = \"\"\"SELECT iso, mean, max, count, min, std, model_long_name, model_short_name, model_taxonomy\n",
    "    FROM master_admin0\n",
    "    Where swl_info = '4'\n",
    "    AND season = 'MAM'\n",
    "    AND model_short_name = 'HADGEM3'\n",
    "    AND run = 1\n",
    "    LIMIT 3\n",
    "\"\"\"\n",
    "\n",
    "account = 'helixscope'\n",
    "urlCarto = \"https://{0}.carto.com/api/v2/sql\".format(account)\n",
    "\n",
    "sql = {\"q\": query}\n",
    "r = requests.get(urlCarto, params=sql)\n",
    "print(r.url)\n",
    "pprint.pprint(r.json())"
   ]
  },
  {
   "cell_type": "markdown",
   "metadata": {},
   "source": [
    "## notes + dev past this point"
   ]
  },
  {
   "cell_type": "code",
   "execution_count": null,
   "metadata": {
    "collapsed": true
   },
   "outputs": [],
   "source": []
  },
  {
   "cell_type": "code",
   "execution_count": null,
   "metadata": {
    "collapsed": true
   },
   "outputs": [],
   "source": []
  },
  {
   "cell_type": "code",
   "execution_count": null,
   "metadata": {
    "collapsed": true
   },
   "outputs": [],
   "source": []
  },
  {
   "cell_type": "code",
   "execution_count": null,
   "metadata": {
    "collapsed": false,
    "scrolled": false
   },
   "outputs": [],
   "source": [
    "swl_variable = '1.5'\n",
    "climate_variable = 'cSoil'\n",
    "data_table = 'joined_summaries_2017_08_27'\n",
    "\n",
    "query = \"\"\"WITH data as (SELECT * FROM master_admin0\n",
    " Where variable like 'cSoil'\n",
    " AND swl_info = '1.5')\n",
    " SELECT gadm28_countries.iso2, gadm28_countries.the_geom_webmercator,\n",
    " gadm28_countries.cartodb_id, mean as mean from data inner join gadm28_countries \n",
    " on data.iso2=gadm28_countries.iso2\n",
    "\"\"\"\n",
    "\n",
    "style = \"\"\"#layer {polygon-fill: ramp([mean], colorbrewer(Reds), jenks());\n",
    "                   polygon-opacity: 0.9;}\"\"\"\n",
    "\n",
    "account = 'helixscope'\n",
    "urlCarto = 'https://'+account+'.carto.com/api/v1/map'\n",
    "body = {\n",
    "    \"layers\": [{\n",
    "        \"type\": \"cartodb\",\n",
    "        \"options\": {\n",
    "            \"sql\": query,\n",
    "            \"cartocss\":style,\n",
    "            \"cartocss_version\": \"2.1.1\"\n",
    "        }\n",
    "    }]\n",
    "}\n",
    "\n",
    "r = requests.post(urlCarto, data=json.dumps(body), headers={'content-type': 'application/json; charset=UTF-8'})\n",
    "print(r.url)\n",
    "pprint.pprint(r.json())\n",
    "\n",
    "tileUrl = 'https://'+account+'.carto.com/api/v1/map/' + r.json()['layergroupid'] + '/{z}/{x}/{y}.png32';\n",
    "\n",
    "map_osm_test = folium.Map(location=[45.5236, 0.6750], zoom_start=3)\n",
    "folium.TileLayer(\n",
    "    tiles=tileUrl,\n",
    "    attr='text',\n",
    "    name='text',\n",
    "    overlay=True\n",
    ").add_to(map_osm_test)\n",
    "\n",
    "map_osm_test"
   ]
  },
  {
   "cell_type": "code",
   "execution_count": null,
   "metadata": {
    "collapsed": true
   },
   "outputs": [],
   "source": []
  },
  {
   "cell_type": "code",
   "execution_count": null,
   "metadata": {
    "collapsed": true
   },
   "outputs": [],
   "source": []
  },
  {
   "cell_type": "code",
   "execution_count": null,
   "metadata": {
    "collapsed": true
   },
   "outputs": [],
   "source": [
    "import geopandas as gpd"
   ]
  },
  {
   "cell_type": "code",
   "execution_count": null,
   "metadata": {
    "collapsed": true
   },
   "outputs": [],
   "source": [
    "s = gpd.read_file('./data/gadm28_countries/')"
   ]
  },
  {
   "cell_type": "code",
   "execution_count": null,
   "metadata": {
    "collapsed": false
   },
   "outputs": [],
   "source": [
    "s.head()"
   ]
  },
  {
   "cell_type": "code",
   "execution_count": null,
   "metadata": {
    "collapsed": false
   },
   "outputs": [],
   "source": [
    "s[s.iso == 'SSD']"
   ]
  },
  {
   "cell_type": "markdown",
   "metadata": {},
   "source": [
    "## Example of retrieving data JSON\n",
    "\n",
    "This will be necessary to build widgets attached to the data."
   ]
  },
  {
   "cell_type": "code",
   "execution_count": null,
   "metadata": {
    "collapsed": false
   },
   "outputs": [],
   "source": [
    "# example of getting the raw data\n",
    "\n",
    "swl_variable = '1.5'\n",
    "climate_variable = 'cSoil'\n",
    "data_table = 'joined_summaries_2017_08_27'\n",
    "\n",
    "query = \"\"\"SELECT iso2, mean, max, count, min, std, model_long_name, model_short_name, model_taxonomy\n",
    " FROM joined_summaries_2017_08_27\n",
    " Where variable like 'cSoil'\n",
    " AND swl_info = '1.5'\n",
    "\"\"\"\n",
    "\n",
    "account = 'helixscope'\n",
    "urlCarto = \"https://{0}.carto.com/api/v2/sql\".format(account)\n",
    "\n",
    "sql = {\"q\": query}\n",
    "r = requests.get(urlCarto, params=sql)\n",
    "print(r.url)\n",
    "pprint.pprint(r.json())"
   ]
  },
  {
   "cell_type": "code",
   "execution_count": null,
   "metadata": {
    "collapsed": true
   },
   "outputs": [],
   "source": []
  },
  {
   "cell_type": "markdown",
   "metadata": {
    "collapsed": true
   },
   "source": [
    "## Example of valid queries\n",
    "\n",
    "Example of how to get the average over multiple runs of the same model, for a specific country (ES), for a specific SWL (1.5), for a specific variable (perc_change_roff).\n",
    "\n",
    "```sql\n",
    "SELECT iso2, variable, model_taxonomy, COUNT(helix_data.mean) num_runs, AVG(helix_data.mean) as model_mean, AVG(helix_data.max) as model_max\n",
    "FROM helix_data\n",
    "WHERE swl_info = '1.5'\n",
    "AND iso2 = 'ES'\n",
    "AND variable = 'perc_change_roff'\n",
    "GROUP BY iso2, variable, model_taxonomy\n",
    "```\n",
    "\n",
    "\n",
    "Get all individual model values (multiple models and multiple runs) for a specific country, SWL, variable, returning metadata for the model taxnomy too.\n",
    "\n",
    "```sql\n",
    "SELECT iso2, model_taxonomy, run, variable, helix_data.mean as country_mean, helix_data.max as country_max\n",
    "FROM helix_data\n",
    "WHERE swl_info = '1.5'\n",
    "AND iso2 = 'ES'\n",
    "AND variable = 'perc_change_roff'\n",
    "GROUP BY iso2, variable, model_taxonomy, mean, max, run\n",
    "```\n",
    "\n",
    "\n",
    "Get single average over all countries for a specific SWL, and specific variable (to create choropleth).\n",
    "\n",
    "```sql\n",
    "SELECT iso2, variable, AVG(helix_data.mean) as country_mean, AVG(helix_data.max) as country_max\n",
    "FROM helix_data\n",
    "WHERE swl_info = '1.5'\n",
    "AND variable = 'cSoil'\n",
    "GROUP BY iso2, variable\n",
    "\n",
    "```\n",
    "\n",
    "Get data average across table\n",
    "\n",
    "```sql\n",
    "SELECT iso2, variable, AVG(helix_data.mean) as model_mean, AVG(helix_data.max) as model_max\n",
    "FROM joined_summaries_2017_08_27\n",
    "WHERE swl_info = '1.5'\n",
    "GROUP BY iso2, variable\n",
    "```"
   ]
  },
  {
   "cell_type": "code",
   "execution_count": null,
   "metadata": {
    "collapsed": true
   },
   "outputs": [],
   "source": []
  }
 ],
 "metadata": {
  "anaconda-cloud": {},
  "kernelspec": {
   "display_name": "Python 3",
   "language": "python",
   "name": "python3"
  },
  "language_info": {
   "codemirror_mode": {
    "name": "ipython",
    "version": 3
   },
   "file_extension": ".py",
   "mimetype": "text/x-python",
   "name": "python",
   "nbconvert_exporter": "python",
   "pygments_lexer": "ipython3",
   "version": "3.5.3"
  }
 },
 "nbformat": 4,
 "nbformat_minor": 2
}
