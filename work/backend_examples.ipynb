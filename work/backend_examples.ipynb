{
 "cells": [
  {
   "cell_type": "markdown",
   "metadata": {},
   "source": [
    "# Helixscope Developer Notebook\n",
    "\n",
    "This notebook explains the metadata and back-end queries required to build the Helixscope project. The project depends on the `helixscope` carto account: [helixscope.carto.com](helixscope.carto.com). In this account we have several shapefiles:\n",
    "\n",
    "* gadm28_countries : *admin0 level geometries (these may possibly not be needed)*\n",
    "* good_five_grid   : *a 5x5 degree grid intersected with natural earth landcover polygons, which will be the basis for the choropleth map.*\n",
    "\n",
    "and several tables:\n",
    "* master_admin0 : *The admin-0 (country-level) table holding processed data for all helixscope datasets. This will be needed to build the COUNTRY PAGES*\n",
    "* master_5x5 : *The 5x5 degree gridded data, needed to build the map. This contains a SUBSET of the helixscope data only. - just the data which should be mapped.*\n",
    "\n",
    "Note that the `master_5x5` and `master_admin0` data tables contain values for `mean`, `min`, `max`, and `std` for almost all data. (The only exceptions are the flood data and agricultural data, which should only have `mean`, and shuld only appear on the country pages - and are only present in the `master_admin0` table.\n",
    "\n",
    "\n",
    "## JSON resouces\n",
    "\n",
    "Below are listed some required JSON mappings.\n",
    "\n",
    "\n",
    "#### Specific warming levels \n",
    "```json\n",
    "{'1.5':'1.5°C warming',\n",
    " '2':'2°C warming',\n",
    " '4':'4°C warming',\n",
    " '6':'6°C warming'}\n",
    "```\n",
    "\n",
    "#### Variables in master 5x5 table and their short names\n",
    "\n",
    "```json\n",
    "in progress\n",
    "```\n",
    "\n",
    "\n",
    "#### Variables in master_5x5 table and their long names\n",
    "\n",
    "`variable`, and their human-readable long description\n",
    "\n",
    "```json\n",
    " in progress\n",
    "\n",
    "```\n",
    "\n",
    "#### Variables in master_admin0 table and their short names\n",
    "\n",
    "`variable` human-readable value as a short name. The value should be exposed in menus and as titles.\n",
    "\n",
    "```json\n",
    "{\n",
    "'Maize_Irrigation_avoided_perc_change':'Maize yield change avoided by irrigation',\n",
    "'Maize_yield_perc_change':'Maize yield change',\n",
    "'Rice_Irrigation_avoided_perc_change':'Rice yield change avoided by irrigation',\n",
    "'Rice_yield_perc_change':'Rice yield change',\n",
    "'Soybeans_Irrigation_avoided_perc_change':'Soybeans yield change avoided by irrigation',\n",
    "'Soybeans_yield_perc_change':'Soybeans yield change',\n",
    "'Wheat_Irrigation_avoided_perc_change':'Wheat yield change avoided by irrigation',\n",
    "'Wheat_yield_perc_change':'Wheat yield change',\n",
    "'amphibianobiodiversity':'Amphibian species richness - without movement',\n",
    "'amphibiarealbiodiversity':'Amphibian species richness',\n",
    "'birdnobiodiversity':'Bird species richness - without movement',\n",
    "'birdrealbiodiversity':'Bird species richness',\n",
    "'evap':'Evapotranspiration',\n",
    "'cSoil':\"Soil carbon content\",\n",
    "'cVeg':'Vegetation biomass',\n",
    "'gpp':'Gross primary productivity',\n",
    "'mammalnobiodiversity':'Mammalian species richness remaining - without movement',\n",
    "'mammalrealbiodiversity':'Mammalian species richness',\n",
    "'nbp':'Net Biome productivity',\n",
    "'perc_change_low_roff':'10th percentile runoff production',\n",
    "'perc_change_roff':'Runoff production',\n",
    "'pr':'Precipitation',\n",
    "'reptilenobiodiversity':'Reptile species richness - without movement',\n",
    "'reptilerealbiodiversity':'Reptile species richness',\n",
    "'river_floods_ExpDam':'Damage from river flooding',\n",
    "'river_floods_PopAff': 'Population affected by river flooding',\n",
    "'time_perc_change_SPI48':'Time change under drought conditions, from SPI48',\n",
    "'time_perc_change_SPI6':'Time change under drought conditions, from SPI6',\n",
    "'time_perc_change_SRI48':'Time change under drought conditions from SRI48',\n",
    "'time_perc_change_SRI6':'Time change under drought conditions from SRI6',\n",
    "'tn':'Average monthly minimum temperature',\n",
    "'tx':'Average monthly maximum temperature',\n",
    "'ts':\"Average monthly temperature\",\n",
    "}\n",
    "```\n",
    "\n",
    "\n",
    "#### master_admin0 table variables and a long human readable description\n",
    "\n",
    "\n",
    "```json\n",
    "{\n",
    "    'Maize_Irrigation_avoided_perc_change':'Change in maize crop yield avoided by irrigation in percent (%) relative to 1981–2010 levels.',\n",
    "    'Maize_yield_perc_change':'Change in maize yield in percent (%) relative to 1981–2010 levels.',\n",
    "    'Rice_Irrigation_avoided_perc_change':'Change in rice crop yield avoided by irrigation in percent (%) relative to 1981–2010 levels.',\n",
    "    'Rice_yield_perc_change':'Change in rice yield in percent (%) relative to 1981–2010 levels.',\n",
    "    'Soybeans_Irrigation_avoided_perc_change':'Change in soybean crop yield avoided by irrigation in percent (%) relative to 1981–2010 levels.',\n",
    "    'Soybeans_yield_perc_change':'Change in soybean yield in percent (%) relative to 1981–2010 levels.',\n",
    "    'Wheat_Irrigation_avoided_perc_change':'Change in wheat crop yield avoided by irrigation in percent (%) relative to 1981–2010 levels.',\n",
    "    'Wheat_yield_perc_change':'Change in wheat yield in percent (%) relative to 1981–2010 levels.',\n",
    "    'amphibianobiodiversity':'Amphibian species richness remaining as a percent (%) relative to 1950–2000 levels, assuming no movement in species from their original location.',\n",
    "    'amphibiarealbiodiversity':'Amphibian species richness remaining as a percent (%) relative to 1950–2000 levels, including simulations of real movement in species ranges over time.',\n",
    "    'birdnobiodiversity':'Bird species richness remaining as a percent (%) relative to 1950–2000 levels, assuming no movement in species from their original location.',\n",
    "    'birdrealbiodiversity':'Bird species richness remaining as a percent (%) relative to 1950–2000 levels, including simulations of real movement in species ranges over time.',\n",
    "    'cSoil':\"Soil carbon content (kg m-2).\",\n",
    "    'cVeg':'Vegetation biomass (kg m-2).',\n",
    "    'evap':'Evapotranspiration (kg m-2 yr-1).',\n",
    "    'gpp':'Gross Primary Productivity (gC m-2 yr-1).',\n",
    "    'mammalnobiodiversity':'Mammalian species richness remaining as a percent (%) relative to 1950–2000 levels, assuming no movement in species from their original location.',\n",
    "    'mammalrealbiodiversity':'Mammalian species richness remaining as a percent (%) relative to 1950–2000 levels, including simulations of real movement in species ranges over time.',\n",
    "    'nbp':'Net Biome productivity (gC m-2 yr-1).',\n",
    "    'perc_change_low_roff':'Relative (%) change in 10th percentile runoff production, derived from daily runoff data.',\n",
    "    'perc_change_roff':'Relative (%) change in mean runoff production, derived from daily runoff data.',\n",
    "    'pr':'Precipitation (mm).',\n",
    "    'reptilenobiodiversity':'Reptile species richness remaining as a percent (%) relative to 1950–2000 levels, assuming no movement in species from their original location.',\n",
    "    'reptilerealbiodiversity':'Reptile species richness remaining as a percent (%) relative to 1950–2000 levels, including simulations of real movement in species ranges over time.',\n",
    "    'river_floods_ExpDam':'Direct expected damage per year by river flooding in Euros (in 2010 values) relative to baseline values (average 1976–2005), from multi-model averages based on EC-EARTH r1 to r7.',\n",
    "    'river_floods_PopAff':'The number of people affected per year by river flooding relative to baseline values (average 1976–2005), from multi-model averages based on EC-EARTH r1 to r7.',\n",
    "    'time_perc_change_SPI48':'Change in time under drought conditions in percent (%), defined as the sum of months with 48-month Standardised Precipitation Index (SPI48) below the value -1.5, relative to the average over the baseline period of 1981-2010.',\n",
    "    'time_perc_change_SPI6':'Change in time under drought conditions in percent (%), defined as the sum of months with 6-month Standardised Precipitation Index (SPI6) below the value -1.5, relative to the average over the baseline period of 1981-2010.',\n",
    "    'time_perc_change_SRI48':'Change in time under drought conditions in percent (%), defined as the sum of months with 48-month Standardised Runoff Index (SRI48) below the value -1.5, relative to the average over the baseline period of 1981-2010.',\n",
    "    'time_perc_change_SRI6':'Change in time under drought conditions in percent (%), defined as the sum of months with 6-month Standardised Runoff Index (SRI6) below the value -1.5, relative to the average over the baseline period of 1981-2010.',\n",
    "    'tn':'Annual average minimum temperature (degrees Celsius).',\n",
    "    'ts':\"Annual average temperature (degrees Celsius).\",\n",
    "    'tx':'Annual average maximum temperature (degrees Celsius).',\n",
    "}\n",
    "```\n",
    "\n",
    "#### Dictionary of variables to widget labels (name and units) \n",
    "\n",
    "The units dictionary is required for plotting widgets, and maps the variable name to the label to put on plot axes.\n",
    "\n",
    "```json\n",
    " {\n",
    "    'Maize_Irrigation_avoided_perc_change':'Yield change avoided by irrigation (%)',\n",
    "    'Maize_yield_perc_change':'Yield change (%)',\n",
    "    'Rice_Irrigation_avoided_perc_change':'Yield change avoided by irrigation (%)',\n",
    "    'Rice_yield_perc_change':'Yield change (%)',\n",
    "    'Soybeans_Irrigation_avoided_perc_change':'Yield change avoided by irrigation (%)',\n",
    "    'Soybeans_yield_perc_change':'Yield change (%)',\n",
    "    'Wheat_Irrigation_avoided_perc_change':'Yield change avoided by irrigation (%)',\n",
    "    'Wheat_yield_perc_change':'Yield change (%)',\n",
    "    'amphibianobiodiversity':'Change in species richness (%)',\n",
    "    'amphibiarealbiodiversity':'Change in species richness (%)',\n",
    "    'birdnobiodiversity':'Change in species richness (%)',\n",
    "    'birdrealbiodiversity':'Change in species richness (%)',\n",
    "    'cSoil':\"Soil carbon content (kg m-2)\",\n",
    "    'cVeg':'Vegetation biomass (kg m-2)',\n",
    "    'evap':'Evapotranspiration (kg m-2 yr-1)',\n",
    "    'gpp':'Gross Primary Productivity (gC m-2 yr-1)',\n",
    "    'mammalnobiodiversity':'Change in species richness (%)',\n",
    "    'mammalrealbiodiversity':'Change in species richness (%)',\n",
    "    'nbp':'Net Biome productivity (gC m-2 yr-1)',\n",
    "    'perc_change_low_roff':'Change in runoff (%)',\n",
    "    'perc_change_roff':'Change in runoff (%)',\n",
    "    'pr':'Precipitation (mm)',\n",
    "    'reptilenobiodiversity':'Change in species richness (%)',\n",
    "    'reptilerealbiodiversity':'Change in species richness (%)',\n",
    "    'river_floods_ExpDam':'Spending change on annual river flood damage (by value of Euro in 2010)',\n",
    "    'river_floods_PopAff':'Change in number people affected annually by river flooding (counts)',\n",
    "    'time_perc_change_SPI48':'Change in time under long-term drought conditions (%)',\n",
    "    'time_perc_change_SPI6':'Change in duration of short-term drought (%)',\n",
    "    'time_perc_change_SRI48':'Change in duration of long-term drought (%)',\n",
    "    'time_perc_change_SRI6':'Change in duration of short-term drought (%)',\n",
    "    'tn':'Minimum annual temperature (degrees Celsius)',\n",
    "    'ts':\"Mean annual temperature (degrees Celsius)\",\n",
    "    'tx':'Maximum annual temperature (degrees Celsius)',\n",
    "}\n",
    "\n",
    "```\n",
    "\n",
    "\n",
    "#### impact_tag and human readable version for menus\n",
    "\n",
    "```json\n",
    "{\n",
    "'bd':'Biodiversity',\n",
    "'w':'Water',\n",
    "'eco':'Ecosystem',\n",
    "'ag':'Agriculture',\n",
    "'cl':'Climate',\n",
    "}\n",
    "```\n",
    "\n",
    "\n",
    "### Tool-tip widget\n",
    "\n",
    "The choropleth map will require a pop-up containing some dynamic text, and a widget. The widget is meant to convey the range of model results for a given cell.\n",
    "It will need to include:\n",
    "\n",
    "* a title indicating the human readable variable name and SWL info\n",
    "* values by model\n",
    "* a box-plot fit to those values\n",
    "* a dynamic sentence explaining basic info\n",
    "\n",
    "All the data componenets required to build this tooltip should be found inside this notebook.\n",
    "\n",
    "![](./pics/tooltip.png)"
   ]
  },
  {
   "cell_type": "code",
   "execution_count": 20,
   "metadata": {
    "collapsed": false
   },
   "outputs": [
    {
     "name": "stderr",
     "output_type": "stream",
     "text": [
      "/opt/conda/lib/python3.5/site-packages/matplotlib/font_manager.py:273: UserWarning: Matplotlib is building the font cache using fc-list. This may take a moment.\n",
      "  warnings.warn('Matplotlib is building the font cache using fc-list. This may take a moment.')\n",
      "/opt/conda/lib/python3.5/site-packages/matplotlib/font_manager.py:273: UserWarning: Matplotlib is building the font cache using fc-list. This may take a moment.\n",
      "  warnings.warn('Matplotlib is building the font cache using fc-list. This may take a moment.')\n"
     ]
    }
   ],
   "source": [
    "import folium\n",
    "import pprint\n",
    "import requests\n",
    "import json\n",
    "import matplotlib.pyplot as plt\n",
    "import numpy as np\n",
    "%matplotlib inline"
   ]
  },
  {
   "cell_type": "code",
   "execution_count": 151,
   "metadata": {
    "collapsed": false
   },
   "outputs": [],
   "source": [
    "short_name_json = {\n",
    "'Maize_Irrigation_avoided_perc_change':'Maize yield change avoided by irrigation',\n",
    "'Maize_yield_perc_change':'Maize yield change',\n",
    "'Rice_Irrigation_avoided_perc_change':'Rice yield change avoided by irrigation',\n",
    "'Rice_yield_perc_change':'Rice yield change',\n",
    "'Soybeans_Irrigation_avoided_perc_change':'Soybeans yield change avoided by irrigation',\n",
    "'Soybeans_yield_perc_change':'Soybeans yield change',\n",
    "'Wheat_Irrigation_avoided_perc_change':'Wheat yield change avoided by irrigation',\n",
    "'Wheat_yield_perc_change':'Wheat yield change',\n",
    "'amphibianobiodiversity':'Amphibian species richness - without movement',\n",
    "'amphibiarealbiodiversity':'Amphibian species richness',\n",
    "'birdnobiodiversity':'Bird species richness - without movement',\n",
    "'birdrealbiodiversity':'Bird species richness',\n",
    "'evap':'Evapotranspiration',\n",
    "'cSoil':\"Soil carbon content\",\n",
    "'cVeg':'Vegetation biomass',\n",
    "'gpp':'Gross primary productivity',\n",
    "'mammalnobiodiversity':'Mammalian species richness remaining - without movement',\n",
    "'mammalrealbiodiversity':'Mammalian species richness',\n",
    "'nbp':'Net Biome productivity',\n",
    "'perc_change_low_roff':'10th percentile runoff production',\n",
    "'perc_change_roff':'Runoff production',\n",
    "'pr':'Precipitation',\n",
    "'reptilenobiodiversity':'Reptile species richness - without movement',\n",
    "'reptilerealbiodiversity':'Reptile species richness',\n",
    "'river_floods_ExpDam':'Damage from river flooding',\n",
    "'river_floods_PopAff': 'Population affected by river flooding',\n",
    "'time_perc_change_SPI48':'Time change under drought conditions, from SPI48',\n",
    "'time_perc_change_SPI6':'Time change under drought conditions, from SPI6',\n",
    "'time_perc_change_SRI48':'Time change under drought conditions from SRI48',\n",
    "'time_perc_change_SRI6':'Time change under drought conditions from SRI6',\n",
    "'tn':'Average monthly minimum temperature',\n",
    "'tx':'Average monthly maximum temperature',\n",
    "'ts':\"Average monthly temperature\",\n",
    "}\n",
    "\n",
    "\n",
    "swl_json = {'1.5':'1.5°C warming',\n",
    " '2':'2°C warming',\n",
    " '4':'4°C warming',\n",
    " '6':'6°C warming'}\n",
    "\n",
    "\n",
    "fig_labeles_json =  {\n",
    "    'Maize_Irrigation_avoided_perc_change':'Yield change avoided by irrigation (%)',\n",
    "    'Maize_yield_perc_change':'Yield change (%)',\n",
    "    'Rice_Irrigation_avoided_perc_change':'Yield change avoided by irrigation (%)',\n",
    "    'Rice_yield_perc_change':'Yield change (%)',\n",
    "    'Soybeans_Irrigation_avoided_perc_change':'Yield change avoided by irrigation (%)',\n",
    "    'Soybeans_yield_perc_change':'Yield change (%)',\n",
    "    'Wheat_Irrigation_avoided_perc_change':'Yield change avoided by irrigation (%)',\n",
    "    'Wheat_yield_perc_change':'Yield change (%)',\n",
    "    'amphibianobiodiversity':'Change in species richness (%)',\n",
    "    'amphibiarealbiodiversity':'Change in species richness (%)',\n",
    "    'birdnobiodiversity':'Change in species richness (%)',\n",
    "    'birdrealbiodiversity':'Change in species richness (%)',\n",
    "    'cSoil':\"Soil carbon content (kg m-2)\",\n",
    "    'cVeg':'Vegetation biomass (kg m-2)',\n",
    "    'evap':'Evapotranspiration (kg m-2 yr-1)',\n",
    "    'gpp':'Gross Primary Productivity (gC m-2 yr-1)',\n",
    "    'mammalnobiodiversity':'Change in species richness (%)',\n",
    "    'mammalrealbiodiversity':'Change in species richness (%)',\n",
    "    'nbp':'Net Biome productivity (gC m-2 yr-1)',\n",
    "    'perc_change_low_roff':'Change in runoff (%)',\n",
    "    'perc_change_roff':'Change in runoff (%)',\n",
    "    'pr':'Precipitation (mm)',\n",
    "    'reptilenobiodiversity':'Change in species richness (%)',\n",
    "    'reptilerealbiodiversity':'Change in species richness (%)',\n",
    "    'river_floods_ExpDam':'Spending change on annual river flood damage (by value of Euro in 2010)',\n",
    "    'river_floods_PopAff':'Change in number people affected annually by river flooding (counts)',\n",
    "    'time_perc_change_SPI48':'Change in time under long-term drought conditions (%)',\n",
    "    'time_perc_change_SPI6':'Change in duration of short-term drought (%)',\n",
    "    'time_perc_change_SRI48':'Change in duration of long-term drought (%)',\n",
    "    'time_perc_change_SRI6':'Change in duration of short-term drought (%)',\n",
    "    'tn':'Minimum annual temperature (degrees Celsius)',\n",
    "    'ts':\"Mean annual temperature (degrees Celsius)\",\n",
    "    'tx':'Maximum annual temperature (degrees Celsius)',\n",
    "}"
   ]
  },
  {
   "cell_type": "markdown",
   "metadata": {},
   "source": [
    "### Generate Choropleths \n",
    "\n",
    "Originall, the design intended to use admin-0 level choropleths based. This is no longer the idea, BUT incase you need to create them, you can do so using the carto Maps API with queries structured as below:"
   ]
  },
  {
   "cell_type": "code",
   "execution_count": 66,
   "metadata": {
    "collapsed": false,
    "scrolled": false
   },
   "outputs": [
    {
     "name": "stdout",
     "output_type": "stream",
     "text": [
      "WITH data as (SELECT * FROM master_admin0 Where variable like 'tx' AND swl_info = '2') SELECT gadm28_countries.iso, gadm28_countries.the_geom_webmercator, gadm28_countries.cartodb_id, mean from data inner join gadm28_countries on data.iso=gadm28_countries.iso\n",
      "https://helixscope.carto.com/api/v1/map\n"
     ]
    },
    {
     "data": {
      "text/plain": [
       "<folium.map.TileLayer at 0x7fcc4a8ad7b8>"
      ]
     },
     "execution_count": 66,
     "metadata": {},
     "output_type": "execute_result"
    }
   ],
   "source": [
    "table_name = 'master_admin0'\n",
    "var_name = 'tx'\n",
    "swl_var = '2'\n",
    "shapefile = 'gadm28_countries'\n",
    "attribute = 'mean'\n",
    "\n",
    "query=(\"WITH data as (SELECT * FROM {0} \"\n",
    "         \"Where variable like '{1}' \"\n",
    "         \"AND swl_info = '{2}') \"\n",
    "         \"SELECT {3}.iso, {3}.the_geom_webmercator, \"\n",
    "         \"{3}.cartodb_id, {4} from data inner join {3} \"\n",
    "         \"on data.iso={3}.iso\".format(\n",
    "             table_name, var_name, swl_var, shapefile, attribute))\n",
    "\n",
    "print(query)\n",
    "\n",
    "style = \"\"\"#layer {polygon-fill: ramp([mean], colorbrewer(RdYlBu), equal(10));\n",
    "                   polygon-opacity: 0.9;}\"\"\"\n",
    "\n",
    "account = 'helixscope'\n",
    "urlCarto = 'https://'+account+'.carto.com/api/v1/map'\n",
    "body = {\n",
    "    \"layers\": [{\n",
    "        \"type\": \"cartodb\",\n",
    "        \"options\": {\n",
    "            \"sql\": query,\n",
    "            \"cartocss\":style,\n",
    "            \"cartocss_version\": \"2.1.1\"\n",
    "        }\n",
    "    }]\n",
    "}\n",
    "\n",
    "r = requests.post(urlCarto, data=json.dumps(body), headers={'content-type': 'application/json; charset=UTF-8'})\n",
    "print(r.url)\n",
    "#pprint.pprint(r.json())\n",
    "\n",
    "tileUrl = 'https://'+account+'.carto.com/api/v1/map/' + r.json()['layergroupid'] + '/{z}/{x}/{y}.png32';\n",
    "\n",
    "map_osm2 = folium.Map(location=[45.5236, 0.6750], zoom_start=3, tiles=\"CartoDB\", attr='random')\n",
    "folium.TileLayer(\n",
    "    tiles=tileUrl,\n",
    "    attr='text',\n",
    "    name='text',\n",
    "    overlay=True\n",
    ").add_to(map_osm2)\n",
    "\n",
    "#map_osm2"
   ]
  },
  {
   "cell_type": "markdown",
   "metadata": {},
   "source": [
    "![](./pics/eg0.png)"
   ]
  },
  {
   "cell_type": "markdown",
   "metadata": {},
   "source": [
    "### Example of 5 x 5 grid\n",
    "\n",
    "The choropleth maps should all be based on the following query:"
   ]
  },
  {
   "cell_type": "code",
   "execution_count": 10,
   "metadata": {
    "collapsed": false,
    "scrolled": false
   },
   "outputs": [
    {
     "name": "stdout",
     "output_type": "stream",
     "text": [
      "WITH data as (SELECT * FROM master_5x5 Where variable like 'tx' AND swl_info = '4') SELECT good_five_grid.id_val, good_five_grid.the_geom_webmercator, good_five_grid.cartodb_id, mean from data inner join good_five_grid on data.shape_id=good_five_grid.id_val\n",
      "https://helixscope.carto.com/api/v1/map\n"
     ]
    },
    {
     "data": {
      "text/plain": [
       "<folium.map.TileLayer at 0x7f2bcd86b5c0>"
      ]
     },
     "execution_count": 10,
     "metadata": {},
     "output_type": "execute_result"
    }
   ],
   "source": [
    "table_name = 'master_5x5'\n",
    "var_name = 'tx'\n",
    "swl_var = '4'\n",
    "shapefile = 'good_five_grid'\n",
    "attribute = 'mean'   # Possible attributes here are 'max', 'min','mean','std'\n",
    "\n",
    "query=(\"WITH data as (SELECT * FROM {0} \"\n",
    "         \"Where variable like '{1}' \"\n",
    "         \"AND swl_info = '{2}') \"\n",
    "         \"SELECT {3}.id_val, {3}.the_geom_webmercator, \"\n",
    "         \"{3}.cartodb_id, {4} from data inner join {3} \"\n",
    "         \"on data.shape_id={3}.id_val\".format(\n",
    "             table_name, var_name, swl_var, shapefile, attribute))\n",
    "\n",
    "print(query)\n",
    "\n",
    "\n",
    "style = \"\"\"#layer {polygon-fill: ramp([mean], colorbrewer(RdYlBu), equal(10));\n",
    "                   polygon-opacity: 0.9;}\"\"\"\n",
    "\n",
    "account = 'helixscope'\n",
    "urlCarto = 'https://'+account+'.carto.com/api/v1/map'\n",
    "body = {\n",
    "    \"layers\": [{\n",
    "        \"type\": \"cartodb\",\n",
    "        \"options\": {\n",
    "            \"sql\": query,\n",
    "            \"cartocss\":style,\n",
    "            \"cartocss_version\": \"2.1.1\"\n",
    "        }\n",
    "    }]\n",
    "}\n",
    "\n",
    "r = requests.post(urlCarto, data=json.dumps(body), headers={'content-type': 'application/json; charset=UTF-8'})\n",
    "print(r.url)\n",
    "#pprint.pprint(r.json())\n",
    "\n",
    "tileUrl = 'https://'+account+'.carto.com/api/v1/map/' + r.json()['layergroupid'] + '/{z}/{x}/{y}.png32';\n",
    "\n",
    "map_osm_grid = folium.Map(location=[45.5236, 0.6750], zoom_start=3, tiles=\"CartoDB\", attr='random')\n",
    "folium.TileLayer(\n",
    "    tiles=tileUrl,\n",
    "    attr='text',\n",
    "    name='text',\n",
    "    overlay=True\n",
    ").add_to(map_osm_grid)\n",
    "\n",
    "#map_osm_grid"
   ]
  },
  {
   "cell_type": "markdown",
   "metadata": {},
   "source": [
    "![](./pics/eg_grid.png)"
   ]
  },
  {
   "cell_type": "markdown",
   "metadata": {},
   "source": [
    "![](./pics/eg_admin0.png)"
   ]
  },
  {
   "cell_type": "markdown",
   "metadata": {},
   "source": [
    "## Call the data required to plot as a box-plot on click\n",
    "\n",
    "When the map is clicked, all avaiable model values for the shape associated with the click should be returned in order to build the pop-up widget."
   ]
  },
  {
   "cell_type": "code",
   "execution_count": 137,
   "metadata": {
    "collapsed": false
   },
   "outputs": [
    {
     "name": "stdout",
     "output_type": "stream",
     "text": [
      "SELECT model_short_name, model_long_name, run, mean as value FROM master_5x5 WHERE swl_info = 4AND variable = 'tn'AND shape_id = 1 \n",
      "\n",
      "https://helixscope.carto.com/api/v2/sql?q=SELECT+model_short_name%2C+model_long_name%2C+run%2C+mean+as+value+FROM+master_5x5+WHERE+swl_info+%3D+4AND+variable+%3D+%27tn%27AND+shape_id+%3D+1 \n",
      "\n",
      "{'fields': {'model_long_name': {'type': 'string'},\n",
      "            'model_short_name': {'type': 'string'},\n",
      "            'run': {'type': 'number'},\n",
      "            'value': {'type': 'number'}},\n",
      " 'rows': [{'model_long_name': 'ECEARTH-R6',\n",
      "           'model_short_name': 'ECEARTH',\n",
      "           'run': 6,\n",
      "           'value': 25.85},\n",
      "          {'model_long_name': 'HADGEM3-R3',\n",
      "           'model_short_name': 'HADGEM3',\n",
      "           'run': 3,\n",
      "           'value': 25.76},\n",
      "          {'model_long_name': 'ECEARTH-R1',\n",
      "           'model_short_name': 'ECEARTH',\n",
      "           'run': 1,\n",
      "           'value': 26.04},\n",
      "          {'model_long_name': 'ECEARTH-R7',\n",
      "           'model_short_name': 'ECEARTH',\n",
      "           'run': 7,\n",
      "           'value': 26.52},\n",
      "          {'model_long_name': 'HADGEM3-R8',\n",
      "           'model_short_name': 'HADGEM3',\n",
      "           'run': 8,\n",
      "           'value': 25.94},\n",
      "          {'model_long_name': 'ECEARTH-R5',\n",
      "           'model_short_name': 'ECEARTH',\n",
      "           'run': 5,\n",
      "           'value': 26.44},\n",
      "          {'model_long_name': 'ECEARTH-R4',\n",
      "           'model_short_name': 'ECEARTH',\n",
      "           'run': 4,\n",
      "           'value': 25.74},\n",
      "          {'model_long_name': 'HADGEM3-R6',\n",
      "           'model_short_name': 'HADGEM3',\n",
      "           'run': 6,\n",
      "           'value': 26.14},\n",
      "          {'model_long_name': 'HADGEM3-R1',\n",
      "           'model_short_name': 'HADGEM3',\n",
      "           'run': 1,\n",
      "           'value': 26.11},\n",
      "          {'model_long_name': 'ECEARTH-R3',\n",
      "           'model_short_name': 'ECEARTH',\n",
      "           'run': 3,\n",
      "           'value': 26.23}],\n",
      " 'time': 0.178,\n",
      " 'total_rows': 10}\n"
     ]
    }
   ],
   "source": [
    "table_name = 'master_5x5'\n",
    "var_name = 'tn'#'mammalrealbiodiversity'\n",
    "swl_var = '4'\n",
    "shapefile = 'good_five_grid'\n",
    "attribute = 'mean'   # Possible attributes here are 'max', 'min','mean','std'\n",
    "shape_id = 1  # unique id codes of all individual shapes in 5x5 shapefile\n",
    "\n",
    "query=(\"SELECT model_short_name, model_long_name, run, {0} as value \"\n",
    "       \"FROM {1} \"\n",
    "       \"WHERE swl_info = {2}\"\n",
    "       \"AND variable = '{3}'\"\n",
    "       \"AND shape_id = {4}\"\n",
    "       \"\".format(attribute, table_name, swl_var, var_name, shape_id))\n",
    "\n",
    "print(query,'\\n')\n",
    "\n",
    "account = 'helixscope'\n",
    "urlCarto = \"https://{0}.carto.com/api/v2/sql\".format(account)\n",
    "\n",
    "sql = {\"q\": query}\n",
    "r = requests.get(urlCarto, params=sql)\n",
    "print(r.url,'\\n')\n",
    "pprint.pprint(r.json())"
   ]
  },
  {
   "cell_type": "markdown",
   "metadata": {},
   "source": [
    "The values should be shown in a boxplot, as demonstrated below. \n",
    "The values for the boxplot will depend on what attribute is selected for a given variable (e.g. `mean` for variable `tx`).\n",
    "\n",
    "The title of the plot and sentence that should accompany it should be dynamically generated using the json objects, as shown below.\n",
    "\n",
    "The units of the plot (axis labels) should also be dynamically generated using the query paramaters and the previously listed json dictionaries (as shown below).\n",
    "\n",
    "Note, the plot has two components to it:\n",
    "\n",
    "1. A boxplot: You will need to calculate with a plotting libarary based on the returned values.\n",
    "\n",
    "2. A scatter plot overplotted on the boxplot: The scatter-plot should have colored categories, where the categories are colored by the `model_short_name` and a ledgend should be below the plot showing that information. On hover, the individual scatter elements should show the `model_long_name`."
   ]
  },
  {
   "cell_type": "code",
   "execution_count": null,
   "metadata": {
    "collapsed": false
   },
   "outputs": [],
   "source": []
  },
  {
   "cell_type": "code",
   "execution_count": 152,
   "metadata": {
    "collapsed": false
   },
   "outputs": [
    {
     "data": {
      "image/png": "[encoded data removed]",
      "text/plain": [
       "<matplotlib.figure.Figure at 0x7f2bc733c048>"
      ]
     },
     "metadata": {},
     "output_type": "display_data"
    }
   ],
   "source": [
    "# Example of constructing the boxplot (which you can re-factor to your language / library of choice)\n",
    "\n",
    "popup_title = (\"{0} under {1}\".format(short_name_json[var_name] ,swl_json[swl_var]))\n",
    "\n",
    "\n",
    "d = r.json()\n",
    "\n",
    "data = []\n",
    "individual_point_labels = []\n",
    "categories = []\n",
    "for row in d.get('rows'):\n",
    "    data.append(row.get('value', None))\n",
    "    individual_point_labels.append(row.get('model_long_name'))\n",
    "    categories.append(row.get('model_short_name'))\n",
    "\n",
    "data = np.array(data)\n",
    "categories = np.array(categories)\n",
    "individual_point_labels = np.array(individual_point_labels)\n",
    "\n",
    "unique_categories = set(categories) # get unique categories which will be colored differently\n",
    "colors = ['red','blue','green','orange']\n",
    "color_setter = {} \n",
    "for n, unique in enumerate(unique_categories):\n",
    "    color_setter[unique] = colors[n]\n",
    "\n",
    "\n",
    "\n",
    "plt.boxplot(data, 0, '', 0 )\n",
    "for unique in unique_categories:\n",
    "    tmp_data = [dat for dat, category in zip(data, categories) if category == unique]\n",
    "    plt.scatter(tmp_data,\n",
    "                [1]*len(tmp_data), c=color_setter[unique],\n",
    "                marker='o', lw=0, s=40.0, label=unique)\n",
    "plt.yticks([])\n",
    "plt.title(popup_title)\n",
    "plt.xlabel(fig_labeles_json[var_name])\n",
    "plt.legend(loc=0, scatterpoints = 1)\n",
    "plt.show()"
   ]
  },
  {
   "cell_type": "code",
   "execution_count": null,
   "metadata": {
    "collapsed": false
   },
   "outputs": [],
   "source": [
    "dynamic_sentence"
   ]
  },
  {
   "cell_type": "code",
   "execution_count": null,
   "metadata": {
    "collapsed": false
   },
   "outputs": [],
   "source": [
    "\"Area-averaged model range for {} at {}\".format(var_name, swl_var)"
   ]
  },
  {
   "cell_type": "code",
   "execution_count": null,
   "metadata": {
    "collapsed": true
   },
   "outputs": [],
   "source": []
  },
  {
   "cell_type": "markdown",
   "metadata": {},
   "source": [
    "### Example of Calling Country-wide data Tables"
   ]
  },
  {
   "cell_type": "code",
   "execution_count": 3,
   "metadata": {
    "collapsed": false
   },
   "outputs": [
    {
     "name": "stdout",
     "output_type": "stream",
     "text": [
      "https://helixscope.carto.com/api/v2/sql?q=SELECT+iso%2C+mean%2C+max%2C+count%2C+min%2C+std%2C+model_long_name%2C+model_short_name%2C+model_taxonomy%0A++++FROM+master_admin0%0A++++Where+swl_info+%3D+%274%27%0A++++AND+season+%3D+%27MAM%27%0A++++AND+model_short_name+%3D+%27HADGEM3%27%0A++++AND+run+%3D+1%0A++++LIMIT+3%0A\n",
      "{'fields': {'count': {'type': 'number'},\n",
      "            'iso': {'type': 'string'},\n",
      "            'max': {'type': 'number'},\n",
      "            'mean': {'type': 'number'},\n",
      "            'min': {'type': 'number'},\n",
      "            'model_long_name': {'type': 'string'},\n",
      "            'model_short_name': {'type': 'string'},\n",
      "            'model_taxonomy': {'type': 'string'},\n",
      "            'std': {'type': 'number'}},\n",
      " 'rows': [{'count': 382,\n",
      "           'iso': 'NOR',\n",
      "           'max': 14.35,\n",
      "           'mean': 8.33,\n",
      "           'min': 1.04,\n",
      "           'model_long_name': 'HADGEM3-R1',\n",
      "           'model_short_name': 'HADGEM3',\n",
      "           'model_taxonomy': 'HADGEM3',\n",
      "           'std': 2.71},\n",
      "          {'count': 1,\n",
      "           'iso': 'TKL',\n",
      "           'max': 34.12,\n",
      "           'mean': 34.12,\n",
      "           'min': 34.12,\n",
      "           'model_long_name': 'HADGEM3-R1',\n",
      "           'model_short_name': 'HADGEM3',\n",
      "           'model_taxonomy': 'HADGEM3',\n",
      "           'std': 0},\n",
      "          {'count': 250,\n",
      "           'iso': 'THA',\n",
      "           'max': 40.85,\n",
      "           'mean': 37.92,\n",
      "           'min': 32.85,\n",
      "           'model_long_name': 'HADGEM3-R1',\n",
      "           'model_short_name': 'HADGEM3',\n",
      "           'model_taxonomy': 'HADGEM3',\n",
      "           'std': 1.75}],\n",
      " 'time': 0.082,\n",
      " 'total_rows': 3}\n"
     ]
    }
   ],
   "source": [
    "swl_variable = '4'\n",
    "climate_variable = 'tx'\n",
    "data_table = 'master_amin0'\n",
    "\n",
    "query = \"\"\"SELECT iso, mean, max, count, min, std, model_long_name, model_short_name, model_taxonomy\n",
    "    FROM master_admin0\n",
    "    Where swl_info = '4'\n",
    "    AND season = 'MAM'\n",
    "    AND model_short_name = 'HADGEM3'\n",
    "    AND run = 1\n",
    "    LIMIT 3\n",
    "\"\"\"\n",
    "\n",
    "account = 'helixscope'\n",
    "urlCarto = \"https://{0}.carto.com/api/v2/sql\".format(account)\n",
    "\n",
    "sql = {\"q\": query}\n",
    "r = requests.get(urlCarto, params=sql)\n",
    "print(r.url)\n",
    "pprint.pprint(r.json())"
   ]
  },
  {
   "cell_type": "markdown",
   "metadata": {},
   "source": [
    "## notes + dev past this point"
   ]
  },
  {
   "cell_type": "code",
   "execution_count": null,
   "metadata": {
    "collapsed": true
   },
   "outputs": [],
   "source": []
  },
  {
   "cell_type": "code",
   "execution_count": null,
   "metadata": {
    "collapsed": true
   },
   "outputs": [],
   "source": []
  },
  {
   "cell_type": "code",
   "execution_count": null,
   "metadata": {
    "collapsed": true
   },
   "outputs": [],
   "source": []
  },
  {
   "cell_type": "code",
   "execution_count": null,
   "metadata": {
    "collapsed": false,
    "scrolled": false
   },
   "outputs": [],
   "source": [
    "swl_variable = '1.5'\n",
    "climate_variable = 'cSoil'\n",
    "data_table = 'joined_summaries_2017_08_27'\n",
    "\n",
    "query = \"\"\"WITH data as (SELECT * FROM master_admin0\n",
    " Where variable like 'cSoil'\n",
    " AND swl_info = '1.5')\n",
    " SELECT gadm28_countries.iso2, gadm28_countries.the_geom_webmercator,\n",
    " gadm28_countries.cartodb_id, mean as mean from data inner join gadm28_countries \n",
    " on data.iso2=gadm28_countries.iso2\n",
    "\"\"\"\n",
    "\n",
    "style = \"\"\"#layer {polygon-fill: ramp([mean], colorbrewer(Reds), jenks());\n",
    "                   polygon-opacity: 0.9;}\"\"\"\n",
    "\n",
    "account = 'helixscope'\n",
    "urlCarto = 'https://'+account+'.carto.com/api/v1/map'\n",
    "body = {\n",
    "    \"layers\": [{\n",
    "        \"type\": \"cartodb\",\n",
    "        \"options\": {\n",
    "            \"sql\": query,\n",
    "            \"cartocss\":style,\n",
    "            \"cartocss_version\": \"2.1.1\"\n",
    "        }\n",
    "    }]\n",
    "}\n",
    "\n",
    "r = requests.post(urlCarto, data=json.dumps(body), headers={'content-type': 'application/json; charset=UTF-8'})\n",
    "print(r.url)\n",
    "pprint.pprint(r.json())\n",
    "\n",
    "tileUrl = 'https://'+account+'.carto.com/api/v1/map/' + r.json()['layergroupid'] + '/{z}/{x}/{y}.png32';\n",
    "\n",
    "map_osm_test = folium.Map(location=[45.5236, 0.6750], zoom_start=3)\n",
    "folium.TileLayer(\n",
    "    tiles=tileUrl,\n",
    "    attr='text',\n",
    "    name='text',\n",
    "    overlay=True\n",
    ").add_to(map_osm_test)\n",
    "\n",
    "map_osm_test"
   ]
  },
  {
   "cell_type": "code",
   "execution_count": null,
   "metadata": {
    "collapsed": true
   },
   "outputs": [],
   "source": []
  },
  {
   "cell_type": "code",
   "execution_count": null,
   "metadata": {
    "collapsed": true
   },
   "outputs": [],
   "source": []
  },
  {
   "cell_type": "code",
   "execution_count": null,
   "metadata": {
    "collapsed": true
   },
   "outputs": [],
   "source": [
    "import geopandas as gpd"
   ]
  },
  {
   "cell_type": "code",
   "execution_count": null,
   "metadata": {
    "collapsed": true
   },
   "outputs": [],
   "source": [
    "s = gpd.read_file('./data/gadm28_countries/')"
   ]
  },
  {
   "cell_type": "code",
   "execution_count": null,
   "metadata": {
    "collapsed": false
   },
   "outputs": [],
   "source": [
    "s.head()"
   ]
  },
  {
   "cell_type": "code",
   "execution_count": null,
   "metadata": {
    "collapsed": false
   },
   "outputs": [],
   "source": [
    "s[s.iso == 'SSD']"
   ]
  },
  {
   "cell_type": "markdown",
   "metadata": {},
   "source": [
    "## Example of retrieving data JSON\n",
    "\n",
    "This will be necessary to build widgets attached to the data."
   ]
  },
  {
   "cell_type": "code",
   "execution_count": null,
   "metadata": {
    "collapsed": false
   },
   "outputs": [],
   "source": [
    "# example of getting the raw data\n",
    "\n",
    "swl_variable = '1.5'\n",
    "climate_variable = 'cSoil'\n",
    "data_table = 'joined_summaries_2017_08_27'\n",
    "\n",
    "query = \"\"\"SELECT iso2, mean, max, count, min, std, model_long_name, model_short_name, model_taxonomy\n",
    " FROM joined_summaries_2017_08_27\n",
    " Where variable like 'cSoil'\n",
    " AND swl_info = '1.5'\n",
    "\"\"\"\n",
    "\n",
    "account = 'helixscope'\n",
    "urlCarto = \"https://{0}.carto.com/api/v2/sql\".format(account)\n",
    "\n",
    "sql = {\"q\": query}\n",
    "r = requests.get(urlCarto, params=sql)\n",
    "print(r.url)\n",
    "pprint.pprint(r.json())"
   ]
  },
  {
   "cell_type": "code",
   "execution_count": null,
   "metadata": {
    "collapsed": true
   },
   "outputs": [],
   "source": []
  },
  {
   "cell_type": "markdown",
   "metadata": {
    "collapsed": true
   },
   "source": [
    "## Example of valid queries\n",
    "\n",
    "Example of how to get the average over multiple runs of the same model, for a specific country (ES), for a specific SWL (1.5), for a specific variable (perc_change_roff).\n",
    "\n",
    "```sql\n",
    "SELECT iso2, variable, model_taxonomy, COUNT(helix_data.mean) num_runs, AVG(helix_data.mean) as model_mean, AVG(helix_data.max) as model_max\n",
    "FROM helix_data\n",
    "WHERE swl_info = '1.5'\n",
    "AND iso2 = 'ES'\n",
    "AND variable = 'perc_change_roff'\n",
    "GROUP BY iso2, variable, model_taxonomy\n",
    "```\n",
    "\n",
    "\n",
    "Get all individual model values (multiple models and multiple runs) for a specific country, SWL, variable, returning metadata for the model taxnomy too.\n",
    "\n",
    "```sql\n",
    "SELECT iso2, model_taxonomy, run, variable, helix_data.mean as country_mean, helix_data.max as country_max\n",
    "FROM helix_data\n",
    "WHERE swl_info = '1.5'\n",
    "AND iso2 = 'ES'\n",
    "AND variable = 'perc_change_roff'\n",
    "GROUP BY iso2, variable, model_taxonomy, mean, max, run\n",
    "```\n",
    "\n",
    "\n",
    "Get single average over all countries for a specific SWL, and specific variable (to create choropleth).\n",
    "\n",
    "```sql\n",
    "SELECT iso2, variable, AVG(helix_data.mean) as country_mean, AVG(helix_data.max) as country_max\n",
    "FROM helix_data\n",
    "WHERE swl_info = '1.5'\n",
    "AND variable = 'cSoil'\n",
    "GROUP BY iso2, variable\n",
    "\n",
    "```\n",
    "\n",
    "Get data average across table\n",
    "\n",
    "```sql\n",
    "SELECT iso2, variable, AVG(helix_data.mean) as model_mean, AVG(helix_data.max) as model_max\n",
    "FROM joined_summaries_2017_08_27\n",
    "WHERE swl_info = '1.5'\n",
    "GROUP BY iso2, variable\n",
    "```"
   ]
  },
  {
   "cell_type": "code",
   "execution_count": null,
   "metadata": {
    "collapsed": true
   },
   "outputs": [],
   "source": []
  },
  {
   "cell_type": "code",
   "execution_count": null,
   "metadata": {
    "collapsed": true
   },
   "outputs": [],
   "source": []
  }
 ],
 "metadata": {
  "anaconda-cloud": {},
  "kernelspec": {
   "display_name": "Python 3",
   "language": "python",
   "name": "python3"
  },
  "language_info": {
   "codemirror_mode": {
    "name": "ipython",
    "version": 3
   },
   "file_extension": ".py",
   "mimetype": "text/x-python",
   "name": "python",
   "nbconvert_exporter": "python",
   "pygments_lexer": "ipython3",
   "version": "3.5.3"
  }
 },
 "nbformat": 4,
 "nbformat_minor": 2
}
