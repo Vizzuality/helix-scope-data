{
 "cells": [
  {
   "cell_type": "markdown",
   "metadata": {},
   "source": [
    "## Using helix_funcs\n",
    "\n",
    "An example of how to use the helix_funcs module to process the HelixScope datafiles, and generate a master output table.\n",
    "\n",
    "Process_files should generate a similarly named csv file in the process folder.\n",
    "combine_processed "
   ]
  },
  {
   "cell_type": "code",
   "execution_count": 2,
   "metadata": {
    "collapsed": false
   },
   "outputs": [],
   "source": [
    "import helix_funcs\n",
    "import geopandas as gpd\n",
    "import pandas as pd\n",
    "# from tqdm import tqdm\n",
    "import matplotlib.pyplot as plt\n",
    "%matplotlib inline"
   ]
  },
  {
   "cell_type": "code",
   "execution_count": null,
   "metadata": {
    "collapsed": true
   },
   "outputs": [],
   "source": [
    "#s = gpd.read_file('./data/gadm28_adm1/gadm28_adm1.shp')\n",
    "#s = s.to_crs(epsg='4326')\n",
    "s = gpd.read_file(\"./data/gadm28_adm0_simplified/gadm28_adm0_simplified.shp\")  # <--- ADMIN LEVEL 0\n",
    "#s = gpd.read_file(\"./data/gadm28_adm1_simplified/gadm28_adm1_simplified.shp\")   # <--- ADMIN LEVEL 1"
   ]
  },
  {
   "cell_type": "code",
   "execution_count": null,
   "metadata": {
    "collapsed": true
   },
   "outputs": [],
   "source": [
    "fs = helix_funcs.identify_netcdf_and_csv_files()"
   ]
  },
  {
   "cell_type": "code",
   "execution_count": null,
   "metadata": {
    "collapsed": true
   },
   "outputs": [],
   "source": [
    "fs['nc'][0:2]"
   ]
  },
  {
   "cell_type": "code",
   "execution_count": null,
   "metadata": {
    "collapsed": true
   },
   "outputs": [],
   "source": [
    "%%time\n",
    "for f in fs['nc'][0:2]:\n",
    "    helix_funcs.process_file(file=f, shps=s, admin_level=0, verbose=True)"
   ]
  },
  {
   "cell_type": "markdown",
   "metadata": {},
   "source": [
    "### Speed up \n",
    "\n",
    "Looks like we achieve a 34 second execution per file (down from 2 mins) when we use a simplifed set of geometries.\n",
    "\n",
    "\n",
    "\n",
    "## Investiage areas with no zonal stats\n",
    "\n",
    "Seems like small areas are failing. Need to investigate best way to handle this."
   ]
  },
  {
   "cell_type": "markdown",
   "metadata": {
    "collapsed": true
   },
   "source": [
    "* check simple shapes produce same number of elements as complex shapes - confimred\n",
    "* check shapefile has same number of shapes as output file - confirmed\n",
    "* check simple and complex processed results for same file show good agreement. - confirmed\n",
    "\n",
    "* Add kwarg for ADMIN0 or Admin1. Have a differnt root folder for both in processed data.\n",
    "* MOVE alredy processed ADMIN1 level data to the `processed/admin1/` directory - Failed. Columns changed. Will need to recalculate :(\n",
    "* SIMPLIFY the ADMIN-0 level geometry file as I did with the ADMIN1 file. - confirmed\n",
    "* RUN ADMIN0 for all data.\n",
    "\n",
    "Perhaps we should have two tables: ADMIN0 level (based on simplified shapes), and ADMIN1 level.\n",
    "\n",
    "The ADMIN 0 level makes sense to calculate (mean, min, max, stdev), as those shapes should be large. BUT for ADMIN 1 level, the shapes can be far smaller. In which case it doesnt make sense to calculate those stats for every shape.\n",
    "\n",
    "* given time, we could work out which shapes it makes sense for (e.g. with counts > 3) and make some distinction.\n",
    "* with short time (which is the case) it maybe only makes sense to offer mean over those areas (which in most cases will be the mean of 1 cell (i.e. simply the value of the gridcell).\n",
    "\n",
    "\n",
    "THEREFORE:\n",
    "\n",
    "1. Process all data to ADMIN 0 (using simplified country shapes)\n",
    "    * use this as MVP\n",
    "2. CALCULATE TIME RELATIVE STATISTICS\n",
    "    * i.e. for datatets with Month distinctions calculate the seasonality\n",
    "3. Attempt to do the ADMIN 1 level data.\n",
    "\n",
    "# Deal with outputs\n",
    "\n",
    "Reduce significant digits. Join together dataframes."
   ]
  },
  {
   "cell_type": "code",
   "execution_count": 2,
   "metadata": {
    "collapsed": false
   },
   "outputs": [],
   "source": [
    "fs = helix_funcs.identify_netcdf_and_csv_files()"
   ]
  },
  {
   "cell_type": "code",
   "execution_count": 3,
   "metadata": {
    "collapsed": false
   },
   "outputs": [
    {
     "data": {
      "text/plain": [
       "274"
      ]
     },
     "execution_count": 3,
     "metadata": {},
     "output_type": "execute_result"
    }
   ],
   "source": [
    "len(fs['csv'])"
   ]
  },
  {
   "cell_type": "code",
   "execution_count": 10,
   "metadata": {
    "collapsed": false
   },
   "outputs": [
    {
     "name": "stdout",
     "output_type": "stream",
     "text": [
      "Made ./master_admin0.csv: 653,183 rows of data. 2,849 sources.\n",
      "CPU times: user 29.4 s, sys: 980 ms, total: 30.3 s\n",
      "Wall time: 39.7 s\n"
     ]
    }
   ],
   "source": [
    "%%time\n",
    "helix_funcs.combine_processed_results(path='./processed/admin0',\n",
    "                                      table_name='./master_admin0.csv')  #<-- join all results files together into a master_admin1.csv"
   ]
  },
  {
   "cell_type": "code",
   "execution_count": 11,
   "metadata": {
    "collapsed": true
   },
   "outputs": [],
   "source": [
    "tmp = pd.read_csv('./master_admin0.csv')"
   ]
  },
  {
   "cell_type": "code",
   "execution_count": 12,
   "metadata": {
    "collapsed": false
   },
   "outputs": [
    {
     "data": {
      "text/plain": [
       "653183"
      ]
     },
     "execution_count": 12,
     "metadata": {},
     "output_type": "execute_result"
    }
   ],
   "source": [
    "len(tmp)"
   ]
  },
  {
   "cell_type": "code",
   "execution_count": 13,
   "metadata": {
    "collapsed": false
   },
   "outputs": [
    {
     "data": {
      "text/html": [
       "<div>\n",
       "<style>\n",
       "    .dataframe thead tr:only-child th {\n",
       "        text-align: right;\n",
       "    }\n",
       "\n",
       "    .dataframe thead th {\n",
       "        text-align: left;\n",
       "    }\n",
       "\n",
       "    .dataframe tbody tr th {\n",
       "        vertical-align: top;\n",
       "    }\n",
       "</style>\n",
       "<table border=\"1\" class=\"dataframe\">\n",
       "  <thead>\n",
       "    <tr style=\"text-align: right;\">\n",
       "      <th></th>\n",
       "      <th>name_0</th>\n",
       "      <th>iso</th>\n",
       "      <th>variable</th>\n",
       "      <th>swl_info</th>\n",
       "      <th>count</th>\n",
       "      <th>max</th>\n",
       "      <th>min</th>\n",
       "      <th>mean</th>\n",
       "      <th>std</th>\n",
       "      <th>impact_tag</th>\n",
       "      <th>institution</th>\n",
       "      <th>model_long_name</th>\n",
       "      <th>model_short_name</th>\n",
       "      <th>model_taxonomy</th>\n",
       "      <th>is_multi_model_summary</th>\n",
       "      <th>is_seasonal</th>\n",
       "      <th>season</th>\n",
       "      <th>is_monthly</th>\n",
       "      <th>month</th>\n",
       "      <th>run</th>\n",
       "    </tr>\n",
       "  </thead>\n",
       "  <tbody>\n",
       "    <tr>\n",
       "      <th>0</th>\n",
       "      <td>Afghanistan</td>\n",
       "      <td>AFG</td>\n",
       "      <td>Soybeans_yield_perc_change</td>\n",
       "      <td>1.5</td>\n",
       "      <td>NaN</td>\n",
       "      <td>NaN</td>\n",
       "      <td>NaN</td>\n",
       "      <td>-3.1</td>\n",
       "      <td>NaN</td>\n",
       "      <td>ag</td>\n",
       "      <td>NaN</td>\n",
       "      <td>NaN</td>\n",
       "      <td>NaN</td>\n",
       "      <td>ECEARTH</td>\n",
       "      <td>False</td>\n",
       "      <td>False</td>\n",
       "      <td>NaN</td>\n",
       "      <td>False</td>\n",
       "      <td>NaN</td>\n",
       "      <td>5</td>\n",
       "    </tr>\n",
       "    <tr>\n",
       "      <th>1</th>\n",
       "      <td>Angola</td>\n",
       "      <td>AGO</td>\n",
       "      <td>Soybeans_yield_perc_change</td>\n",
       "      <td>1.5</td>\n",
       "      <td>NaN</td>\n",
       "      <td>NaN</td>\n",
       "      <td>NaN</td>\n",
       "      <td>-5.5</td>\n",
       "      <td>NaN</td>\n",
       "      <td>ag</td>\n",
       "      <td>NaN</td>\n",
       "      <td>NaN</td>\n",
       "      <td>NaN</td>\n",
       "      <td>ECEARTH</td>\n",
       "      <td>False</td>\n",
       "      <td>False</td>\n",
       "      <td>NaN</td>\n",
       "      <td>False</td>\n",
       "      <td>NaN</td>\n",
       "      <td>5</td>\n",
       "    </tr>\n",
       "    <tr>\n",
       "      <th>2</th>\n",
       "      <td>Albania</td>\n",
       "      <td>ALB</td>\n",
       "      <td>Soybeans_yield_perc_change</td>\n",
       "      <td>1.5</td>\n",
       "      <td>NaN</td>\n",
       "      <td>NaN</td>\n",
       "      <td>NaN</td>\n",
       "      <td>-2.0</td>\n",
       "      <td>NaN</td>\n",
       "      <td>ag</td>\n",
       "      <td>NaN</td>\n",
       "      <td>NaN</td>\n",
       "      <td>NaN</td>\n",
       "      <td>ECEARTH</td>\n",
       "      <td>False</td>\n",
       "      <td>False</td>\n",
       "      <td>NaN</td>\n",
       "      <td>False</td>\n",
       "      <td>NaN</td>\n",
       "      <td>5</td>\n",
       "    </tr>\n",
       "    <tr>\n",
       "      <th>3</th>\n",
       "      <td>Argentina</td>\n",
       "      <td>ARG</td>\n",
       "      <td>Soybeans_yield_perc_change</td>\n",
       "      <td>1.5</td>\n",
       "      <td>NaN</td>\n",
       "      <td>NaN</td>\n",
       "      <td>NaN</td>\n",
       "      <td>-2.4</td>\n",
       "      <td>NaN</td>\n",
       "      <td>ag</td>\n",
       "      <td>NaN</td>\n",
       "      <td>NaN</td>\n",
       "      <td>NaN</td>\n",
       "      <td>ECEARTH</td>\n",
       "      <td>False</td>\n",
       "      <td>False</td>\n",
       "      <td>NaN</td>\n",
       "      <td>False</td>\n",
       "      <td>NaN</td>\n",
       "      <td>5</td>\n",
       "    </tr>\n",
       "    <tr>\n",
       "      <th>4</th>\n",
       "      <td>Armenia</td>\n",
       "      <td>ARM</td>\n",
       "      <td>Soybeans_yield_perc_change</td>\n",
       "      <td>1.5</td>\n",
       "      <td>NaN</td>\n",
       "      <td>NaN</td>\n",
       "      <td>NaN</td>\n",
       "      <td>0.9</td>\n",
       "      <td>NaN</td>\n",
       "      <td>ag</td>\n",
       "      <td>NaN</td>\n",
       "      <td>NaN</td>\n",
       "      <td>NaN</td>\n",
       "      <td>ECEARTH</td>\n",
       "      <td>False</td>\n",
       "      <td>False</td>\n",
       "      <td>NaN</td>\n",
       "      <td>False</td>\n",
       "      <td>NaN</td>\n",
       "      <td>5</td>\n",
       "    </tr>\n",
       "  </tbody>\n",
       "</table>\n",
       "</div>"
      ],
      "text/plain": [
       "        name_0  iso                    variable  swl_info  count  max  min  \\\n",
       "0  Afghanistan  AFG  Soybeans_yield_perc_change       1.5    NaN  NaN  NaN   \n",
       "1       Angola  AGO  Soybeans_yield_perc_change       1.5    NaN  NaN  NaN   \n",
       "2      Albania  ALB  Soybeans_yield_perc_change       1.5    NaN  NaN  NaN   \n",
       "3    Argentina  ARG  Soybeans_yield_perc_change       1.5    NaN  NaN  NaN   \n",
       "4      Armenia  ARM  Soybeans_yield_perc_change       1.5    NaN  NaN  NaN   \n",
       "\n",
       "   mean  std impact_tag institution model_long_name model_short_name  \\\n",
       "0  -3.1  NaN         ag         NaN             NaN              NaN   \n",
       "1  -5.5  NaN         ag         NaN             NaN              NaN   \n",
       "2  -2.0  NaN         ag         NaN             NaN              NaN   \n",
       "3  -2.4  NaN         ag         NaN             NaN              NaN   \n",
       "4   0.9  NaN         ag         NaN             NaN              NaN   \n",
       "\n",
       "  model_taxonomy  is_multi_model_summary  is_seasonal season  is_monthly  \\\n",
       "0        ECEARTH                   False        False    NaN       False   \n",
       "1        ECEARTH                   False        False    NaN       False   \n",
       "2        ECEARTH                   False        False    NaN       False   \n",
       "3        ECEARTH                   False        False    NaN       False   \n",
       "4        ECEARTH                   False        False    NaN       False   \n",
       "\n",
       "  month  run  \n",
       "0   NaN    5  \n",
       "1   NaN    5  \n",
       "2   NaN    5  \n",
       "3   NaN    5  \n",
       "4   NaN    5  "
      ]
     },
     "execution_count": 13,
     "metadata": {},
     "output_type": "execute_result"
    }
   ],
   "source": [
    "tmp.head()"
   ]
  },
  {
   "cell_type": "code",
   "execution_count": 21,
   "metadata": {
    "collapsed": false
   },
   "outputs": [
    {
     "name": "stdout",
     "output_type": "stream",
     "text": [
      "25\n",
      "ag\n",
      "cl\n",
      "w\n",
      "eco\n"
     ]
    }
   ],
   "source": [
    "print(len(tmp['variable'].unique()))\n",
    "for var in (tmp['impact_tag'].unique()):\n",
    "    print(var)"
   ]
  },
  {
   "cell_type": "code",
   "execution_count": 7,
   "metadata": {
    "collapsed": false
   },
   "outputs": [],
   "source": [
    "mask = tmp['variable'] == 'Rice_yield_perc_change' #'river_floods_PopAff' #\"river_floods_ExpDam\"\n",
    "shorter = tmp[mask]"
   ]
  },
  {
   "cell_type": "code",
   "execution_count": 8,
   "metadata": {
    "collapsed": false
   },
   "outputs": [
    {
     "data": {
      "text/html": [
       "<div>\n",
       "<style>\n",
       "    .dataframe thead tr:only-child th {\n",
       "        text-align: right;\n",
       "    }\n",
       "\n",
       "    .dataframe thead th {\n",
       "        text-align: left;\n",
       "    }\n",
       "\n",
       "    .dataframe tbody tr th {\n",
       "        vertical-align: top;\n",
       "    }\n",
       "</style>\n",
       "<table border=\"1\" class=\"dataframe\">\n",
       "  <thead>\n",
       "    <tr style=\"text-align: right;\">\n",
       "      <th></th>\n",
       "      <th>name_0</th>\n",
       "      <th>iso</th>\n",
       "      <th>variable</th>\n",
       "      <th>swl_info</th>\n",
       "      <th>count</th>\n",
       "      <th>max</th>\n",
       "      <th>min</th>\n",
       "      <th>mean</th>\n",
       "      <th>std</th>\n",
       "      <th>impact_tag</th>\n",
       "      <th>institution</th>\n",
       "      <th>model_long_name</th>\n",
       "      <th>model_short_name</th>\n",
       "      <th>model_taxonomy</th>\n",
       "      <th>is_multi_model_summary</th>\n",
       "      <th>is_seasonal</th>\n",
       "      <th>season</th>\n",
       "      <th>is_monthly</th>\n",
       "      <th>month</th>\n",
       "      <th>run</th>\n",
       "    </tr>\n",
       "  </thead>\n",
       "  <tbody>\n",
       "    <tr>\n",
       "      <th>135</th>\n",
       "      <td>Afghanistan</td>\n",
       "      <td>AFG</td>\n",
       "      <td>Rice_yield_perc_change</td>\n",
       "      <td>1.5</td>\n",
       "      <td>NaN</td>\n",
       "      <td>NaN</td>\n",
       "      <td>NaN</td>\n",
       "      <td>4.8</td>\n",
       "      <td>NaN</td>\n",
       "      <td>ag</td>\n",
       "      <td>NaN</td>\n",
       "      <td>NaN</td>\n",
       "      <td>NaN</td>\n",
       "      <td>ECEARTH</td>\n",
       "      <td>False</td>\n",
       "      <td>False</td>\n",
       "      <td>NaN</td>\n",
       "      <td>False</td>\n",
       "      <td>NaN</td>\n",
       "      <td>3</td>\n",
       "    </tr>\n",
       "    <tr>\n",
       "      <th>136</th>\n",
       "      <td>Angola</td>\n",
       "      <td>AGO</td>\n",
       "      <td>Rice_yield_perc_change</td>\n",
       "      <td>1.5</td>\n",
       "      <td>NaN</td>\n",
       "      <td>NaN</td>\n",
       "      <td>NaN</td>\n",
       "      <td>-2.0</td>\n",
       "      <td>NaN</td>\n",
       "      <td>ag</td>\n",
       "      <td>NaN</td>\n",
       "      <td>NaN</td>\n",
       "      <td>NaN</td>\n",
       "      <td>ECEARTH</td>\n",
       "      <td>False</td>\n",
       "      <td>False</td>\n",
       "      <td>NaN</td>\n",
       "      <td>False</td>\n",
       "      <td>NaN</td>\n",
       "      <td>3</td>\n",
       "    </tr>\n",
       "    <tr>\n",
       "      <th>137</th>\n",
       "      <td>Albania</td>\n",
       "      <td>ALB</td>\n",
       "      <td>Rice_yield_perc_change</td>\n",
       "      <td>1.5</td>\n",
       "      <td>NaN</td>\n",
       "      <td>NaN</td>\n",
       "      <td>NaN</td>\n",
       "      <td>4.8</td>\n",
       "      <td>NaN</td>\n",
       "      <td>ag</td>\n",
       "      <td>NaN</td>\n",
       "      <td>NaN</td>\n",
       "      <td>NaN</td>\n",
       "      <td>ECEARTH</td>\n",
       "      <td>False</td>\n",
       "      <td>False</td>\n",
       "      <td>NaN</td>\n",
       "      <td>False</td>\n",
       "      <td>NaN</td>\n",
       "      <td>3</td>\n",
       "    </tr>\n",
       "    <tr>\n",
       "      <th>138</th>\n",
       "      <td>Argentina</td>\n",
       "      <td>ARG</td>\n",
       "      <td>Rice_yield_perc_change</td>\n",
       "      <td>1.5</td>\n",
       "      <td>NaN</td>\n",
       "      <td>NaN</td>\n",
       "      <td>NaN</td>\n",
       "      <td>0.2</td>\n",
       "      <td>NaN</td>\n",
       "      <td>ag</td>\n",
       "      <td>NaN</td>\n",
       "      <td>NaN</td>\n",
       "      <td>NaN</td>\n",
       "      <td>ECEARTH</td>\n",
       "      <td>False</td>\n",
       "      <td>False</td>\n",
       "      <td>NaN</td>\n",
       "      <td>False</td>\n",
       "      <td>NaN</td>\n",
       "      <td>3</td>\n",
       "    </tr>\n",
       "    <tr>\n",
       "      <th>139</th>\n",
       "      <td>Australia</td>\n",
       "      <td>AUS</td>\n",
       "      <td>Rice_yield_perc_change</td>\n",
       "      <td>1.5</td>\n",
       "      <td>NaN</td>\n",
       "      <td>NaN</td>\n",
       "      <td>NaN</td>\n",
       "      <td>1.5</td>\n",
       "      <td>NaN</td>\n",
       "      <td>ag</td>\n",
       "      <td>NaN</td>\n",
       "      <td>NaN</td>\n",
       "      <td>NaN</td>\n",
       "      <td>ECEARTH</td>\n",
       "      <td>False</td>\n",
       "      <td>False</td>\n",
       "      <td>NaN</td>\n",
       "      <td>False</td>\n",
       "      <td>NaN</td>\n",
       "      <td>3</td>\n",
       "    </tr>\n",
       "  </tbody>\n",
       "</table>\n",
       "</div>"
      ],
      "text/plain": [
       "          name_0  iso                variable  swl_info  count  max  min  \\\n",
       "135  Afghanistan  AFG  Rice_yield_perc_change       1.5    NaN  NaN  NaN   \n",
       "136       Angola  AGO  Rice_yield_perc_change       1.5    NaN  NaN  NaN   \n",
       "137      Albania  ALB  Rice_yield_perc_change       1.5    NaN  NaN  NaN   \n",
       "138    Argentina  ARG  Rice_yield_perc_change       1.5    NaN  NaN  NaN   \n",
       "139    Australia  AUS  Rice_yield_perc_change       1.5    NaN  NaN  NaN   \n",
       "\n",
       "     mean  std impact_tag institution model_long_name model_short_name  \\\n",
       "135   4.8  NaN         ag         NaN             NaN              NaN   \n",
       "136  -2.0  NaN         ag         NaN             NaN              NaN   \n",
       "137   4.8  NaN         ag         NaN             NaN              NaN   \n",
       "138   0.2  NaN         ag         NaN             NaN              NaN   \n",
       "139   1.5  NaN         ag         NaN             NaN              NaN   \n",
       "\n",
       "    model_taxonomy  is_multi_model_summary  is_seasonal season  is_monthly  \\\n",
       "135        ECEARTH                   False        False    NaN       False   \n",
       "136        ECEARTH                   False        False    NaN       False   \n",
       "137        ECEARTH                   False        False    NaN       False   \n",
       "138        ECEARTH                   False        False    NaN       False   \n",
       "139        ECEARTH                   False        False    NaN       False   \n",
       "\n",
       "    month  run  \n",
       "135   NaN    3  \n",
       "136   NaN    3  \n",
       "137   NaN    3  \n",
       "138   NaN    3  \n",
       "139   NaN    3  "
      ]
     },
     "execution_count": 8,
     "metadata": {},
     "output_type": "execute_result"
    }
   ],
   "source": [
    "shorter.head()"
   ]
  },
  {
   "cell_type": "code",
   "execution_count": 15,
   "metadata": {
    "collapsed": false
   },
   "outputs": [
    {
     "data": {
      "text/plain": [
       "array([ 4.,  1.,  2.])"
      ]
     },
     "execution_count": 15,
     "metadata": {},
     "output_type": "execute_result"
    }
   ],
   "source": [
    "shorter['swl_info'].unique()"
   ]
  },
  {
   "cell_type": "code",
   "execution_count": null,
   "metadata": {
    "collapsed": true
   },
   "outputs": [],
   "source": []
  },
  {
   "cell_type": "code",
   "execution_count": null,
   "metadata": {
    "collapsed": true
   },
   "outputs": [],
   "source": []
  },
  {
   "cell_type": "code",
   "execution_count": null,
   "metadata": {
    "collapsed": true
   },
   "outputs": [],
   "source": []
  },
  {
   "cell_type": "code",
   "execution_count": null,
   "metadata": {
    "collapsed": true
   },
   "outputs": [],
   "source": []
  },
  {
   "cell_type": "code",
   "execution_count": null,
   "metadata": {
    "collapsed": true
   },
   "outputs": [],
   "source": [
    "tmp = pd.read_csv(\"./master_admin0.csv\")\n",
    "tmp.head()"
   ]
  },
  {
   "cell_type": "code",
   "execution_count": null,
   "metadata": {
    "collapsed": true
   },
   "outputs": [],
   "source": [
    "set(tmp['iso'].values)"
   ]
  },
  {
   "cell_type": "code",
   "execution_count": null,
   "metadata": {
    "collapsed": true
   },
   "outputs": [],
   "source": [
    "is_season = tmp['is_seasonal'] == True\n",
    "print((len(tmp[is_season])/len(tmp)) * 100.,\"% has seasonal data\")"
   ]
  },
  {
   "cell_type": "code",
   "execution_count": null,
   "metadata": {
    "collapsed": true
   },
   "outputs": [],
   "source": [
    "is_season = tmp['is_monthly'] == True\n",
    "print((len(tmp[is_season])/len(tmp)) * 100.,\"% has monthly data\")"
   ]
  },
  {
   "cell_type": "code",
   "execution_count": null,
   "metadata": {
    "collapsed": true
   },
   "outputs": [],
   "source": []
  },
  {
   "cell_type": "code",
   "execution_count": null,
   "metadata": {
    "collapsed": true
   },
   "outputs": [],
   "source": []
  },
  {
   "cell_type": "code",
   "execution_count": null,
   "metadata": {
    "collapsed": true
   },
   "outputs": [],
   "source": [
    "output_files = helix_funcs.identify_netcdf_and_csv_files('processed/')"
   ]
  },
  {
   "cell_type": "code",
   "execution_count": null,
   "metadata": {
    "collapsed": true
   },
   "outputs": [],
   "source": [
    "len(output_files['csv'])"
   ]
  },
  {
   "cell_type": "code",
   "execution_count": null,
   "metadata": {
    "collapsed": true
   },
   "outputs": [],
   "source": [
    "tmp = pd.read_csv(outputs['csv'][-1])"
   ]
  },
  {
   "cell_type": "code",
   "execution_count": null,
   "metadata": {
    "collapsed": true
   },
   "outputs": [],
   "source": [
    "country_mask = tmp['iso'] == 'ESP'"
   ]
  },
  {
   "cell_type": "code",
   "execution_count": null,
   "metadata": {
    "collapsed": true
   },
   "outputs": [],
   "source": [
    "tmp = tmp[country_mask].head()"
   ]
  },
  {
   "cell_type": "code",
   "execution_count": null,
   "metadata": {
    "collapsed": true
   },
   "outputs": [],
   "source": [
    "admin_mask = tmp['id_1'] == 1"
   ]
  },
  {
   "cell_type": "code",
   "execution_count": null,
   "metadata": {
    "collapsed": true
   },
   "outputs": [],
   "source": [
    "tmp['id_1'].unique()"
   ]
  },
  {
   "cell_type": "markdown",
   "metadata": {},
   "source": [
    "## Test plots\n",
    "\n",
    "We need to make an easy way to preview how a specific variables choropleths will appear.\n",
    "This means read a file, and make a preview plot using geopandas.\n"
   ]
  },
  {
   "cell_type": "code",
   "execution_count": null,
   "metadata": {
    "collapsed": true
   },
   "outputs": [],
   "source": [
    "output_files = helix_funcs.identify_netcdf_and_csv_files('processed/')"
   ]
  },
  {
   "cell_type": "code",
   "execution_count": null,
   "metadata": {
    "collapsed": true
   },
   "outputs": [],
   "source": [
    "helix_funcs.map_file_by_iso(f=output_files['csv'][10], s=s, iso='FRA')"
   ]
  },
  {
   "cell_type": "code",
   "execution_count": null,
   "metadata": {
    "collapsed": true
   },
   "outputs": [],
   "source": []
  },
  {
   "cell_type": "markdown",
   "metadata": {},
   "source": [
    "## SIMPLIFY LIFE!\n",
    "\n",
    "Before passing the polygons for zonal analysis, they should be simplified. \n",
    "Looks like the call should be `stest.geometry.simplify(0.2, preserve_topology=False)`\n",
    "\n",
    "The geometry files themsevels should be simplified, and read in already done. I have another notebook to simply (and correct) these data."
   ]
  },
  {
   "cell_type": "code",
   "execution_count": null,
   "metadata": {
    "collapsed": true
   },
   "outputs": [],
   "source": [
    "stest.geometry.simplify(0.2, preserve_topology=False).plot()"
   ]
  },
  {
   "cell_type": "code",
   "execution_count": null,
   "metadata": {
    "collapsed": true
   },
   "outputs": [],
   "source": [
    "stest = s[s['iso'] == 'BRA']\n",
    "stest.geometry.plot()"
   ]
  },
  {
   "cell_type": "code",
   "execution_count": null,
   "metadata": {
    "collapsed": true
   },
   "outputs": [],
   "source": [
    "stest.geometry.simplify(0.2, preserve_topology=True).plot()"
   ]
  },
  {
   "cell_type": "code",
   "execution_count": null,
   "metadata": {
    "collapsed": true
   },
   "outputs": [],
   "source": []
  },
  {
   "cell_type": "code",
   "execution_count": null,
   "metadata": {
    "collapsed": true
   },
   "outputs": [],
   "source": []
  },
  {
   "cell_type": "markdown",
   "metadata": {},
   "source": [
    "## Next Step\n",
    "\n",
    "Work out problem of small shapes (probably will need to have a logical test for small shapes, and buffer the geom before zonal stats are calculated). Perhaps this should even be done prior to any loop, initially when the shapes are calculaed.\n",
    "\n",
    "First can look and see what admins are absent from file (to see where the problem lies).\n",
    "\n",
    "Test with simplifed shapes.\n",
    "\n",
    "#### REDUCE SIZE OF FINAL DATA BY removing significant digits from values\n",
    "e.g. 10.6466969914 should be converted to simply 10.6\n",
    "\n",
    "\n",
    "\n"
   ]
  },
  {
   "cell_type": "code",
   "execution_count": null,
   "metadata": {
    "collapsed": true
   },
   "outputs": [],
   "source": [
    "def combine_processed_results(path='./processed/admin1',\n",
    "                              table_name=\"./master_admin1.csv\"):\n",
    "    \"\"\"Combine all the csv files in the path (e.g. all processed files)\n",
    "    into a single master table\n",
    "    \"\"\"\n",
    "    output_files = identify_netcdf_and_csv_files(path)\n",
    "    frames = [pd.read_csv(csv_file) for csv_file in output_files['csv']]\n",
    "    master_table = pd.concat(frames)\n",
    "    master_table.to_csv(table_name, index=False)\n",
    "    print(\"Made {0}: {1:,g} rows of data. {2:,g} sources.\".format(table_name,\n",
    "                                                        len(master_table),\n",
    "                                                        len(output_files['csv'])\n",
    "                                                                 ))\n",
    "    return\n"
   ]
  },
  {
   "cell_type": "code",
   "execution_count": null,
   "metadata": {
    "collapsed": true
   },
   "outputs": [],
   "source": [
    "path='./processed'\n",
    "output_files = helix_funcs.identify_netcdf_and_csv_files(path)\n",
    "frames = [pd.read_csv(csv_file) for csv_file in output_files['csv'][0:10]]"
   ]
  },
  {
   "cell_type": "code",
   "execution_count": null,
   "metadata": {
    "collapsed": true
   },
   "outputs": [],
   "source": [
    "for  n, frame in enumerate(frames):\n",
    "    print(n, min(frames[0]['min']), max(frames[0]['min']), min(frames[0]['max']), max(frames[0]['max']), )"
   ]
  },
  {
   "cell_type": "code",
   "execution_count": null,
   "metadata": {
    "collapsed": true
   },
   "outputs": [],
   "source": [
    "frames[0].head()"
   ]
  },
  {
   "cell_type": "code",
   "execution_count": null,
   "metadata": {
    "collapsed": true
   },
   "outputs": [],
   "source": [
    "test = frames[0].round(1)"
   ]
  },
  {
   "cell_type": "code",
   "execution_count": null,
   "metadata": {
    "collapsed": true
   },
   "outputs": [],
   "source": [
    "admin_level = 0\n",
    "\n",
    "if admin_level == 0:\n",
    "    admin_prefix = 'admin0/'\n",
    "elif admin_level == 1:\n",
    "    admin_prefix = 'admin1/'\n",
    "else:\n",
    "    raise ValueError(\"admin_level kwarg must be either 0 or 1\")\n",
    "print(admin_prefix)"
   ]
  },
  {
   "cell_type": "code",
   "execution_count": null,
   "metadata": {
    "collapsed": true
   },
   "outputs": [],
   "source": []
  }
 ],
 "metadata": {
  "anaconda-cloud": {},
  "kernelspec": {
   "display_name": "Python 3",
   "language": "python",
   "name": "python3"
  },
  "language_info": {
   "codemirror_mode": {
    "name": "ipython",
    "version": 3
   },
   "file_extension": ".py",
   "mimetype": "text/x-python",
   "name": "python",
   "nbconvert_exporter": "python",
   "pygments_lexer": "ipython3",
   "version": "3.5.3"
  }
 },
 "nbformat": 4,
 "nbformat_minor": 2
}
