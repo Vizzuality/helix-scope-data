{
 "cells": [
  {
   "cell_type": "markdown",
   "metadata": {},
   "source": [
    "# HELIX-SCOPE\n",
    "\n",
    "### Developing the data processing\n",
    "\n",
    "In this notebook we will test how best to process national summary statics from the Helix consortium data. Summary statistics (mean, max, min and standard deviation) will be calculated for every shape in an arbitrary shapefile for every netcdf file on path.\n",
    "\n",
    "Data should be downloaded from the SFTP site (bi.nsc.liu.se), which requires a username and password login. The data should be placed in the `/data` folder within this repo.\n",
    "\n",
    "** THIS NOTEBOOK IS FOR DEVELOPMENT PURPOSES ONLY**"
   ]
  },
  {
   "cell_type": "code",
   "execution_count": 1,
   "metadata": {
    "collapsed": false
   },
   "outputs": [
    {
     "name": "stderr",
     "output_type": "stream",
     "text": [
      "/opt/conda/lib/python3.5/site-packages/matplotlib/font_manager.py:273: UserWarning: Matplotlib is building the font cache using fc-list. This may take a moment.\n",
      "  warnings.warn('Matplotlib is building the font cache using fc-list. This may take a moment.')\n",
      "/opt/conda/lib/python3.5/site-packages/matplotlib/font_manager.py:273: UserWarning: Matplotlib is building the font cache using fc-list. This may take a moment.\n",
      "  warnings.warn('Matplotlib is building the font cache using fc-list. This may take a moment.')\n"
     ]
    }
   ],
   "source": [
    "from netCDF4 import Dataset\n",
    "import os\n",
    "import cartoframes\n",
    "import re\n",
    "import fiona\n",
    "import rasterio\n",
    "from rasterio.mask import mask\n",
    "from rasterio.plot import show\n",
    "from rasterstats import zonal_stats\n",
    "import geopandas as gpd\n",
    "import pandas as pd\n",
    "import numpy as np\n",
    "from matplotlib.pyplot import cm\n",
    "import matplotlib.pyplot as plt\n",
    "import datetime\n",
    "import warnings\n",
    "warnings.filterwarnings('ignore')\n",
    "%matplotlib inline"
   ]
  },
  {
   "cell_type": "code",
   "execution_count": 2,
   "metadata": {
    "collapsed": true
   },
   "outputs": [],
   "source": [
    "def identify_netcdf_and_csv_files(path='data'):\n",
    "    \"\"\"Crawl through a specified folder and return a dict of the netcdf d['nc']\n",
    "    and csv d['csv'] files contained within.\n",
    "    Returns something like {'nc':'data/CNRS_data/cSoil/orchidee-giss-ecearth.SWL_15.eco.cSoil.nc'}\n",
    "    \"\"\"\n",
    "    netcdf_files = []\n",
    "    csv_files = []\n",
    "    for root, dirs, files in os.walk(path):\n",
    "        if isinstance([], type(files)):\n",
    "            for f in files:\n",
    "                if f.split('.')[-1] in ['nc']:\n",
    "                    netcdf_files.append(''.join([root,'/',f]))\n",
    "                elif  f.split('.')[-1] in ['csv']:\n",
    "                    csv_files.append(''.join([root,'/',f]))\n",
    "    return {'nc':netcdf_files,'csv':csv_files}\n",
    "\n",
    "\n",
    "def generate_metadata(filepath):\n",
    "    \"\"\"Pass a path and file as a sigle string. Expected in the form of:\n",
    "        data/CNRS_data/cSoil/orchidee-giss-ecearth.SWL_15.eco.cSoil.nc\n",
    "    \"\"\"\n",
    "    file_metadata = get_nc_attributes(filepath)\n",
    "    filename_properties = extract_medata_from_filename(filepath)\n",
    "    return {**file_metadata, **filename_properties}\n",
    "\n",
    "\n",
    "def extract_medata_from_filename(filepath):\n",
    "    \"\"\"extract additonal data from filename using REGEX\"\"\"\n",
    "    warning = \"Filepath should resemble: data/CNRS_data/cSoil/orchidee-giss-ecearth.SWL_15.eco.cSoil.nc\"\n",
    "    assert len(file.split('/')) == 4, warning\n",
    "    fname = filepath.split(\"/\")[3]\n",
    "    variable = filepath.split(\"/\")[2]\n",
    "    model_taxonomy = re.search('(^.*?)\\.',fname, re.IGNORECASE).group(1)\n",
    "    model_short_name = re.search('(^.*?)-',model_taxonomy, re.IGNORECASE).group(1)\n",
    "    return {\"model_short_name\":model_short_name, \"variable\":variable, \"model_taxonomy\":model_taxonomy}\n",
    "\n",
    "\n",
    "def get_nc_attributes(filepath):\n",
    "    \"\"\" Most info is stored in the files’ global attribute description,\n",
    "    we will access it using netCDF4.ncattrs function.\n",
    "    Example:\n",
    "         ncAttributes('data/CNRS_data/cSoil/orchidee-giss-ecearth.SWL_15.eco.cSoil.nc')\n",
    "    \"\"\"\n",
    "    nc_file = Dataset(filepath, 'r')\n",
    "    d = {}\n",
    "    nc_attrs = nc_file.ncattrs()    \n",
    "    for nc_attr in nc_attrs:\n",
    "        d.update({nc_attr: nc_file.getncattr(nc_attr)})\n",
    "    could_be_true = ['true', 'True', 'TRUE']\n",
    "    d['is_multi_model_summary'] = d['is_multi_model_summary'] in could_be_true\n",
    "    d['is_seasonal'] = d['is_seasonal'] in could_be_true\n",
    "    del d['contact']\n",
    "    return d\n",
    "\n",
    "\n",
    "def get_shape_attributes(i):\n",
    "    \"\"\"Get attributes of shapes for gadm28_admin1 data\n",
    "    index (i) should be passed\n",
    "    \"\"\"\n",
    "    d = {}\n",
    "    for table_attribute in ['iso','name_0','id_1','name_1','engtype_1']:\n",
    "        try:\n",
    "            d[table_attribute] = shps[table_attribute][i]\n",
    "        except:\n",
    "            d[table_attribute] = None\n",
    "    return d"
   ]
  },
  {
   "cell_type": "markdown",
   "metadata": {},
   "source": [
    "## Single core process\n",
    "\n",
    "Single core version:\n",
    "\n",
    "Place the data folders from Helixscope into the data folder of this repo.\n",
    "\n",
    "```\n",
    "data\n",
    "├── CNRS_data\n",
    "│   ├── README.txt\n",
    "│   ├── cSoil\n",
    "│   │   ├── orchidee-giss-ecearth.SWL_15.eco.cSoil.nc\n",
    "│   │   ├── orchidee-giss-ecearth.SWL_2.eco.cSoil.nc\n",
    "│   │   ├── orchidee-giss-ecearth.SWL_4.eco.cSoil.nc\n",
    "│   │   ├── orchidee-ipsl-ecearth.SWL_15.eco.cSoil.nc\n",
    "│   │   ├── orchidee-ipsl-ecearth.SWL_2.eco.cSoil.nc\n",
    "│   │   ├── orchidee-ipsl-ecearth.SWL_4.eco.cSoil.nc\n",
    "│   │   ├── orchidee-ipsl-hadgem.SWL_15.eco.cSoil.nc\n",
    "│   │   ├── orchidee-ipsl-hadgem.SWL_2.eco.cSoil.nc\n",
    "│   │   └── orchidee-ipsl-hadgem.SWL_4.eco.cSoil.nc\n",
    "│   ├── cVeg\n",
    "│   │   ├── orchidee-giss-ecearth.SWL_15.eco.cVeg.nc\n",
    "│   │   ├── orchidee-giss-ecearth.SWL_2.eco.cVeg.nc\n",
    "│   │   ├── orchidee-giss-ecearth.SWL_4.eco.cVeg.nc\n",
    "│   │   ├── orchidee-ipsl-ecearth.SWL_15.eco.cVeg.nc\n",
    "│   │   ├── orchidee-ipsl-ecearth.SWL_2.eco.cVeg.nc\n",
    "```\n",
    "\n",
    "Also include the shapefile in the data folder:\n",
    "\n",
    "```\n",
    "./data/minified_gadm28_countries/gadm28_countries.shp\n",
    "```"
   ]
  },
  {
   "cell_type": "code",
   "execution_count": 4,
   "metadata": {
    "collapsed": false
   },
   "outputs": [
    {
     "name": "stdout",
     "output_type": "stream",
     "text": [
      "CPU times: user 1min 12s, sys: 360 ms, total: 1min 12s\n",
      "Wall time: 1min 13s\n"
     ]
    }
   ],
   "source": [
    "%%time\n",
    "#shps = gpd.read_file('./data/minified_gadm28_countries/gadm28_countries.shp')\n",
    "shps = gpd.read_file('./data/gadm28_adm1/gadm28_adm1.shp')\n",
    "shps = shps.to_crs(epsg='4326')\n",
    "files = identify_netcdf_and_csv_files()\n",
    "\n",
    "keys = ['name_0','iso','id_1','name_1','engtype_1','variable','SWL_info',\n",
    "        'count', 'max','min','mean','std','impact_tag','institution',\n",
    "        'model_long_name','model_short_name','model_taxonomy',\n",
    "        'is_multi_model_summary','is_seasonal']"
   ]
  },
  {
   "cell_type": "code",
   "execution_count": 74,
   "metadata": {
    "collapsed": true
   },
   "outputs": [],
   "source": [
    "def process_file(file, status=False, overwrite=False):\n",
    "    \"\"\"Given a single file, generate a csv table with the same folder/file name\n",
    "    in ./data/processed/ with all required csv info.\n",
    "    Expect file to be a string e.g.: \"data/CNRS_data/cSoil/orchidee-giss-ecearth.SWL_15.eco.cSoil.nc\"\n",
    "    \"\"\"\n",
    "    output_filename = \"\".join(['./processed/',file[5:-3],'.csv'])\n",
    "    if os.path.isfile(output_filename) and not overwrite:\n",
    "        print(\"{0} output exists.\".format(output_filename))\n",
    "        print(\"Specifcy overwrite=True on process_file() function call if you want to replace it.\")\n",
    "        return\n",
    "    else:\n",
    "        if status: print(\"Processing '{}'\".format(file))\n",
    "        tmp_metadata = generate_metadata(file)\n",
    "        with rasterio.open(file) as nc_file:\n",
    "            rast=nc_file.read()\n",
    "            properties = nc_file.profile\n",
    "        tmp = rast[0,:,:]                      \n",
    "        mask = tmp == properties.get('nodata') \n",
    "        tmp[mask] = np.nan\n",
    "        stats_per_file = []\n",
    "        for i in shps.index:\n",
    "            shp = shps.iloc[i].geometry\n",
    "            zstats = zonal_stats(shp, tmp, band=1, stats=['mean', 'max','min','std','count'],\n",
    "                                 all_touched=True, raster_out=False,\n",
    "                                 affine=properties['transform'],\n",
    "                                 no_data=np.nan)\n",
    "            if zstats[0].get('count', 0) > 0:\n",
    "                shp_atts = get_shape_attributes(i)\n",
    "                tmp_d = {**zstats[0], **shp_atts, **tmp_metadata}\n",
    "                stats_per_file.append([tmp_d.get(key, None) for key in keys])\n",
    "        df = pd.DataFrame(stats_per_file, columns=keys)\n",
    "        path_check = \"/\".join(output_filename.split(\"/\")[0:-1])\n",
    "        if not os.path.exists(path_check):\n",
    "            os.makedirs(path_check)\n",
    "        df.to_csv(output_filename, index=False)\n",
    "        return\n",
    "    \n",
    "    \n",
    "def combine_processed_results(path='./processed'):\n",
    "    \"\"\"Combine all the csv files in the path (e.g. all processed files)\n",
    "    into a single master table\n",
    "    \"\"\"\n",
    "    output_files = identify_netcdf_and_csv_files(path)\n",
    "    frames = [pd.read_csv(csv_file) for csv_file in output_files['csv']]\n",
    "    master_table = pd.concat(frames)\n",
    "    master_table.to_csv(\"./master_admin1.csv\", index=False)\n",
    "    return"
   ]
  },
  {
   "cell_type": "code",
   "execution_count": 78,
   "metadata": {
    "collapsed": false
   },
   "outputs": [
    {
     "name": "stderr",
     "output_type": "stream",
     "text": [
      "WARNING:rasterio._gdal:CPLE_AppDefined in No UNIDATA NC_GLOBAL:Conventions attribute\n"
     ]
    },
    {
     "name": "stdout",
     "output_type": "stream",
     "text": [
      "data/CNRS_data/cSoil/orchidee-giss-ecearth.SWL_15.eco.cSoil.nc\n"
     ]
    },
    {
     "name": "stderr",
     "output_type": "stream",
     "text": [
      "WARNING:rasterio._gdal:CPLE_AppDefined in No UNIDATA NC_GLOBAL:Conventions attribute\n"
     ]
    },
    {
     "name": "stdout",
     "output_type": "stream",
     "text": [
      "data/CNRS_data/cSoil/orchidee-giss-ecearth.SWL_2.eco.cSoil.nc\n",
      "data/CNRS_data/cSoil/orchidee-giss-ecearth.SWL_4.eco.cSoil.nc\n",
      "./processed/CNRS_data/cSoil/orchidee-giss-ecearth.SWL_4.eco.cSoil.csv output exists.\n",
      "Specifcy overwrite=True on process_file() function call if you want to replace it.\n"
     ]
    }
   ],
   "source": [
    "for file in files.get('nc')[0:3]:\n",
    "    print(file)\n",
    "    process_file(file)"
   ]
  },
  {
   "cell_type": "code",
   "execution_count": 79,
   "metadata": {
    "collapsed": false
   },
   "outputs": [],
   "source": []
  },
  {
   "cell_type": "code",
   "execution_count": 80,
   "metadata": {
    "collapsed": false
   },
   "outputs": [
    {
     "data": {
      "text/plain": [
       "['./processed/CNRS_data/cSoil/orchidee-giss-ecearth.SWL_15.eco.cSoil.csv',\n",
       " './processed/CNRS_data/cSoil/orchidee-giss-ecearth.SWL_2.eco.cSoil.csv',\n",
       " './processed/CNRS_data/cSoil/orchidee-giss-ecearth.SWL_4.eco.cSoil.csv']"
      ]
     },
     "execution_count": 80,
     "metadata": {},
     "output_type": "execute_result"
    }
   ],
   "source": [
    "output_files['csv']"
   ]
  },
  {
   "cell_type": "code",
   "execution_count": 94,
   "metadata": {
    "collapsed": false
   },
   "outputs": [
    {
     "data": {
      "text/html": [
       "<div>\n",
       "<style>\n",
       "    .dataframe thead tr:only-child th {\n",
       "        text-align: right;\n",
       "    }\n",
       "\n",
       "    .dataframe thead th {\n",
       "        text-align: left;\n",
       "    }\n",
       "\n",
       "    .dataframe tbody tr th {\n",
       "        vertical-align: top;\n",
       "    }\n",
       "</style>\n",
       "<table border=\"1\" class=\"dataframe\">\n",
       "  <thead>\n",
       "    <tr style=\"text-align: right;\">\n",
       "      <th></th>\n",
       "      <th>name_0</th>\n",
       "      <th>iso</th>\n",
       "      <th>id_1</th>\n",
       "      <th>name_1</th>\n",
       "      <th>engtype_1</th>\n",
       "      <th>variable</th>\n",
       "      <th>SWL_info</th>\n",
       "      <th>count</th>\n",
       "      <th>max</th>\n",
       "      <th>min</th>\n",
       "      <th>mean</th>\n",
       "      <th>std</th>\n",
       "      <th>impact_tag</th>\n",
       "      <th>institution</th>\n",
       "      <th>model_long_name</th>\n",
       "      <th>model_short_name</th>\n",
       "      <th>model_taxonomy</th>\n",
       "      <th>is_multi_model_summary</th>\n",
       "      <th>is_seasonal</th>\n",
       "    </tr>\n",
       "  </thead>\n",
       "  <tbody>\n",
       "    <tr>\n",
       "      <th>0</th>\n",
       "      <td>Mexico</td>\n",
       "      <td>MEX</td>\n",
       "      <td>9</td>\n",
       "      <td>Ciudad de México</td>\n",
       "      <td>Federal District</td>\n",
       "      <td>cSoil</td>\n",
       "      <td>1.5</td>\n",
       "      <td>3</td>\n",
       "      <td>9.999629</td>\n",
       "      <td>5.903975</td>\n",
       "      <td>8.440266</td>\n",
       "      <td>1.809122</td>\n",
       "      <td>eco</td>\n",
       "      <td>LSCE</td>\n",
       "      <td>ORCHIDEE</td>\n",
       "      <td>orchidee</td>\n",
       "      <td>orchidee-giss-ecearth</td>\n",
       "      <td>False</td>\n",
       "      <td>False</td>\n",
       "    </tr>\n",
       "    <tr>\n",
       "      <th>1</th>\n",
       "      <td>Haiti</td>\n",
       "      <td>HTI</td>\n",
       "      <td>3</td>\n",
       "      <td>L'Artibonite</td>\n",
       "      <td>Department</td>\n",
       "      <td>cSoil</td>\n",
       "      <td>1.5</td>\n",
       "      <td>6</td>\n",
       "      <td>4.599074</td>\n",
       "      <td>1.839996</td>\n",
       "      <td>3.358963</td>\n",
       "      <td>0.888974</td>\n",
       "      <td>eco</td>\n",
       "      <td>LSCE</td>\n",
       "      <td>ORCHIDEE</td>\n",
       "      <td>orchidee</td>\n",
       "      <td>orchidee-giss-ecearth</td>\n",
       "      <td>False</td>\n",
       "      <td>False</td>\n",
       "    </tr>\n",
       "    <tr>\n",
       "      <th>2</th>\n",
       "      <td>Honduras</td>\n",
       "      <td>HND</td>\n",
       "      <td>1</td>\n",
       "      <td>Atlántida</td>\n",
       "      <td>Department</td>\n",
       "      <td>cSoil</td>\n",
       "      <td>1.5</td>\n",
       "      <td>5</td>\n",
       "      <td>7.771445</td>\n",
       "      <td>5.581614</td>\n",
       "      <td>6.300231</td>\n",
       "      <td>0.789679</td>\n",
       "      <td>eco</td>\n",
       "      <td>LSCE</td>\n",
       "      <td>ORCHIDEE</td>\n",
       "      <td>orchidee</td>\n",
       "      <td>orchidee-giss-ecearth</td>\n",
       "      <td>False</td>\n",
       "      <td>False</td>\n",
       "    </tr>\n",
       "    <tr>\n",
       "      <th>3</th>\n",
       "      <td>Honduras</td>\n",
       "      <td>HND</td>\n",
       "      <td>3</td>\n",
       "      <td>Colón</td>\n",
       "      <td>Department</td>\n",
       "      <td>cSoil</td>\n",
       "      <td>1.5</td>\n",
       "      <td>9</td>\n",
       "      <td>7.171936</td>\n",
       "      <td>5.421208</td>\n",
       "      <td>6.181699</td>\n",
       "      <td>0.568947</td>\n",
       "      <td>eco</td>\n",
       "      <td>LSCE</td>\n",
       "      <td>ORCHIDEE</td>\n",
       "      <td>orchidee</td>\n",
       "      <td>orchidee-giss-ecearth</td>\n",
       "      <td>False</td>\n",
       "      <td>False</td>\n",
       "    </tr>\n",
       "    <tr>\n",
       "      <th>4</th>\n",
       "      <td>Guyana</td>\n",
       "      <td>GUY</td>\n",
       "      <td>9</td>\n",
       "      <td>Upper Demerara-Berbice</td>\n",
       "      <td>Region</td>\n",
       "      <td>cSoil</td>\n",
       "      <td>1.5</td>\n",
       "      <td>11</td>\n",
       "      <td>6.191456</td>\n",
       "      <td>4.655702</td>\n",
       "      <td>5.380422</td>\n",
       "      <td>0.418534</td>\n",
       "      <td>eco</td>\n",
       "      <td>LSCE</td>\n",
       "      <td>ORCHIDEE</td>\n",
       "      <td>orchidee</td>\n",
       "      <td>orchidee-giss-ecearth</td>\n",
       "      <td>False</td>\n",
       "      <td>False</td>\n",
       "    </tr>\n",
       "  </tbody>\n",
       "</table>\n",
       "</div>"
      ],
      "text/plain": [
       "     name_0  iso  id_1                  name_1         engtype_1 variable  \\\n",
       "0    Mexico  MEX     9        Ciudad de México  Federal District    cSoil   \n",
       "1     Haiti  HTI     3            L'Artibonite        Department    cSoil   \n",
       "2  Honduras  HND     1               Atlántida        Department    cSoil   \n",
       "3  Honduras  HND     3                   Colón        Department    cSoil   \n",
       "4    Guyana  GUY     9  Upper Demerara-Berbice            Region    cSoil   \n",
       "\n",
       "   SWL_info  count       max       min      mean       std impact_tag  \\\n",
       "0       1.5      3  9.999629  5.903975  8.440266  1.809122        eco   \n",
       "1       1.5      6  4.599074  1.839996  3.358963  0.888974        eco   \n",
       "2       1.5      5  7.771445  5.581614  6.300231  0.789679        eco   \n",
       "3       1.5      9  7.171936  5.421208  6.181699  0.568947        eco   \n",
       "4       1.5     11  6.191456  4.655702  5.380422  0.418534        eco   \n",
       "\n",
       "  institution model_long_name model_short_name         model_taxonomy  \\\n",
       "0        LSCE        ORCHIDEE         orchidee  orchidee-giss-ecearth   \n",
       "1        LSCE        ORCHIDEE         orchidee  orchidee-giss-ecearth   \n",
       "2        LSCE        ORCHIDEE         orchidee  orchidee-giss-ecearth   \n",
       "3        LSCE        ORCHIDEE         orchidee  orchidee-giss-ecearth   \n",
       "4        LSCE        ORCHIDEE         orchidee  orchidee-giss-ecearth   \n",
       "\n",
       "   is_multi_model_summary  is_seasonal  \n",
       "0                   False        False  \n",
       "1                   False        False  \n",
       "2                   False        False  \n",
       "3                   False        False  \n",
       "4                   False        False  "
      ]
     },
     "execution_count": 94,
     "metadata": {},
     "output_type": "execute_result"
    }
   ],
   "source": [
    "def combine_processed_results(path='./processed'):\n",
    "    \"\"\"Combine all the csv files in the path (e.g. all processed files)\n",
    "    into a single master table\n",
    "    \"\"\"\n",
    "    output_files = identify_netcdf_and_csv_files(path)\n",
    "    frames = [pd.read_csv(csv_file) for csv_file in output_files['csv']]\n",
    "    master_table = pd.concat(frames)\n",
    "    master_table.to_csv(\"./master_admin1.csv\", index=False)\n",
    "    return"
   ]
  },
  {
   "cell_type": "code",
   "execution_count": 96,
   "metadata": {
    "collapsed": false
   },
   "outputs": [],
   "source": [
    "\n",
    "    "
   ]
  },
  {
   "cell_type": "code",
   "execution_count": null,
   "metadata": {
    "collapsed": false
   },
   "outputs": [],
   "source": []
  },
  {
   "cell_type": "code",
   "execution_count": null,
   "metadata": {
    "collapsed": false
   },
   "outputs": [],
   "source": []
  },
  {
   "cell_type": "code",
   "execution_count": 5,
   "metadata": {
    "collapsed": false
   },
   "outputs": [
    {
     "name": "stderr",
     "output_type": "stream",
     "text": [
      "WARNING:rasterio._gdal:CPLE_AppDefined in No UNIDATA NC_GLOBAL:Conventions attribute\n"
     ]
    },
    {
     "name": "stdout",
     "output_type": "stream",
     "text": [
      "Processing 'data/CNRS_data/cSoil/orchidee-giss-ecearth.SWL_15.eco.cSoil.nc'\n",
      "CPU times: user 1min 47s, sys: 1.18 s, total: 1min 48s\n",
      "Wall time: 1min 54s\n"
     ]
    }
   ],
   "source": [
    "%%time\n",
    "\n",
    "for file in files.get('nc')[0:1]:\n",
    "    print(\"Processing '{}'\".format(file))\n",
    "    tmp_metadata = generate_metadata(file)\n",
    "    with rasterio.open(files['nc'][0]) as nc_file:\n",
    "        rast=nc_file.read()\n",
    "        properties = nc_file.profile\n",
    "    tmp = rast[0,:,:]                      # The first dim should be stripped\n",
    "    mask = tmp == properties.get('nodata') # Now we need to make a mask for missing data\n",
    "    tmp[mask] = np.nan                     # and replace it with a NAN value\n",
    "    stats_per_file = []\n",
    "    for i in shps.index:\n",
    "        shp = shps.iloc[i].geometry\n",
    "        zstats = zonal_stats(shp, tmp, band=1, stats=['mean', 'max','min','std','count'],\n",
    "                             all_touched=True, raster_out=False,\n",
    "                             affine=properties['transform'],\n",
    "                             no_data=np.nan)\n",
    "        if zstats[0].get('count', 0) > 0: # If shape generated stats, then add it\n",
    "            #shp_atts = {'iso2' : shps.iso2[i],\n",
    "            #            'country' : shps.name_engli[i]}\n",
    "            shp_atts = get_shape_attributes(i)\n",
    "            tmp_d = {**zstats[0], **shp_atts, **tmp_metadata}\n",
    "            stats_per_file.append([tmp_d.get(key, None) for key in keys])"
   ]
  },
  {
   "cell_type": "code",
   "execution_count": 27,
   "metadata": {
    "collapsed": false
   },
   "outputs": [
    {
     "data": {
      "text/html": [
       "<div>\n",
       "<table border=\"1\" class=\"dataframe\">\n",
       "  <thead>\n",
       "    <tr style=\"text-align: right;\">\n",
       "      <th></th>\n",
       "      <th>name_1</th>\n",
       "      <th>iso</th>\n",
       "      <th>id_1</th>\n",
       "      <th>name_1</th>\n",
       "      <th>engtype_1</th>\n",
       "      <th>variable</th>\n",
       "      <th>SWL_info</th>\n",
       "      <th>count</th>\n",
       "      <th>max</th>\n",
       "      <th>min</th>\n",
       "      <th>mean</th>\n",
       "      <th>std</th>\n",
       "      <th>impact_tag</th>\n",
       "      <th>institution</th>\n",
       "      <th>model_long_name</th>\n",
       "      <th>model_short_name</th>\n",
       "      <th>model_taxonomy</th>\n",
       "      <th>is_multi_model_summary</th>\n",
       "      <th>is_seasonal</th>\n",
       "    </tr>\n",
       "  </thead>\n",
       "  <tbody>\n",
       "    <tr>\n",
       "      <th>0</th>\n",
       "      <td>Ciudad de México</td>\n",
       "      <td>MEX</td>\n",
       "      <td>9</td>\n",
       "      <td>Ciudad de México</td>\n",
       "      <td>Federal District</td>\n",
       "      <td>cSoil</td>\n",
       "      <td>1.5</td>\n",
       "      <td>3</td>\n",
       "      <td>9.999629</td>\n",
       "      <td>5.903975</td>\n",
       "      <td>8.440266</td>\n",
       "      <td>1.809122</td>\n",
       "      <td>eco</td>\n",
       "      <td>LSCE</td>\n",
       "      <td>ORCHIDEE</td>\n",
       "      <td>orchidee</td>\n",
       "      <td>orchidee-giss-ecearth</td>\n",
       "      <td>False</td>\n",
       "      <td>False</td>\n",
       "    </tr>\n",
       "    <tr>\n",
       "      <th>1</th>\n",
       "      <td>L'Artibonite</td>\n",
       "      <td>HTI</td>\n",
       "      <td>3</td>\n",
       "      <td>L'Artibonite</td>\n",
       "      <td>Department</td>\n",
       "      <td>cSoil</td>\n",
       "      <td>1.5</td>\n",
       "      <td>6</td>\n",
       "      <td>4.599074</td>\n",
       "      <td>1.839996</td>\n",
       "      <td>3.358963</td>\n",
       "      <td>0.888974</td>\n",
       "      <td>eco</td>\n",
       "      <td>LSCE</td>\n",
       "      <td>ORCHIDEE</td>\n",
       "      <td>orchidee</td>\n",
       "      <td>orchidee-giss-ecearth</td>\n",
       "      <td>False</td>\n",
       "      <td>False</td>\n",
       "    </tr>\n",
       "    <tr>\n",
       "      <th>2</th>\n",
       "      <td>Atlántida</td>\n",
       "      <td>HND</td>\n",
       "      <td>1</td>\n",
       "      <td>Atlántida</td>\n",
       "      <td>Department</td>\n",
       "      <td>cSoil</td>\n",
       "      <td>1.5</td>\n",
       "      <td>5</td>\n",
       "      <td>7.771445</td>\n",
       "      <td>5.581614</td>\n",
       "      <td>6.300231</td>\n",
       "      <td>0.789679</td>\n",
       "      <td>eco</td>\n",
       "      <td>LSCE</td>\n",
       "      <td>ORCHIDEE</td>\n",
       "      <td>orchidee</td>\n",
       "      <td>orchidee-giss-ecearth</td>\n",
       "      <td>False</td>\n",
       "      <td>False</td>\n",
       "    </tr>\n",
       "    <tr>\n",
       "      <th>3</th>\n",
       "      <td>Colón</td>\n",
       "      <td>HND</td>\n",
       "      <td>3</td>\n",
       "      <td>Colón</td>\n",
       "      <td>Department</td>\n",
       "      <td>cSoil</td>\n",
       "      <td>1.5</td>\n",
       "      <td>9</td>\n",
       "      <td>7.171936</td>\n",
       "      <td>5.421208</td>\n",
       "      <td>6.181699</td>\n",
       "      <td>0.568947</td>\n",
       "      <td>eco</td>\n",
       "      <td>LSCE</td>\n",
       "      <td>ORCHIDEE</td>\n",
       "      <td>orchidee</td>\n",
       "      <td>orchidee-giss-ecearth</td>\n",
       "      <td>False</td>\n",
       "      <td>False</td>\n",
       "    </tr>\n",
       "    <tr>\n",
       "      <th>4</th>\n",
       "      <td>Upper Demerara-Berbice</td>\n",
       "      <td>GUY</td>\n",
       "      <td>9</td>\n",
       "      <td>Upper Demerara-Berbice</td>\n",
       "      <td>Region</td>\n",
       "      <td>cSoil</td>\n",
       "      <td>1.5</td>\n",
       "      <td>11</td>\n",
       "      <td>6.191456</td>\n",
       "      <td>4.655702</td>\n",
       "      <td>5.380422</td>\n",
       "      <td>0.418534</td>\n",
       "      <td>eco</td>\n",
       "      <td>LSCE</td>\n",
       "      <td>ORCHIDEE</td>\n",
       "      <td>orchidee</td>\n",
       "      <td>orchidee-giss-ecearth</td>\n",
       "      <td>False</td>\n",
       "      <td>False</td>\n",
       "    </tr>\n",
       "  </tbody>\n",
       "</table>\n",
       "</div>"
      ],
      "text/plain": [
       "                   name_1  iso  id_1                  name_1  \\\n",
       "0        Ciudad de México  MEX     9        Ciudad de México   \n",
       "1            L'Artibonite  HTI     3            L'Artibonite   \n",
       "2               Atlántida  HND     1               Atlántida   \n",
       "3                   Colón  HND     3                   Colón   \n",
       "4  Upper Demerara-Berbice  GUY     9  Upper Demerara-Berbice   \n",
       "\n",
       "          engtype_1 variable  SWL_info  count       max       min      mean  \\\n",
       "0  Federal District    cSoil       1.5      3  9.999629  5.903975  8.440266   \n",
       "1        Department    cSoil       1.5      6  4.599074  1.839996  3.358963   \n",
       "2        Department    cSoil       1.5      5  7.771445  5.581614  6.300231   \n",
       "3        Department    cSoil       1.5      9  7.171936  5.421208  6.181699   \n",
       "4            Region    cSoil       1.5     11  6.191456  4.655702  5.380422   \n",
       "\n",
       "        std impact_tag institution model_long_name model_short_name  \\\n",
       "0  1.809122        eco        LSCE        ORCHIDEE         orchidee   \n",
       "1  0.888974        eco        LSCE        ORCHIDEE         orchidee   \n",
       "2  0.789679        eco        LSCE        ORCHIDEE         orchidee   \n",
       "3  0.568947        eco        LSCE        ORCHIDEE         orchidee   \n",
       "4  0.418534        eco        LSCE        ORCHIDEE         orchidee   \n",
       "\n",
       "          model_taxonomy is_multi_model_summary is_seasonal  \n",
       "0  orchidee-giss-ecearth                  False       False  \n",
       "1  orchidee-giss-ecearth                  False       False  \n",
       "2  orchidee-giss-ecearth                  False       False  \n",
       "3  orchidee-giss-ecearth                  False       False  \n",
       "4  orchidee-giss-ecearth                  False       False  "
      ]
     },
     "execution_count": 27,
     "metadata": {},
     "output_type": "execute_result"
    }
   ],
   "source": [
    "df = pd.DataFrame(stats_per_file, columns=keys)\n",
    "df.head()"
   ]
  },
  {
   "cell_type": "code",
   "execution_count": null,
   "metadata": {
    "collapsed": false
   },
   "outputs": [],
   "source": []
  },
  {
   "cell_type": "code",
   "execution_count": 29,
   "metadata": {
    "collapsed": true
   },
   "outputs": [],
   "source": [
    "df.to_csv('./processed/raw_output.csv')"
   ]
  },
  {
   "cell_type": "markdown",
   "metadata": {},
   "source": [
    "Next steps:\n",
    "\n",
    "* Need to ensure this can handel any admin1 shapefiles\n",
    "    - Done, but big slowdown (2 min per layer)\n",
    "* Need to paraellise this so it will run in a convienient time\n",
    "* Need to check that the regex changes Alex applied post-table creation are included"
   ]
  },
  {
   "cell_type": "code",
   "execution_count": null,
   "metadata": {
    "collapsed": true
   },
   "outputs": [],
   "source": []
  },
  {
   "cell_type": "code",
   "execution_count": null,
   "metadata": {
    "collapsed": true
   },
   "outputs": [],
   "source": []
  },
  {
   "cell_type": "code",
   "execution_count": 3,
   "metadata": {
    "collapsed": false
   },
   "outputs": [],
   "source": [
    "import cartoframes"
   ]
  },
  {
   "cell_type": "code",
   "execution_count": null,
   "metadata": {
    "collapsed": false
   },
   "outputs": [],
   "source": [
    "shps.keys()"
   ]
  },
  {
   "cell_type": "code",
   "execution_count": null,
   "metadata": {
    "collapsed": true
   },
   "outputs": [],
   "source": [
    "with open(\".env\") as f:\n",
    "    key = f.read()\n",
    "api_key = key.split('API_KEY=')[1].split()[0]\n",
    "\n",
    "'helixscope'"
   ]
  },
  {
   "cell_type": "code",
   "execution_count": 25,
   "metadata": {
    "collapsed": false
   },
   "outputs": [],
   "source": [
    "CF = cartoframes.CartoContext(\n",
    "    creds=cartoframes.Credentials(username='pycones03', key=api_key)\n",
    ")"
   ]
  },
  {
   "cell_type": "code",
   "execution_count": null,
   "metadata": {
    "collapsed": false
   },
   "outputs": [],
   "source": [
    "CF.write(boundaries, 'uk_boundaries', overwrite=True)"
   ]
  },
  {
   "cell_type": "code",
   "execution_count": null,
   "metadata": {
    "collapsed": true
   },
   "outputs": [],
   "source": [
    "CF.map(layers=[\n",
    "    cartoframes.BaseMap('light'),\n",
    "    cartoframes.Layer('uk_boundaries'),\n",
    "], interactive=True)\n",
    "\n",
    "CF.map(layers=[\n",
    "    cartoframes.BaseMap('light'),\n",
    "    cartoframes.Layer('trump',\n",
    "        color={'column': 'trump_haters',\n",
    "               'scheme': cartoframes.styling.sunset(5)}),\n",
    "], interactive=True)\n",
    "\n",
    "\n",
    "uk_pop = [{'numer_id': 'uk.ons.LC2102EW0001', 'normalization': 'prenormalized'}]\n",
    "augmented = CF.data_augment('trump', uk_pop)\n",
    "augmented.head()"
   ]
  }
 ],
 "metadata": {
  "kernelspec": {
   "display_name": "Python 3",
   "language": "python",
   "name": "python3"
  },
  "language_info": {
   "codemirror_mode": {
    "name": "ipython",
    "version": 3
   },
   "file_extension": ".py",
   "mimetype": "text/x-python",
   "name": "python",
   "nbconvert_exporter": "python",
   "pygments_lexer": "ipython3",
   "version": "3.5.3"
  }
 },
 "nbformat": 4,
 "nbformat_minor": 2
}
