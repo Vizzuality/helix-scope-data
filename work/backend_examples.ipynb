{
 "cells": [
  {
   "cell_type": "markdown",
   "metadata": {},
   "source": [
    "# Helixscope Developer Notebook\n",
    "\n",
    "This notebook explains the metadata and back-end queries required to build the Helixscope project. The project depends on the `helixscope` carto account: [helixscope.carto.com](helixscope.carto.com). In this account we have several shapefiles:\n",
    "\n",
    "* gadm28_countries : *admin0 level geometries (these may possibly not be needed)*\n",
    "* good_five_grid   : *a 5x5 degree grid intersected with natural earth landcover polygons, which will be the basis for the choropleth map.*\n",
    "\n",
    "and several tables:\n",
    "* master_admin0 : *The admin-0 (country-level) table holding processed data for all helixscope datasets. This will be needed to build the COUNTRY PAGES*\n",
    "* master_5x5 : *The 5x5 degree gridded data, needed to build the map. This contains a SUBSET of the helixscope data only. - just the data which should be mapped.*\n",
    "\n",
    "Note that the `master_5x5` and `master_admin0` data tables contain values for `mean`, `min`, `max`, and `std` for almost all data. (The only exceptions are the flood data and agricultural data, which should only have `mean`, and shuld only appear on the country pages - and are only present in the `master_admin0` table.\n",
    "\n",
    "\n",
    "## JSON resouces\n",
    "\n",
    "Below are listed some required JSON mappings.\n",
    "\n",
    "\n",
    "#### Specific warming levels \n",
    "```json\n",
    "{'1.5':'1.5°C specific warming level',\n",
    " '2':'2°C specific warming level',\n",
    " '4':'4°C specific warming level',\n",
    " '6':'6°C specific warming level'}\n",
    "```\n",
    "\n",
    "#### Variables in master 5x5 table and their short names\n",
    "\n",
    "```json\n",
    "{\n",
    "    'amphibianobiodiversity':'Amphibian species richness - no dispersal',\n",
    "    'amphibiarealbiodiversity':'Amphibian species richness',\n",
    "    'birdnobiodiversity':'Bird species richness - no dispersal',\n",
    "    'birdrealbiodiversity':'Bird species richness',\n",
    "    'cSoil':'Soil carbon content',\n",
    "    'cVeg':'Vegetation biomass',\n",
    "    'evap':'Evapotranspiration',\n",
    "    'gpp':'Gross primary productivity',\n",
    "    'mammalnobiodiversity':'Mammalian species richness remaining - no dispersal',\n",
    "    'mammalrealbiodiversity':'Mammalian species richness',\n",
    "    'nbp':'Net Biome productivity',\n",
    "    'perc_change_low_roff':'10th percentile runoff production',\n",
    "    'perc_change_roff':'Runoff production',\n",
    "    'pr':'Precipitation',\n",
    "    'reptilenobiodiversity':'Reptile species richness - no dispersal',\n",
    "    'reptilerealbiodiversity':'Reptile species richness',\n",
    "    'time_perc_change_SPI48':'',\n",
    "    'time_perc_change_SPI6':'',\n",
    "    'time_perc_change_SRI48':'Time change under drought conditions from SRI48',\n",
    "    'time_perc_change_SRI6':'Time change under drought conditions from SRI6',\n",
    "    'tn':'Minimum temperature',\n",
    "    'ts':'Annual temperature',\n",
    "    'tx':'Maximum temperature',\n",
    "}\n",
    "```\n",
    "\n",
    "\n",
    "#### Variables in master_5x5 table and their long names\n",
    "\n",
    "`variable`, and their human-readable long description\n",
    "\n",
    "```json\n",
    "{\n",
    "    'reptilenobiodiversity':\"Reptile species richness remaining - no dispersal (%)\",\n",
    "    'birdnobiodiversity':\"Bird species richness remaining - no dispersal (%)\",\n",
    "    'amphibianobiodiversity':\"Amphibian species richness remaining - no dispersal (%)\",\n",
    "    'mammalrealbiodiversity':\"Mammalian species richness remaining - real dispersal (%)\",\n",
    "    'mammalnobiodiversity':\"Mammalian species richness remaining - no dispersal (%)\",\n",
    "    'birdrealbiodiversity': \"Bird species richness remaining - real dispersal (%)\",\n",
    "    'amphibiarealbiodiversity':\"Amphibian species richness remaining - real dispersal (%)\",\n",
    "    'reptilerealbiodiversity':\"Reptile species richness remaining - real dispersal (%)\",\n",
    "    'tx':\"Annual maximum temperature (Celsius)\",\n",
    "    'pr':\"Precipitation (mm)\",\n",
    "    'ts':\"Annual temperature (Celsius)\",\n",
    "    'tn':\"Annual minimum temperature (Celsius)\",\n",
    "    'perc_change_roff':\"Relative (%) change in mean runoff production, derived from daily runoff data\",\n",
    "    'perc_change_low_roff':\"Relative (%) change in 10th percentile runoff production, derived from daily runoff data\",\n",
    "    'time_perc_change_SPI6':\"Relative (%) change in time under drought conditions, defined as the sum of months with 6-month Standardised Precipitation Index (SPI6) below the value -1.5\",\n",
    "    'time_perc_change_SPI48':\"Relative (%) change in time under drought conditions, defined as the sum of months with 48-month Standardised Precipitation Index (SPI48) below the value -1.5\",\n",
    "    'time_perc_change_SRI48':\"Relative (%) change in time under drought conditions, defined as the sum of months with 48-month Standardised Runoff Index (SRI48) below the value -1.5\",\n",
    "    'time_perc_change_SRI6':\"Relative (%) change in time under drought conditions, defined as the sum of months with 6-month Standardised Runoff Index (SRI6) below the value -1.5\",\n",
    "    'cSoil':\"Soil carbon content (kg m-2)\",\n",
    "    'gpp':\"Gross Primary Productivity (gC m-2 yr-1)\",\n",
    "    'evap':'Evapotranspiration (kg m-2 yr-1)',\n",
    "    'nbp':\"Net Biome productivity (gC m-2 yr-1)\",\n",
    "    'cVeg':\"Vegetation biomass (kg m-2)\",\n",
    "}\n",
    "\n",
    "```\n",
    "\n",
    "#### Variables in master_admin0 table and their short names\n",
    "\n",
    "`variable` human-readable value as a short name. The value should be exposed in menus and as titles.\n",
    "\n",
    "```json\n",
    "{\n",
    "'Maize_Irrigation_avoided_perc_change':'Maize yield change avoided by irrigation',\n",
    "'Maize_yield_perc_change':'Maize crop yield change',\n",
    "'Rice_Irrigation_avoided_perc_change':'Rice yield change avoided by irrigation',\n",
    "'Rice_yield_perc_change':'Rice crop yield change',\n",
    "'Soybeans_Irrigation_avoided_perc_change':'Soybeans yield change avoided by irrigation',\n",
    "'Soybeans_yield_perc_change':'Soybeans crop yield change',\n",
    "'Wheat_Irrigation_avoided_perc_change':'Wheat yield change avoided by irrigation',\n",
    "'Wheat_yield_perc_change':'Wheat crop yield change',\n",
    "'amphibianobiodiversity':'Amphibian species richness - no dispersal',\n",
    "'amphibiarealbiodiversity':'Amphibian species richness',\n",
    "'birdnobiodiversity':'Bird species richness - no dispersal',\n",
    "'birdrealbiodiversity':'Bird species richness',\n",
    "'evap':'Evapotranspiration',\n",
    "'cSoil':\"Soil carbon content\",\n",
    "'cVeg':'Vegetation biomass',\n",
    "'gpp':'Gross primary productivity',\n",
    "'mammalnobiodiversity':'Mammalian species richness remaining - no dispersal',\n",
    "'mammalrealbiodiversity':'Mammalian species richness',\n",
    "'nbp':'Net Biome productivity',\n",
    "'perc_change_low_roff':'10th percentile runoff production',\n",
    "'perc_change_roff':'Runoff production',\n",
    "'pr':'Precipitation',\n",
    "'reptilenobiodiversity':'Reptile species richness - no dispersal',\n",
    "'reptilerealbiodiversity':'Reptile species richness',\n",
    "'river_floods_ExpDam':'Damage from river flooding',\n",
    "'river_floods_PopAff': 'Population affected by river flooding',\n",
    "'time_perc_change_SPI48':'',\n",
    "'time_perc_change_SPI6':'',\n",
    "'time_perc_change_SRI48':'Time change under drought conditions from SRI48',\n",
    "'time_perc_change_SRI6':'Time change under drought conditions from SRI6',\n",
    "'tn':'Minimum temperature',\n",
    "'tx':'Maximum temperature',\n",
    "'ts':\"Annual temperature\",\n",
    "}\n",
    "```\n",
    "\n",
    "\n",
    "#### master_admin0 table variables and a long human readable description\n",
    "\n",
    "\n",
    "```json\n",
    "{\n",
    "    'Maize_Irrigation_avoided_perc_change':'Relative (%) change in maize crop yield avoided by irrigation',\n",
    "    'Maize_yield_perc_change':'Relative (%) change in maize crop yield',\n",
    "    'Rice_Irrigation_avoided_perc_change':'Relative (%) change in rice crop yield avoided by irrigation',\n",
    "    'Rice_yield_perc_change':'Relative (%) change in rice crop yield',\n",
    "    'Soybeans_Irrigation_avoided_perc_change':'Relative (%) change in soybean crop yield avoided by irrigation',\n",
    "    'Soybeans_yield_perc_change':'Relative (%) change in soybean crop yield',\n",
    "    'Wheat_Irrigation_avoided_perc_change':'Relative (%) change in wheat crop yield avoided by irrigation',\n",
    "    'Wheat_yield_perc_change':'Relative (%) change in wheat crop yield',\n",
    "    'amphibianobiodiversity':'Amphibian species richness remaining - no dispersal (%)',\n",
    "    'amphibiarealbiodiversity':'Amphibian species richness remaining - real dispersal (%)',\n",
    "    'birdnobiodiversity':'Bird species richness remaining - no dispersal (%)',\n",
    "    'birdrealbiodiversity':'Bird species richness remaining - real dispersal (%)',\n",
    "    'cSoil':\"Soil carbon content (kg m-2)\",\n",
    "    'cVeg':'Vegetation biomass (kg m-2)',\n",
    "    'evap':'Evapotranspiration (kg m-2 yr-1)',\n",
    "    'gpp':'Gross Primary Productivity (gC m-2 yr-1)',\n",
    "    'mammalnobiodiversity':'Mammalian species richness remaining - no dispersal (%)',\n",
    "    'mammalrealbiodiversity':'Mammalian species richness remaining - real dispersal (%)',\n",
    "    'nbp':'Net Biome productivity (gC m-2 yr-1)',\n",
    "    'perc_change_low_roff':'Relative (%) change in 10th percentile runoff production, derived from daily runoff data',\n",
    "    'perc_change_roff':'Relative (%) change in mean runoff production, derived from daily runoff data',\n",
    "    'pr':'Precipitation (mm)',\n",
    "    'reptilenobiodiversity':'Reptile species richness remaining - no dispersal (%)',\n",
    "    'reptilerealbiodiversity':'Reptile species richness remaining - real dispersal (%)',\n",
    "    'river_floods_ExpDam':'Direct expected damage per year from river flooding in Euros (2010 values) relative to baseline values (average 1976–2005), from multi-model averages based on EC-EARTH r1 to r7.',\n",
    "    'river_floods_PopAff':'Number of people affected per year from river flooding relative to baseline values (average 1976–2005), from multi-model averages based on EC-EARTH r1 to r7.',\n",
    "    'time_perc_change_SPI48':'Relative (%) change in time under drought conditions, defined as the sum of months with 48-month Standardised Precipitation Index (SPI48) below the value -1.5',\n",
    "    'time_perc_change_SPI6':'Relative (%) change in time under drought conditions, defined as the sum of months with 6-month Standardised Precipitation Index (SPI6) below the value -1.5',\n",
    "    'time_perc_change_SRI48':'Relative (%) change in time under drought conditions, defined as the sum of months with 48-month Standardised Runoff Index (SRI48) below the value -1.5',\n",
    "    'time_perc_change_SRI6':'Relative (%) change in time under drought conditions, defined as the sum of months with 6-month Standardised Runoff Index (SRI6) below the value -1.5',\n",
    "    'tn':'Annual minimum temperature (Celsius)',\n",
    "    'ts':\"Annual temperature (Celsius)\",\n",
    "    'tx':'Annual maximum temperature (Celsius)',\n",
    "}\n",
    "```\n",
    "\n",
    "#### impact_tag and human readable version for menus\n",
    "\n",
    "```json\n",
    "{\n",
    "'bd':'Biodiversity',\n",
    "'w':'Water',\n",
    "'eco':'Ecosystem',\n",
    "'ag':'Agriculture',\n",
    "'cl':'Climate',\n",
    "}\n",
    "```\n",
    "\n",
    "\n",
    "### Tool-tip widget\n",
    "\n",
    "The choropleth map will require a pop-up containing some dynamic text, and a widget. The widget is meant to convey the range of model results for a given cell.\n",
    "It will need to include:\n",
    "\n",
    "* a title indicating the human readable variable name and SWL info\n",
    "* values by model\n",
    "* a box-plot fit to those values\n",
    "* a dynamic sentence explaining basic info\n",
    "\n",
    "All the data componenets required to build this tooltip should be found inside this notebook.\n",
    "\n",
    "![](./pics/tooltip.png)"
   ]
  },
  {
   "cell_type": "code",
   "execution_count": 1,
   "metadata": {
    "collapsed": true
   },
   "outputs": [],
   "source": [
    "import folium\n",
    "import pprint\n",
    "import requests\n",
    "import json"
   ]
  },
  {
   "cell_type": "markdown",
   "metadata": {},
   "source": [
    "### Generate Choropleths \n",
    "\n",
    "Originall, the design intended to use admin-0 level choropleths based. This is no longer the idea, BUT incase you need to create them, you can do so using the carto Maps API with queries structured as below:"
   ]
  },
  {
   "cell_type": "code",
   "execution_count": 66,
   "metadata": {
    "collapsed": false,
    "scrolled": false
   },
   "outputs": [
    {
     "name": "stdout",
     "output_type": "stream",
     "text": [
      "WITH data as (SELECT * FROM master_admin0 Where variable like 'tx' AND swl_info = '2') SELECT gadm28_countries.iso, gadm28_countries.the_geom_webmercator, gadm28_countries.cartodb_id, mean from data inner join gadm28_countries on data.iso=gadm28_countries.iso\n",
      "https://helixscope.carto.com/api/v1/map\n"
     ]
    },
    {
     "data": {
      "text/plain": [
       "<folium.map.TileLayer at 0x7fcc4a8ad7b8>"
      ]
     },
     "execution_count": 66,
     "metadata": {},
     "output_type": "execute_result"
    }
   ],
   "source": [
    "table_name = 'master_admin0'\n",
    "var_name = 'tx'\n",
    "swl_var = '2'\n",
    "shapefile = 'gadm28_countries'\n",
    "attribute = 'mean'\n",
    "\n",
    "query=(\"WITH data as (SELECT * FROM {0} \"\n",
    "         \"Where variable like '{1}' \"\n",
    "         \"AND swl_info = '{2}') \"\n",
    "         \"SELECT {3}.iso, {3}.the_geom_webmercator, \"\n",
    "         \"{3}.cartodb_id, {4} from data inner join {3} \"\n",
    "         \"on data.iso={3}.iso\".format(\n",
    "             table_name, var_name, swl_var, shapefile, attribute))\n",
    "\n",
    "print(query)\n",
    "\n",
    "style = \"\"\"#layer {polygon-fill: ramp([mean], colorbrewer(RdYlBu), equal(10));\n",
    "                   polygon-opacity: 0.9;}\"\"\"\n",
    "\n",
    "account = 'helixscope'\n",
    "urlCarto = 'https://'+account+'.carto.com/api/v1/map'\n",
    "body = {\n",
    "    \"layers\": [{\n",
    "        \"type\": \"cartodb\",\n",
    "        \"options\": {\n",
    "            \"sql\": query,\n",
    "            \"cartocss\":style,\n",
    "            \"cartocss_version\": \"2.1.1\"\n",
    "        }\n",
    "    }]\n",
    "}\n",
    "\n",
    "r = requests.post(urlCarto, data=json.dumps(body), headers={'content-type': 'application/json; charset=UTF-8'})\n",
    "print(r.url)\n",
    "#pprint.pprint(r.json())\n",
    "\n",
    "tileUrl = 'https://'+account+'.carto.com/api/v1/map/' + r.json()['layergroupid'] + '/{z}/{x}/{y}.png32';\n",
    "\n",
    "map_osm2 = folium.Map(location=[45.5236, 0.6750], zoom_start=3, tiles=\"CartoDB\", attr='random')\n",
    "folium.TileLayer(\n",
    "    tiles=tileUrl,\n",
    "    attr='text',\n",
    "    name='text',\n",
    "    overlay=True\n",
    ").add_to(map_osm2)\n",
    "\n",
    "#map_osm2"
   ]
  },
  {
   "cell_type": "markdown",
   "metadata": {},
   "source": [
    "![](./pics/eg0.png)"
   ]
  },
  {
   "cell_type": "markdown",
   "metadata": {},
   "source": [
    "### Example of 5 x 5 grid\n",
    "\n",
    "The choropleth maps should all be based on the following query:"
   ]
  },
  {
   "cell_type": "code",
   "execution_count": 67,
   "metadata": {
    "collapsed": false,
    "scrolled": false
   },
   "outputs": [
    {
     "name": "stdout",
     "output_type": "stream",
     "text": [
      "WITH data as (SELECT * FROM master_5x5 Where variable like 'tx' AND swl_info = '4') SELECT good_five_grid.id_val, good_five_grid.the_geom_webmercator, good_five_grid.cartodb_id, mean from data inner join good_five_grid on data.shape_id=good_five_grid.id_val\n",
      "https://helixscope.carto.com/api/v1/map\n"
     ]
    },
    {
     "data": {
      "text/plain": [
       "<folium.map.TileLayer at 0x7fcc4a8f5710>"
      ]
     },
     "execution_count": 67,
     "metadata": {},
     "output_type": "execute_result"
    }
   ],
   "source": [
    "table_name = 'master_5x5'\n",
    "var_name = 'tx'\n",
    "swl_var = '4'\n",
    "shapefile = 'good_five_grid'\n",
    "attribute = 'mean'   # Possible attributes here are 'max', 'min','mean','std'\n",
    "\n",
    "query=(\"WITH data as (SELECT * FROM {0} \"\n",
    "         \"Where variable like '{1}' \"\n",
    "         \"AND swl_info = '{2}') \"\n",
    "         \"SELECT {3}.id_val, {3}.the_geom_webmercator, \"\n",
    "         \"{3}.cartodb_id, {4} from data inner join {3} \"\n",
    "         \"on data.shape_id={3}.id_val\".format(\n",
    "             table_name, var_name, swl_var, shapefile, attribute))\n",
    "\n",
    "print(query)\n",
    "\n",
    "\n",
    "style = \"\"\"#layer {polygon-fill: ramp([mean], colorbrewer(RdYlBu), equal(10));\n",
    "                   polygon-opacity: 0.9;}\"\"\"\n",
    "\n",
    "account = 'helixscope'\n",
    "urlCarto = 'https://'+account+'.carto.com/api/v1/map'\n",
    "body = {\n",
    "    \"layers\": [{\n",
    "        \"type\": \"cartodb\",\n",
    "        \"options\": {\n",
    "            \"sql\": query,\n",
    "            \"cartocss\":style,\n",
    "            \"cartocss_version\": \"2.1.1\"\n",
    "        }\n",
    "    }]\n",
    "}\n",
    "\n",
    "r = requests.post(urlCarto, data=json.dumps(body), headers={'content-type': 'application/json; charset=UTF-8'})\n",
    "print(r.url)\n",
    "#pprint.pprint(r.json())\n",
    "\n",
    "tileUrl = 'https://'+account+'.carto.com/api/v1/map/' + r.json()['layergroupid'] + '/{z}/{x}/{y}.png32';\n",
    "\n",
    "map_osm_grid = folium.Map(location=[45.5236, 0.6750], zoom_start=3, tiles=\"CartoDB\", attr='random')\n",
    "folium.TileLayer(\n",
    "    tiles=tileUrl,\n",
    "    attr='text',\n",
    "    name='text',\n",
    "    overlay=True\n",
    ").add_to(map_osm_grid)\n",
    "\n",
    "#map_osm_grid"
   ]
  },
  {
   "cell_type": "markdown",
   "metadata": {},
   "source": [
    "![](./pics/eg_admin0.png)"
   ]
  },
  {
   "cell_type": "markdown",
   "metadata": {},
   "source": [
    "### Example of Calling Country-wide data Tables"
   ]
  },
  {
   "cell_type": "code",
   "execution_count": 3,
   "metadata": {
    "collapsed": false
   },
   "outputs": [
    {
     "name": "stdout",
     "output_type": "stream",
     "text": [
      "https://helixscope.carto.com/api/v2/sql?q=SELECT+iso%2C+mean%2C+max%2C+count%2C+min%2C+std%2C+model_long_name%2C+model_short_name%2C+model_taxonomy%0A++++FROM+master_admin0%0A++++Where+swl_info+%3D+%274%27%0A++++AND+season+%3D+%27MAM%27%0A++++AND+model_short_name+%3D+%27HADGEM3%27%0A++++AND+run+%3D+1%0A++++LIMIT+3%0A\n",
      "{'fields': {'count': {'type': 'number'},\n",
      "            'iso': {'type': 'string'},\n",
      "            'max': {'type': 'number'},\n",
      "            'mean': {'type': 'number'},\n",
      "            'min': {'type': 'number'},\n",
      "            'model_long_name': {'type': 'string'},\n",
      "            'model_short_name': {'type': 'string'},\n",
      "            'model_taxonomy': {'type': 'string'},\n",
      "            'std': {'type': 'number'}},\n",
      " 'rows': [{'count': 382,\n",
      "           'iso': 'NOR',\n",
      "           'max': 14.35,\n",
      "           'mean': 8.33,\n",
      "           'min': 1.04,\n",
      "           'model_long_name': 'HADGEM3-R1',\n",
      "           'model_short_name': 'HADGEM3',\n",
      "           'model_taxonomy': 'HADGEM3',\n",
      "           'std': 2.71},\n",
      "          {'count': 1,\n",
      "           'iso': 'TKL',\n",
      "           'max': 34.12,\n",
      "           'mean': 34.12,\n",
      "           'min': 34.12,\n",
      "           'model_long_name': 'HADGEM3-R1',\n",
      "           'model_short_name': 'HADGEM3',\n",
      "           'model_taxonomy': 'HADGEM3',\n",
      "           'std': 0},\n",
      "          {'count': 250,\n",
      "           'iso': 'THA',\n",
      "           'max': 40.85,\n",
      "           'mean': 37.92,\n",
      "           'min': 32.85,\n",
      "           'model_long_name': 'HADGEM3-R1',\n",
      "           'model_short_name': 'HADGEM3',\n",
      "           'model_taxonomy': 'HADGEM3',\n",
      "           'std': 1.75}],\n",
      " 'time': 0.082,\n",
      " 'total_rows': 3}\n"
     ]
    }
   ],
   "source": [
    "swl_variable = '4'\n",
    "climate_variable = 'tx'\n",
    "data_table = 'master_amin0'\n",
    "\n",
    "query = \"\"\"SELECT iso, mean, max, count, min, std, model_long_name, model_short_name, model_taxonomy\n",
    "    FROM master_admin0\n",
    "    Where swl_info = '4'\n",
    "    AND season = 'MAM'\n",
    "    AND model_short_name = 'HADGEM3'\n",
    "    AND run = 1\n",
    "    LIMIT 3\n",
    "\"\"\"\n",
    "\n",
    "account = 'helixscope'\n",
    "urlCarto = \"https://{0}.carto.com/api/v2/sql\".format(account)\n",
    "\n",
    "sql = {\"q\": query}\n",
    "r = requests.get(urlCarto, params=sql)\n",
    "print(r.url)\n",
    "pprint.pprint(r.json())"
   ]
  },
  {
   "cell_type": "markdown",
   "metadata": {},
   "source": [
    "## notes + dev past this point"
   ]
  },
  {
   "cell_type": "code",
   "execution_count": null,
   "metadata": {
    "collapsed": true
   },
   "outputs": [],
   "source": []
  },
  {
   "cell_type": "code",
   "execution_count": null,
   "metadata": {
    "collapsed": true
   },
   "outputs": [],
   "source": []
  },
  {
   "cell_type": "code",
   "execution_count": null,
   "metadata": {
    "collapsed": true
   },
   "outputs": [],
   "source": []
  },
  {
   "cell_type": "code",
   "execution_count": null,
   "metadata": {
    "collapsed": false,
    "scrolled": false
   },
   "outputs": [],
   "source": [
    "swl_variable = '1.5'\n",
    "climate_variable = 'cSoil'\n",
    "data_table = 'joined_summaries_2017_08_27'\n",
    "\n",
    "query = \"\"\"WITH data as (SELECT * FROM master_admin0\n",
    " Where variable like 'cSoil'\n",
    " AND swl_info = '1.5')\n",
    " SELECT gadm28_countries.iso2, gadm28_countries.the_geom_webmercator,\n",
    " gadm28_countries.cartodb_id, mean as mean from data inner join gadm28_countries \n",
    " on data.iso2=gadm28_countries.iso2\n",
    "\"\"\"\n",
    "\n",
    "style = \"\"\"#layer {polygon-fill: ramp([mean], colorbrewer(Reds), jenks());\n",
    "                   polygon-opacity: 0.9;}\"\"\"\n",
    "\n",
    "account = 'helixscope'\n",
    "urlCarto = 'https://'+account+'.carto.com/api/v1/map'\n",
    "body = {\n",
    "    \"layers\": [{\n",
    "        \"type\": \"cartodb\",\n",
    "        \"options\": {\n",
    "            \"sql\": query,\n",
    "            \"cartocss\":style,\n",
    "            \"cartocss_version\": \"2.1.1\"\n",
    "        }\n",
    "    }]\n",
    "}\n",
    "\n",
    "r = requests.post(urlCarto, data=json.dumps(body), headers={'content-type': 'application/json; charset=UTF-8'})\n",
    "print(r.url)\n",
    "pprint.pprint(r.json())\n",
    "\n",
    "tileUrl = 'https://'+account+'.carto.com/api/v1/map/' + r.json()['layergroupid'] + '/{z}/{x}/{y}.png32';\n",
    "\n",
    "map_osm_test = folium.Map(location=[45.5236, 0.6750], zoom_start=3)\n",
    "folium.TileLayer(\n",
    "    tiles=tileUrl,\n",
    "    attr='text',\n",
    "    name='text',\n",
    "    overlay=True\n",
    ").add_to(map_osm_test)\n",
    "\n",
    "map_osm_test"
   ]
  },
  {
   "cell_type": "code",
   "execution_count": null,
   "metadata": {
    "collapsed": true
   },
   "outputs": [],
   "source": []
  },
  {
   "cell_type": "code",
   "execution_count": null,
   "metadata": {
    "collapsed": true
   },
   "outputs": [],
   "source": []
  },
  {
   "cell_type": "code",
   "execution_count": null,
   "metadata": {
    "collapsed": true
   },
   "outputs": [],
   "source": [
    "import geopandas as gpd"
   ]
  },
  {
   "cell_type": "code",
   "execution_count": null,
   "metadata": {
    "collapsed": true
   },
   "outputs": [],
   "source": [
    "s = gpd.read_file('./data/gadm28_countries/')"
   ]
  },
  {
   "cell_type": "code",
   "execution_count": null,
   "metadata": {
    "collapsed": false
   },
   "outputs": [],
   "source": [
    "s.head()"
   ]
  },
  {
   "cell_type": "code",
   "execution_count": null,
   "metadata": {
    "collapsed": false
   },
   "outputs": [],
   "source": [
    "s[s.iso == 'SSD']"
   ]
  },
  {
   "cell_type": "markdown",
   "metadata": {},
   "source": [
    "## Example of retrieving data JSON\n",
    "\n",
    "This will be necessary to build widgets attached to the data."
   ]
  },
  {
   "cell_type": "code",
   "execution_count": null,
   "metadata": {
    "collapsed": false
   },
   "outputs": [],
   "source": [
    "# example of getting the raw data\n",
    "\n",
    "swl_variable = '1.5'\n",
    "climate_variable = 'cSoil'\n",
    "data_table = 'joined_summaries_2017_08_27'\n",
    "\n",
    "query = \"\"\"SELECT iso2, mean, max, count, min, std, model_long_name, model_short_name, model_taxonomy\n",
    " FROM joined_summaries_2017_08_27\n",
    " Where variable like 'cSoil'\n",
    " AND swl_info = '1.5'\n",
    "\"\"\"\n",
    "\n",
    "account = 'helixscope'\n",
    "urlCarto = \"https://{0}.carto.com/api/v2/sql\".format(account)\n",
    "\n",
    "sql = {\"q\": query}\n",
    "r = requests.get(urlCarto, params=sql)\n",
    "print(r.url)\n",
    "pprint.pprint(r.json())"
   ]
  },
  {
   "cell_type": "code",
   "execution_count": null,
   "metadata": {
    "collapsed": true
   },
   "outputs": [],
   "source": []
  },
  {
   "cell_type": "markdown",
   "metadata": {
    "collapsed": true
   },
   "source": [
    "## Example of valid queries\n",
    "\n",
    "Example of how to get the average over multiple runs of the same model, for a specific country (ES), for a specific SWL (1.5), for a specific variable (perc_change_roff).\n",
    "\n",
    "```sql\n",
    "SELECT iso2, variable, model_taxonomy, COUNT(helix_data.mean) num_runs, AVG(helix_data.mean) as model_mean, AVG(helix_data.max) as model_max\n",
    "FROM helix_data\n",
    "WHERE swl_info = '1.5'\n",
    "AND iso2 = 'ES'\n",
    "AND variable = 'perc_change_roff'\n",
    "GROUP BY iso2, variable, model_taxonomy\n",
    "```\n",
    "\n",
    "\n",
    "Get all individual model values (multiple models and multiple runs) for a specific country, SWL, variable, returning metadata for the model taxnomy too.\n",
    "\n",
    "```sql\n",
    "SELECT iso2, model_taxonomy, run, variable, helix_data.mean as country_mean, helix_data.max as country_max\n",
    "FROM helix_data\n",
    "WHERE swl_info = '1.5'\n",
    "AND iso2 = 'ES'\n",
    "AND variable = 'perc_change_roff'\n",
    "GROUP BY iso2, variable, model_taxonomy, mean, max, run\n",
    "```\n",
    "\n",
    "\n",
    "Get single average over all countries for a specific SWL, and specific variable (to create choropleth).\n",
    "\n",
    "```sql\n",
    "SELECT iso2, variable, AVG(helix_data.mean) as country_mean, AVG(helix_data.max) as country_max\n",
    "FROM helix_data\n",
    "WHERE swl_info = '1.5'\n",
    "AND variable = 'cSoil'\n",
    "GROUP BY iso2, variable\n",
    "\n",
    "```\n",
    "\n",
    "Get data average across table\n",
    "\n",
    "```sql\n",
    "SELECT iso2, variable, AVG(helix_data.mean) as model_mean, AVG(helix_data.max) as model_max\n",
    "FROM joined_summaries_2017_08_27\n",
    "WHERE swl_info = '1.5'\n",
    "GROUP BY iso2, variable\n",
    "```"
   ]
  },
  {
   "cell_type": "code",
   "execution_count": null,
   "metadata": {
    "collapsed": true
   },
   "outputs": [],
   "source": []
  },
  {
   "cell_type": "code",
   "execution_count": null,
   "metadata": {
    "collapsed": true
   },
   "outputs": [],
   "source": []
  }
 ],
 "metadata": {
  "anaconda-cloud": {},
  "kernelspec": {
   "display_name": "Python 3",
   "language": "python",
   "name": "python3"
  },
  "language_info": {
   "codemirror_mode": {
    "name": "ipython",
    "version": 3
   },
   "file_extension": ".py",
   "mimetype": "text/x-python",
   "name": "python",
   "nbconvert_exporter": "python",
   "pygments_lexer": "ipython3",
   "version": "3.5.3"
  }
 },
 "nbformat": 4,
 "nbformat_minor": 2
}
